{
 "cells": [
  {
   "cell_type": "markdown",
   "metadata": {},
   "source": [
    "# Project description"
   ]
  },
  {
   "cell_type": "markdown",
   "metadata": {},
   "source": [
    "You work in the Strimchik online store, which sells computer games all over the world. Historical game sales data, user and expert ratings, genres and platforms (such as Xbox or PlayStation) are available from public sources. You need to identify the patterns that determine the success of the game. This will allow you to bid on a potentially popular product and plan advertising campaigns. Here is the data up to 2016. Let's say it's December 2016 and you're planning a campaign for 2017. It is necessary to work out the principle of working with data. It doesn't matter if you're forecasting 2017 sales from 2016 data or 2027 sales from 2026 data. The abbreviation ESRB (Entertainment Software Rating Board) is an association that determines the age rating of computer games in the data set. The ESRB evaluates game content and assigns it to an appropriate age rating, such as Mature, Toddler, or Teen."
   ]
  },
  {
   "cell_type": "markdown",
   "metadata": {},
   "source": [
    "# Data Description"
   ]
  },
  {
   "cell_type": "markdown",
   "metadata": {},
   "source": [
    "1. Name — name of the game\n",
    "2. Platform — gamepad\n",
    "3. Year_of_Release\n",
    "4. Genre\n",
    "5. NA_sales — sales in North America\n",
    "6. EU_sales — sales in Europe\n",
    "7. JP_sales — sales in Japan\n",
    "8. Other_sales — sales in other countries\n",
    "9. Critic_Score - max 100\n",
    "10. User_Score — max 10\n",
    "11. Rating — Entertainment Software Rating Board"
   ]
  },
  {
   "cell_type": "markdown",
   "metadata": {},
   "source": [
    "# [Opening a data file and examining general information](#begin)"
   ]
  },
  {
   "cell_type": "markdown",
   "metadata": {},
   "source": [
    "# [Data preparation](#preparation)"
   ]
  },
  {
   "cell_type": "markdown",
   "metadata": {},
   "source": [
    "# [Exploratory data analysis](#analis)"
   ]
  },
  {
   "cell_type": "markdown",
   "metadata": {},
   "source": [
    "# [Drawing up a portrait of the user of each region](#portret)"
   ]
  },
  {
   "cell_type": "markdown",
   "metadata": {},
   "source": [
    "# [Hypothesis testing](#gipoteza)"
   ]
  },
  {
   "cell_type": "markdown",
   "metadata": {},
   "source": [
    "- The average user ratings of the Xbox One and PC platforms are the same;\n",
    "- Average user ratings for Action and Sports genres are different."
   ]
  },
  {
   "cell_type": "markdown",
   "metadata": {},
   "source": [
    "# [General conclusion](#end)"
   ]
  },
  {
   "cell_type": "markdown",
   "metadata": {},
   "source": [
    "# Opening a data file and examining general information\n",
    "<a id='begin'></a>"
   ]
  },
  {
   "cell_type": "code",
   "execution_count": 1,
   "metadata": {},
   "outputs": [],
   "source": [
    "import pandas as pd\n",
    "import numpy as np\n",
    "import matplotlib.pyplot as plt\n",
    "import seaborn as sns\n",
    "\n",
    "from datetime import datetime\n",
    "from scipy import stats as st"
   ]
  },
  {
   "cell_type": "code",
   "execution_count": 2,
   "metadata": {},
   "outputs": [],
   "source": [
    "games = pd.read_csv('/datasets/games.csv')"
   ]
  },
  {
   "cell_type": "code",
   "execution_count": 3,
   "metadata": {},
   "outputs": [
    {
     "data": {
      "text/html": [
       "<div>\n",
       "<style scoped>\n",
       "    .dataframe tbody tr th:only-of-type {\n",
       "        vertical-align: middle;\n",
       "    }\n",
       "\n",
       "    .dataframe tbody tr th {\n",
       "        vertical-align: top;\n",
       "    }\n",
       "\n",
       "    .dataframe thead th {\n",
       "        text-align: right;\n",
       "    }\n",
       "</style>\n",
       "<table border=\"1\" class=\"dataframe\">\n",
       "  <thead>\n",
       "    <tr style=\"text-align: right;\">\n",
       "      <th></th>\n",
       "      <th>Name</th>\n",
       "      <th>Platform</th>\n",
       "      <th>Year_of_Release</th>\n",
       "      <th>Genre</th>\n",
       "      <th>NA_sales</th>\n",
       "      <th>EU_sales</th>\n",
       "      <th>JP_sales</th>\n",
       "      <th>Other_sales</th>\n",
       "      <th>Critic_Score</th>\n",
       "      <th>User_Score</th>\n",
       "      <th>Rating</th>\n",
       "    </tr>\n",
       "  </thead>\n",
       "  <tbody>\n",
       "    <tr>\n",
       "      <td>3001</td>\n",
       "      <td>Contra: Legacy of War</td>\n",
       "      <td>PS</td>\n",
       "      <td>1996.0</td>\n",
       "      <td>Shooter</td>\n",
       "      <td>0.37</td>\n",
       "      <td>0.25</td>\n",
       "      <td>0.00</td>\n",
       "      <td>0.04</td>\n",
       "      <td>NaN</td>\n",
       "      <td>NaN</td>\n",
       "      <td>NaN</td>\n",
       "    </tr>\n",
       "    <tr>\n",
       "      <td>16491</td>\n",
       "      <td>Ride</td>\n",
       "      <td>X360</td>\n",
       "      <td>2015.0</td>\n",
       "      <td>Racing</td>\n",
       "      <td>0.00</td>\n",
       "      <td>0.01</td>\n",
       "      <td>0.00</td>\n",
       "      <td>0.00</td>\n",
       "      <td>NaN</td>\n",
       "      <td>NaN</td>\n",
       "      <td>NaN</td>\n",
       "    </tr>\n",
       "    <tr>\n",
       "      <td>125</td>\n",
       "      <td>Red Dead Redemption</td>\n",
       "      <td>PS3</td>\n",
       "      <td>2010.0</td>\n",
       "      <td>Action</td>\n",
       "      <td>2.79</td>\n",
       "      <td>2.53</td>\n",
       "      <td>0.17</td>\n",
       "      <td>0.99</td>\n",
       "      <td>95.0</td>\n",
       "      <td>8.8</td>\n",
       "      <td>M</td>\n",
       "    </tr>\n",
       "    <tr>\n",
       "      <td>1831</td>\n",
       "      <td>Persona 4: Golden</td>\n",
       "      <td>PSV</td>\n",
       "      <td>2012.0</td>\n",
       "      <td>Role-Playing</td>\n",
       "      <td>0.36</td>\n",
       "      <td>0.23</td>\n",
       "      <td>0.38</td>\n",
       "      <td>0.15</td>\n",
       "      <td>93.0</td>\n",
       "      <td>9.2</td>\n",
       "      <td>M</td>\n",
       "    </tr>\n",
       "    <tr>\n",
       "      <td>8280</td>\n",
       "      <td>uDraw Studio: Instant Artist</td>\n",
       "      <td>Wii</td>\n",
       "      <td>2011.0</td>\n",
       "      <td>Misc</td>\n",
       "      <td>0.06</td>\n",
       "      <td>0.09</td>\n",
       "      <td>0.00</td>\n",
       "      <td>0.02</td>\n",
       "      <td>NaN</td>\n",
       "      <td>tbd</td>\n",
       "      <td>E</td>\n",
       "    </tr>\n",
       "    <tr>\n",
       "      <td>16556</td>\n",
       "      <td>Shijyou Saikyou no Deshi Kenichi: Gekitou! Rag...</td>\n",
       "      <td>PS2</td>\n",
       "      <td>2007.0</td>\n",
       "      <td>Fighting</td>\n",
       "      <td>0.00</td>\n",
       "      <td>0.00</td>\n",
       "      <td>0.01</td>\n",
       "      <td>0.00</td>\n",
       "      <td>NaN</td>\n",
       "      <td>NaN</td>\n",
       "      <td>NaN</td>\n",
       "    </tr>\n",
       "    <tr>\n",
       "      <td>15808</td>\n",
       "      <td>East India Company</td>\n",
       "      <td>PC</td>\n",
       "      <td>2009.0</td>\n",
       "      <td>Strategy</td>\n",
       "      <td>0.01</td>\n",
       "      <td>0.00</td>\n",
       "      <td>0.00</td>\n",
       "      <td>0.00</td>\n",
       "      <td>67.0</td>\n",
       "      <td>5.7</td>\n",
       "      <td>T</td>\n",
       "    </tr>\n",
       "    <tr>\n",
       "      <td>1353</td>\n",
       "      <td>NFL Street</td>\n",
       "      <td>PS2</td>\n",
       "      <td>2004.0</td>\n",
       "      <td>Sports</td>\n",
       "      <td>1.15</td>\n",
       "      <td>0.08</td>\n",
       "      <td>0.00</td>\n",
       "      <td>0.19</td>\n",
       "      <td>80.0</td>\n",
       "      <td>8.9</td>\n",
       "      <td>E</td>\n",
       "    </tr>\n",
       "    <tr>\n",
       "      <td>11141</td>\n",
       "      <td>The Weakest Link</td>\n",
       "      <td>PS</td>\n",
       "      <td>2001.0</td>\n",
       "      <td>Misc</td>\n",
       "      <td>0.05</td>\n",
       "      <td>0.03</td>\n",
       "      <td>0.00</td>\n",
       "      <td>0.01</td>\n",
       "      <td>63.0</td>\n",
       "      <td>7.2</td>\n",
       "      <td>E</td>\n",
       "    </tr>\n",
       "    <tr>\n",
       "      <td>12093</td>\n",
       "      <td>Fairy Tail: Zelef Kakusei</td>\n",
       "      <td>PSP</td>\n",
       "      <td>2012.0</td>\n",
       "      <td>Action</td>\n",
       "      <td>0.00</td>\n",
       "      <td>0.00</td>\n",
       "      <td>0.07</td>\n",
       "      <td>0.00</td>\n",
       "      <td>NaN</td>\n",
       "      <td>NaN</td>\n",
       "      <td>NaN</td>\n",
       "    </tr>\n",
       "  </tbody>\n",
       "</table>\n",
       "</div>"
      ],
      "text/plain": [
       "                                                    Name Platform  \\\n",
       "3001                               Contra: Legacy of War       PS   \n",
       "16491                                               Ride     X360   \n",
       "125                                  Red Dead Redemption      PS3   \n",
       "1831                                   Persona 4: Golden      PSV   \n",
       "8280                        uDraw Studio: Instant Artist      Wii   \n",
       "16556  Shijyou Saikyou no Deshi Kenichi: Gekitou! Rag...      PS2   \n",
       "15808                                 East India Company       PC   \n",
       "1353                                          NFL Street      PS2   \n",
       "11141                                   The Weakest Link       PS   \n",
       "12093                          Fairy Tail: Zelef Kakusei      PSP   \n",
       "\n",
       "       Year_of_Release         Genre  NA_sales  EU_sales  JP_sales  \\\n",
       "3001            1996.0       Shooter      0.37      0.25      0.00   \n",
       "16491           2015.0        Racing      0.00      0.01      0.00   \n",
       "125             2010.0        Action      2.79      2.53      0.17   \n",
       "1831            2012.0  Role-Playing      0.36      0.23      0.38   \n",
       "8280            2011.0          Misc      0.06      0.09      0.00   \n",
       "16556           2007.0      Fighting      0.00      0.00      0.01   \n",
       "15808           2009.0      Strategy      0.01      0.00      0.00   \n",
       "1353            2004.0        Sports      1.15      0.08      0.00   \n",
       "11141           2001.0          Misc      0.05      0.03      0.00   \n",
       "12093           2012.0        Action      0.00      0.00      0.07   \n",
       "\n",
       "       Other_sales  Critic_Score User_Score Rating  \n",
       "3001          0.04           NaN        NaN    NaN  \n",
       "16491         0.00           NaN        NaN    NaN  \n",
       "125           0.99          95.0        8.8      M  \n",
       "1831          0.15          93.0        9.2      M  \n",
       "8280          0.02           NaN        tbd      E  \n",
       "16556         0.00           NaN        NaN    NaN  \n",
       "15808         0.00          67.0        5.7      T  \n",
       "1353          0.19          80.0        8.9      E  \n",
       "11141         0.01          63.0        7.2      E  \n",
       "12093         0.00           NaN        NaN    NaN  "
      ]
     },
     "execution_count": 3,
     "metadata": {},
     "output_type": "execute_result"
    }
   ],
   "source": [
    "games.sample(10)"
   ]
  },
  {
   "cell_type": "code",
   "execution_count": 4,
   "metadata": {},
   "outputs": [
    {
     "data": {
      "text/html": [
       "<div>\n",
       "<style scoped>\n",
       "    .dataframe tbody tr th:only-of-type {\n",
       "        vertical-align: middle;\n",
       "    }\n",
       "\n",
       "    .dataframe tbody tr th {\n",
       "        vertical-align: top;\n",
       "    }\n",
       "\n",
       "    .dataframe thead th {\n",
       "        text-align: right;\n",
       "    }\n",
       "</style>\n",
       "<table border=\"1\" class=\"dataframe\">\n",
       "  <thead>\n",
       "    <tr style=\"text-align: right;\">\n",
       "      <th></th>\n",
       "      <th>Year_of_Release</th>\n",
       "      <th>NA_sales</th>\n",
       "      <th>EU_sales</th>\n",
       "      <th>JP_sales</th>\n",
       "      <th>Other_sales</th>\n",
       "      <th>Critic_Score</th>\n",
       "    </tr>\n",
       "  </thead>\n",
       "  <tbody>\n",
       "    <tr>\n",
       "      <td>count</td>\n",
       "      <td>16446.000000</td>\n",
       "      <td>16715.000000</td>\n",
       "      <td>16715.000000</td>\n",
       "      <td>16715.000000</td>\n",
       "      <td>16715.000000</td>\n",
       "      <td>8137.000000</td>\n",
       "    </tr>\n",
       "    <tr>\n",
       "      <td>mean</td>\n",
       "      <td>2006.484616</td>\n",
       "      <td>0.263377</td>\n",
       "      <td>0.145060</td>\n",
       "      <td>0.077617</td>\n",
       "      <td>0.047342</td>\n",
       "      <td>68.967679</td>\n",
       "    </tr>\n",
       "    <tr>\n",
       "      <td>std</td>\n",
       "      <td>5.877050</td>\n",
       "      <td>0.813604</td>\n",
       "      <td>0.503339</td>\n",
       "      <td>0.308853</td>\n",
       "      <td>0.186731</td>\n",
       "      <td>13.938165</td>\n",
       "    </tr>\n",
       "    <tr>\n",
       "      <td>min</td>\n",
       "      <td>1980.000000</td>\n",
       "      <td>0.000000</td>\n",
       "      <td>0.000000</td>\n",
       "      <td>0.000000</td>\n",
       "      <td>0.000000</td>\n",
       "      <td>13.000000</td>\n",
       "    </tr>\n",
       "    <tr>\n",
       "      <td>25%</td>\n",
       "      <td>2003.000000</td>\n",
       "      <td>0.000000</td>\n",
       "      <td>0.000000</td>\n",
       "      <td>0.000000</td>\n",
       "      <td>0.000000</td>\n",
       "      <td>60.000000</td>\n",
       "    </tr>\n",
       "    <tr>\n",
       "      <td>50%</td>\n",
       "      <td>2007.000000</td>\n",
       "      <td>0.080000</td>\n",
       "      <td>0.020000</td>\n",
       "      <td>0.000000</td>\n",
       "      <td>0.010000</td>\n",
       "      <td>71.000000</td>\n",
       "    </tr>\n",
       "    <tr>\n",
       "      <td>75%</td>\n",
       "      <td>2010.000000</td>\n",
       "      <td>0.240000</td>\n",
       "      <td>0.110000</td>\n",
       "      <td>0.040000</td>\n",
       "      <td>0.030000</td>\n",
       "      <td>79.000000</td>\n",
       "    </tr>\n",
       "    <tr>\n",
       "      <td>max</td>\n",
       "      <td>2016.000000</td>\n",
       "      <td>41.360000</td>\n",
       "      <td>28.960000</td>\n",
       "      <td>10.220000</td>\n",
       "      <td>10.570000</td>\n",
       "      <td>98.000000</td>\n",
       "    </tr>\n",
       "  </tbody>\n",
       "</table>\n",
       "</div>"
      ],
      "text/plain": [
       "       Year_of_Release      NA_sales      EU_sales      JP_sales  \\\n",
       "count     16446.000000  16715.000000  16715.000000  16715.000000   \n",
       "mean       2006.484616      0.263377      0.145060      0.077617   \n",
       "std           5.877050      0.813604      0.503339      0.308853   \n",
       "min        1980.000000      0.000000      0.000000      0.000000   \n",
       "25%        2003.000000      0.000000      0.000000      0.000000   \n",
       "50%        2007.000000      0.080000      0.020000      0.000000   \n",
       "75%        2010.000000      0.240000      0.110000      0.040000   \n",
       "max        2016.000000     41.360000     28.960000     10.220000   \n",
       "\n",
       "        Other_sales  Critic_Score  \n",
       "count  16715.000000   8137.000000  \n",
       "mean       0.047342     68.967679  \n",
       "std        0.186731     13.938165  \n",
       "min        0.000000     13.000000  \n",
       "25%        0.000000     60.000000  \n",
       "50%        0.010000     71.000000  \n",
       "75%        0.030000     79.000000  \n",
       "max       10.570000     98.000000  "
      ]
     },
     "execution_count": 4,
     "metadata": {},
     "output_type": "execute_result"
    }
   ],
   "source": [
    "games.describe()"
   ]
  },
  {
   "cell_type": "code",
   "execution_count": 5,
   "metadata": {},
   "outputs": [
    {
     "name": "stdout",
     "output_type": "stream",
     "text": [
      "<class 'pandas.core.frame.DataFrame'>\n",
      "RangeIndex: 16715 entries, 0 to 16714\n",
      "Data columns (total 11 columns):\n",
      "Name               16713 non-null object\n",
      "Platform           16715 non-null object\n",
      "Year_of_Release    16446 non-null float64\n",
      "Genre              16713 non-null object\n",
      "NA_sales           16715 non-null float64\n",
      "EU_sales           16715 non-null float64\n",
      "JP_sales           16715 non-null float64\n",
      "Other_sales        16715 non-null float64\n",
      "Critic_Score       8137 non-null float64\n",
      "User_Score         10014 non-null object\n",
      "Rating             9949 non-null object\n",
      "dtypes: float64(6), object(5)\n",
      "memory usage: 1.4+ MB\n"
     ]
    }
   ],
   "source": [
    "games.info()"
   ]
  },
  {
   "cell_type": "markdown",
   "metadata": {},
   "source": [
    "<div class=\"alert alert-info\">\n",
    "    At first glance, there is a large number of gaps in different columns (as well as, in principle, zero values). The reasons for the gaps in the columns with ratings can be the absence of any ratings (an unpopular game, or a release on a specific platform), a recently released game (there are simply no comments and ratings for it yet), a banal inattention of the data entry, a system failure, etc."
   ]
  },
  {
   "cell_type": "markdown",
   "metadata": {},
   "source": [
    "# Data preparation \n",
    "<a id='preparation'></a>"
   ]
  },
  {
   "cell_type": "markdown",
   "metadata": {},
   "source": [
    "Convert all column names to lowercase"
   ]
  },
  {
   "cell_type": "code",
   "execution_count": 6,
   "metadata": {},
   "outputs": [],
   "source": [
    "games.columns = games.columns.str.lower()"
   ]
  },
  {
   "cell_type": "code",
   "execution_count": 7,
   "metadata": {},
   "outputs": [
    {
     "data": {
      "text/html": [
       "<div>\n",
       "<style scoped>\n",
       "    .dataframe tbody tr th:only-of-type {\n",
       "        vertical-align: middle;\n",
       "    }\n",
       "\n",
       "    .dataframe tbody tr th {\n",
       "        vertical-align: top;\n",
       "    }\n",
       "\n",
       "    .dataframe thead th {\n",
       "        text-align: right;\n",
       "    }\n",
       "</style>\n",
       "<table border=\"1\" class=\"dataframe\">\n",
       "  <thead>\n",
       "    <tr style=\"text-align: right;\">\n",
       "      <th></th>\n",
       "      <th>name</th>\n",
       "      <th>platform</th>\n",
       "      <th>year_of_release</th>\n",
       "      <th>genre</th>\n",
       "      <th>na_sales</th>\n",
       "      <th>eu_sales</th>\n",
       "      <th>jp_sales</th>\n",
       "      <th>other_sales</th>\n",
       "      <th>critic_score</th>\n",
       "      <th>user_score</th>\n",
       "      <th>rating</th>\n",
       "    </tr>\n",
       "  </thead>\n",
       "  <tbody>\n",
       "    <tr>\n",
       "      <td>0</td>\n",
       "      <td>Wii Sports</td>\n",
       "      <td>Wii</td>\n",
       "      <td>2006.0</td>\n",
       "      <td>Sports</td>\n",
       "      <td>41.36</td>\n",
       "      <td>28.96</td>\n",
       "      <td>3.77</td>\n",
       "      <td>8.45</td>\n",
       "      <td>76.0</td>\n",
       "      <td>8</td>\n",
       "      <td>E</td>\n",
       "    </tr>\n",
       "    <tr>\n",
       "      <td>1</td>\n",
       "      <td>Super Mario Bros.</td>\n",
       "      <td>NES</td>\n",
       "      <td>1985.0</td>\n",
       "      <td>Platform</td>\n",
       "      <td>29.08</td>\n",
       "      <td>3.58</td>\n",
       "      <td>6.81</td>\n",
       "      <td>0.77</td>\n",
       "      <td>NaN</td>\n",
       "      <td>NaN</td>\n",
       "      <td>NaN</td>\n",
       "    </tr>\n",
       "    <tr>\n",
       "      <td>2</td>\n",
       "      <td>Mario Kart Wii</td>\n",
       "      <td>Wii</td>\n",
       "      <td>2008.0</td>\n",
       "      <td>Racing</td>\n",
       "      <td>15.68</td>\n",
       "      <td>12.76</td>\n",
       "      <td>3.79</td>\n",
       "      <td>3.29</td>\n",
       "      <td>82.0</td>\n",
       "      <td>8.3</td>\n",
       "      <td>E</td>\n",
       "    </tr>\n",
       "    <tr>\n",
       "      <td>3</td>\n",
       "      <td>Wii Sports Resort</td>\n",
       "      <td>Wii</td>\n",
       "      <td>2009.0</td>\n",
       "      <td>Sports</td>\n",
       "      <td>15.61</td>\n",
       "      <td>10.93</td>\n",
       "      <td>3.28</td>\n",
       "      <td>2.95</td>\n",
       "      <td>80.0</td>\n",
       "      <td>8</td>\n",
       "      <td>E</td>\n",
       "    </tr>\n",
       "    <tr>\n",
       "      <td>4</td>\n",
       "      <td>Pokemon Red/Pokemon Blue</td>\n",
       "      <td>GB</td>\n",
       "      <td>1996.0</td>\n",
       "      <td>Role-Playing</td>\n",
       "      <td>11.27</td>\n",
       "      <td>8.89</td>\n",
       "      <td>10.22</td>\n",
       "      <td>1.00</td>\n",
       "      <td>NaN</td>\n",
       "      <td>NaN</td>\n",
       "      <td>NaN</td>\n",
       "    </tr>\n",
       "  </tbody>\n",
       "</table>\n",
       "</div>"
      ],
      "text/plain": [
       "                       name platform  year_of_release         genre  na_sales  \\\n",
       "0                Wii Sports      Wii           2006.0        Sports     41.36   \n",
       "1         Super Mario Bros.      NES           1985.0      Platform     29.08   \n",
       "2            Mario Kart Wii      Wii           2008.0        Racing     15.68   \n",
       "3         Wii Sports Resort      Wii           2009.0        Sports     15.61   \n",
       "4  Pokemon Red/Pokemon Blue       GB           1996.0  Role-Playing     11.27   \n",
       "\n",
       "   eu_sales  jp_sales  other_sales  critic_score user_score rating  \n",
       "0     28.96      3.77         8.45          76.0          8      E  \n",
       "1      3.58      6.81         0.77           NaN        NaN    NaN  \n",
       "2     12.76      3.79         3.29          82.0        8.3      E  \n",
       "3     10.93      3.28         2.95          80.0          8      E  \n",
       "4      8.89     10.22         1.00           NaN        NaN    NaN  "
      ]
     },
     "execution_count": 7,
     "metadata": {},
     "output_type": "execute_result"
    }
   ],
   "source": [
    "games.head()"
   ]
  },
  {
   "cell_type": "code",
   "execution_count": 8,
   "metadata": {},
   "outputs": [
    {
     "data": {
      "text/plain": [
       "name                  2\n",
       "platform              0\n",
       "year_of_release     269\n",
       "genre                 2\n",
       "na_sales              0\n",
       "eu_sales              0\n",
       "jp_sales              0\n",
       "other_sales           0\n",
       "critic_score       8578\n",
       "user_score         6701\n",
       "rating             6766\n",
       "dtype: int64"
      ]
     },
     "execution_count": 8,
     "metadata": {},
     "output_type": "execute_result"
    }
   ],
   "source": [
    "games.isna().sum()"
   ]
  },
  {
   "cell_type": "markdown",
   "metadata": {},
   "source": [
    "Delete rows with zero values in the columns: name, year_of_release, genre there are few of them and they will not affect the overall result"
   ]
  },
  {
   "cell_type": "code",
   "execution_count": 9,
   "metadata": {},
   "outputs": [],
   "source": [
    "games.dropna(subset = ['name', 'genre', 'year_of_release'], inplace=True)"
   ]
  },
  {
   "cell_type": "code",
   "execution_count": 10,
   "metadata": {},
   "outputs": [
    {
     "data": {
      "text/plain": [
       "name                  0\n",
       "platform              0\n",
       "year_of_release       0\n",
       "genre                 0\n",
       "na_sales              0\n",
       "eu_sales              0\n",
       "jp_sales              0\n",
       "other_sales           0\n",
       "critic_score       8461\n",
       "user_score         6605\n",
       "rating             6676\n",
       "dtype: int64"
      ]
     },
     "execution_count": 10,
     "metadata": {},
     "output_type": "execute_result"
    }
   ],
   "source": [
    "games.isna().sum()"
   ]
  },
  {
   "cell_type": "markdown",
   "metadata": {},
   "source": [
    "Let's bring the column indicating the year of release to the uint16 type, because it stores specific numbers in a small interval"
   ]
  },
  {
   "cell_type": "code",
   "execution_count": 11,
   "metadata": {},
   "outputs": [],
   "source": [
    "games['year_of_release'] = games['year_of_release'].astype('uint16')"
   ]
  },
  {
   "cell_type": "code",
   "execution_count": 12,
   "metadata": {},
   "outputs": [
    {
     "name": "stdout",
     "output_type": "stream",
     "text": [
      "<class 'pandas.core.frame.DataFrame'>\n",
      "Int64Index: 16444 entries, 0 to 16714\n",
      "Data columns (total 11 columns):\n",
      "name               16444 non-null object\n",
      "platform           16444 non-null object\n",
      "year_of_release    16444 non-null uint16\n",
      "genre              16444 non-null object\n",
      "na_sales           16444 non-null float64\n",
      "eu_sales           16444 non-null float64\n",
      "jp_sales           16444 non-null float64\n",
      "other_sales        16444 non-null float64\n",
      "critic_score       7983 non-null float64\n",
      "user_score         9839 non-null object\n",
      "rating             9768 non-null object\n",
      "dtypes: float64(5), object(5), uint16(1)\n",
      "memory usage: 1.4+ MB\n"
     ]
    }
   ],
   "source": [
    "games.info()"
   ]
  },
  {
   "cell_type": "code",
   "execution_count": 13,
   "metadata": {},
   "outputs": [
    {
     "data": {
      "text/plain": [
       "array(['8', nan, '8.3', '8.5', '6.6', '8.4', '8.6', '7.7', '6.3', '7.4',\n",
       "       '8.2', '9', '7.9', '8.1', '8.7', '7.1', '3.4', '5.3', '4.8', '3.2',\n",
       "       '8.9', '6.4', '7.8', '7.5', '2.6', '7.2', '9.2', '7', '7.3', '4.3',\n",
       "       '7.6', '5.7', '5', '9.1', '6.5', 'tbd', '8.8', '6.9', '9.4', '6.8',\n",
       "       '6.1', '6.7', '5.4', '4', '4.9', '4.5', '9.3', '6.2', '4.2', '6',\n",
       "       '3.7', '4.1', '5.8', '5.6', '5.5', '4.4', '4.6', '5.9', '3.9',\n",
       "       '3.1', '2.9', '5.2', '3.3', '4.7', '5.1', '3.5', '2.5', '1.9', '3',\n",
       "       '2.7', '2.2', '2', '9.5', '2.1', '3.6', '2.8', '1.8', '3.8', '0',\n",
       "       '1.6', '9.6', '2.4', '1.7', '1.1', '0.3', '1.5', '0.7', '1.2',\n",
       "       '2.3', '0.5', '1.3', '0.2', '0.6', '1.4', '0.9', '1', '9.7'],\n",
       "      dtype=object)"
      ]
     },
     "execution_count": 13,
     "metadata": {},
     "output_type": "execute_result"
    }
   ],
   "source": [
    "games['user_score'].unique()"
   ]
  },
  {
   "cell_type": "markdown",
   "metadata": {},
   "source": [
    "Considering that tbd are games that have not yet received a rating, we will replace them with nan values. After that we can change the data type to float"
   ]
  },
  {
   "cell_type": "code",
   "execution_count": 14,
   "metadata": {},
   "outputs": [],
   "source": [
    "games.loc[(games['user_score'] == 'tbd'), 'user_score'] = np.nan"
   ]
  },
  {
   "cell_type": "code",
   "execution_count": 15,
   "metadata": {},
   "outputs": [
    {
     "data": {
      "text/plain": [
       "array(['8', nan, '8.3', '8.5', '6.6', '8.4', '8.6', '7.7', '6.3', '7.4',\n",
       "       '8.2', '9', '7.9', '8.1', '8.7', '7.1', '3.4', '5.3', '4.8', '3.2',\n",
       "       '8.9', '6.4', '7.8', '7.5', '2.6', '7.2', '9.2', '7', '7.3', '4.3',\n",
       "       '7.6', '5.7', '5', '9.1', '6.5', '8.8', '6.9', '9.4', '6.8', '6.1',\n",
       "       '6.7', '5.4', '4', '4.9', '4.5', '9.3', '6.2', '4.2', '6', '3.7',\n",
       "       '4.1', '5.8', '5.6', '5.5', '4.4', '4.6', '5.9', '3.9', '3.1',\n",
       "       '2.9', '5.2', '3.3', '4.7', '5.1', '3.5', '2.5', '1.9', '3', '2.7',\n",
       "       '2.2', '2', '9.5', '2.1', '3.6', '2.8', '1.8', '3.8', '0', '1.6',\n",
       "       '9.6', '2.4', '1.7', '1.1', '0.3', '1.5', '0.7', '1.2', '2.3',\n",
       "       '0.5', '1.3', '0.2', '0.6', '1.4', '0.9', '1', '9.7'], dtype=object)"
      ]
     },
     "execution_count": 15,
     "metadata": {},
     "output_type": "execute_result"
    }
   ],
   "source": [
    "games['user_score'].unique()"
   ]
  },
  {
   "cell_type": "code",
   "execution_count": 16,
   "metadata": {},
   "outputs": [],
   "source": [
    "games['user_score'] = games['user_score'].astype('float')"
   ]
  },
  {
   "cell_type": "code",
   "execution_count": 17,
   "metadata": {},
   "outputs": [
    {
     "data": {
      "text/plain": [
       "0"
      ]
     },
     "execution_count": 17,
     "metadata": {},
     "output_type": "execute_result"
    }
   ],
   "source": [
    "games.duplicated().sum()"
   ]
  },
  {
   "cell_type": "markdown",
   "metadata": {},
   "source": [
    "Calculate and add a column with the total number of sales for each game"
   ]
  },
  {
   "cell_type": "code",
   "execution_count": 18,
   "metadata": {},
   "outputs": [
    {
     "data": {
      "text/html": [
       "<div>\n",
       "<style scoped>\n",
       "    .dataframe tbody tr th:only-of-type {\n",
       "        vertical-align: middle;\n",
       "    }\n",
       "\n",
       "    .dataframe tbody tr th {\n",
       "        vertical-align: top;\n",
       "    }\n",
       "\n",
       "    .dataframe thead th {\n",
       "        text-align: right;\n",
       "    }\n",
       "</style>\n",
       "<table border=\"1\" class=\"dataframe\">\n",
       "  <thead>\n",
       "    <tr style=\"text-align: right;\">\n",
       "      <th></th>\n",
       "      <th>name</th>\n",
       "      <th>platform</th>\n",
       "      <th>year_of_release</th>\n",
       "      <th>genre</th>\n",
       "      <th>na_sales</th>\n",
       "      <th>eu_sales</th>\n",
       "      <th>jp_sales</th>\n",
       "      <th>other_sales</th>\n",
       "      <th>critic_score</th>\n",
       "      <th>user_score</th>\n",
       "      <th>rating</th>\n",
       "      <th>total_sales</th>\n",
       "    </tr>\n",
       "  </thead>\n",
       "  <tbody>\n",
       "    <tr>\n",
       "      <td>0</td>\n",
       "      <td>Wii Sports</td>\n",
       "      <td>Wii</td>\n",
       "      <td>2006</td>\n",
       "      <td>Sports</td>\n",
       "      <td>41.36</td>\n",
       "      <td>28.96</td>\n",
       "      <td>3.77</td>\n",
       "      <td>8.45</td>\n",
       "      <td>76.0</td>\n",
       "      <td>8.0</td>\n",
       "      <td>E</td>\n",
       "      <td>82.54</td>\n",
       "    </tr>\n",
       "    <tr>\n",
       "      <td>1</td>\n",
       "      <td>Super Mario Bros.</td>\n",
       "      <td>NES</td>\n",
       "      <td>1985</td>\n",
       "      <td>Platform</td>\n",
       "      <td>29.08</td>\n",
       "      <td>3.58</td>\n",
       "      <td>6.81</td>\n",
       "      <td>0.77</td>\n",
       "      <td>NaN</td>\n",
       "      <td>NaN</td>\n",
       "      <td>NaN</td>\n",
       "      <td>40.24</td>\n",
       "    </tr>\n",
       "    <tr>\n",
       "      <td>2</td>\n",
       "      <td>Mario Kart Wii</td>\n",
       "      <td>Wii</td>\n",
       "      <td>2008</td>\n",
       "      <td>Racing</td>\n",
       "      <td>15.68</td>\n",
       "      <td>12.76</td>\n",
       "      <td>3.79</td>\n",
       "      <td>3.29</td>\n",
       "      <td>82.0</td>\n",
       "      <td>8.3</td>\n",
       "      <td>E</td>\n",
       "      <td>35.52</td>\n",
       "    </tr>\n",
       "    <tr>\n",
       "      <td>3</td>\n",
       "      <td>Wii Sports Resort</td>\n",
       "      <td>Wii</td>\n",
       "      <td>2009</td>\n",
       "      <td>Sports</td>\n",
       "      <td>15.61</td>\n",
       "      <td>10.93</td>\n",
       "      <td>3.28</td>\n",
       "      <td>2.95</td>\n",
       "      <td>80.0</td>\n",
       "      <td>8.0</td>\n",
       "      <td>E</td>\n",
       "      <td>32.77</td>\n",
       "    </tr>\n",
       "    <tr>\n",
       "      <td>4</td>\n",
       "      <td>Pokemon Red/Pokemon Blue</td>\n",
       "      <td>GB</td>\n",
       "      <td>1996</td>\n",
       "      <td>Role-Playing</td>\n",
       "      <td>11.27</td>\n",
       "      <td>8.89</td>\n",
       "      <td>10.22</td>\n",
       "      <td>1.00</td>\n",
       "      <td>NaN</td>\n",
       "      <td>NaN</td>\n",
       "      <td>NaN</td>\n",
       "      <td>31.38</td>\n",
       "    </tr>\n",
       "  </tbody>\n",
       "</table>\n",
       "</div>"
      ],
      "text/plain": [
       "                       name platform  year_of_release         genre  na_sales  \\\n",
       "0                Wii Sports      Wii             2006        Sports     41.36   \n",
       "1         Super Mario Bros.      NES             1985      Platform     29.08   \n",
       "2            Mario Kart Wii      Wii             2008        Racing     15.68   \n",
       "3         Wii Sports Resort      Wii             2009        Sports     15.61   \n",
       "4  Pokemon Red/Pokemon Blue       GB             1996  Role-Playing     11.27   \n",
       "\n",
       "   eu_sales  jp_sales  other_sales  critic_score  user_score rating  \\\n",
       "0     28.96      3.77         8.45          76.0         8.0      E   \n",
       "1      3.58      6.81         0.77           NaN         NaN    NaN   \n",
       "2     12.76      3.79         3.29          82.0         8.3      E   \n",
       "3     10.93      3.28         2.95          80.0         8.0      E   \n",
       "4      8.89     10.22         1.00           NaN         NaN    NaN   \n",
       "\n",
       "   total_sales  \n",
       "0        82.54  \n",
       "1        40.24  \n",
       "2        35.52  \n",
       "3        32.77  \n",
       "4        31.38  "
      ]
     },
     "execution_count": 18,
     "metadata": {},
     "output_type": "execute_result"
    }
   ],
   "source": [
    "games['total_sales'] = games['na_sales'] + games['eu_sales'] + games['jp_sales'] + games['other_sales']\n",
    "games.head()"
   ]
  },
  {
   "cell_type": "code",
   "execution_count": 19,
   "metadata": {},
   "outputs": [
    {
     "data": {
      "text/html": [
       "<div>\n",
       "<style scoped>\n",
       "    .dataframe tbody tr th:only-of-type {\n",
       "        vertical-align: middle;\n",
       "    }\n",
       "\n",
       "    .dataframe tbody tr th {\n",
       "        vertical-align: top;\n",
       "    }\n",
       "\n",
       "    .dataframe thead th {\n",
       "        text-align: right;\n",
       "    }\n",
       "</style>\n",
       "<table border=\"1\" class=\"dataframe\">\n",
       "  <thead>\n",
       "    <tr style=\"text-align: right;\">\n",
       "      <th></th>\n",
       "      <th>year_of_release</th>\n",
       "      <th>na_sales</th>\n",
       "      <th>eu_sales</th>\n",
       "      <th>jp_sales</th>\n",
       "      <th>other_sales</th>\n",
       "      <th>critic_score</th>\n",
       "      <th>user_score</th>\n",
       "      <th>total_sales</th>\n",
       "    </tr>\n",
       "  </thead>\n",
       "  <tbody>\n",
       "    <tr>\n",
       "      <td>count</td>\n",
       "      <td>16444.000000</td>\n",
       "      <td>16444.000000</td>\n",
       "      <td>16444.000000</td>\n",
       "      <td>16444.000000</td>\n",
       "      <td>16444.000000</td>\n",
       "      <td>7983.000000</td>\n",
       "      <td>7463.000000</td>\n",
       "      <td>16444.000000</td>\n",
       "    </tr>\n",
       "    <tr>\n",
       "      <td>mean</td>\n",
       "      <td>2006.486256</td>\n",
       "      <td>0.264012</td>\n",
       "      <td>0.145930</td>\n",
       "      <td>0.078487</td>\n",
       "      <td>0.047594</td>\n",
       "      <td>68.994363</td>\n",
       "      <td>7.126330</td>\n",
       "      <td>0.536023</td>\n",
       "    </tr>\n",
       "    <tr>\n",
       "      <td>std</td>\n",
       "      <td>5.875525</td>\n",
       "      <td>0.818378</td>\n",
       "      <td>0.506716</td>\n",
       "      <td>0.311100</td>\n",
       "      <td>0.188005</td>\n",
       "      <td>13.920060</td>\n",
       "      <td>1.499447</td>\n",
       "      <td>1.558786</td>\n",
       "    </tr>\n",
       "    <tr>\n",
       "      <td>min</td>\n",
       "      <td>1980.000000</td>\n",
       "      <td>0.000000</td>\n",
       "      <td>0.000000</td>\n",
       "      <td>0.000000</td>\n",
       "      <td>0.000000</td>\n",
       "      <td>13.000000</td>\n",
       "      <td>0.000000</td>\n",
       "      <td>0.000000</td>\n",
       "    </tr>\n",
       "    <tr>\n",
       "      <td>25%</td>\n",
       "      <td>2003.000000</td>\n",
       "      <td>0.000000</td>\n",
       "      <td>0.000000</td>\n",
       "      <td>0.000000</td>\n",
       "      <td>0.000000</td>\n",
       "      <td>60.000000</td>\n",
       "      <td>6.400000</td>\n",
       "      <td>0.060000</td>\n",
       "    </tr>\n",
       "    <tr>\n",
       "      <td>50%</td>\n",
       "      <td>2007.000000</td>\n",
       "      <td>0.080000</td>\n",
       "      <td>0.020000</td>\n",
       "      <td>0.000000</td>\n",
       "      <td>0.010000</td>\n",
       "      <td>71.000000</td>\n",
       "      <td>7.500000</td>\n",
       "      <td>0.170000</td>\n",
       "    </tr>\n",
       "    <tr>\n",
       "      <td>75%</td>\n",
       "      <td>2010.000000</td>\n",
       "      <td>0.240000</td>\n",
       "      <td>0.110000</td>\n",
       "      <td>0.040000</td>\n",
       "      <td>0.030000</td>\n",
       "      <td>79.000000</td>\n",
       "      <td>8.200000</td>\n",
       "      <td>0.470000</td>\n",
       "    </tr>\n",
       "    <tr>\n",
       "      <td>max</td>\n",
       "      <td>2016.000000</td>\n",
       "      <td>41.360000</td>\n",
       "      <td>28.960000</td>\n",
       "      <td>10.220000</td>\n",
       "      <td>10.570000</td>\n",
       "      <td>98.000000</td>\n",
       "      <td>9.700000</td>\n",
       "      <td>82.540000</td>\n",
       "    </tr>\n",
       "  </tbody>\n",
       "</table>\n",
       "</div>"
      ],
      "text/plain": [
       "       year_of_release      na_sales      eu_sales      jp_sales  \\\n",
       "count     16444.000000  16444.000000  16444.000000  16444.000000   \n",
       "mean       2006.486256      0.264012      0.145930      0.078487   \n",
       "std           5.875525      0.818378      0.506716      0.311100   \n",
       "min        1980.000000      0.000000      0.000000      0.000000   \n",
       "25%        2003.000000      0.000000      0.000000      0.000000   \n",
       "50%        2007.000000      0.080000      0.020000      0.000000   \n",
       "75%        2010.000000      0.240000      0.110000      0.040000   \n",
       "max        2016.000000     41.360000     28.960000     10.220000   \n",
       "\n",
       "        other_sales  critic_score   user_score   total_sales  \n",
       "count  16444.000000   7983.000000  7463.000000  16444.000000  \n",
       "mean       0.047594     68.994363     7.126330      0.536023  \n",
       "std        0.188005     13.920060     1.499447      1.558786  \n",
       "min        0.000000     13.000000     0.000000      0.000000  \n",
       "25%        0.000000     60.000000     6.400000      0.060000  \n",
       "50%        0.010000     71.000000     7.500000      0.170000  \n",
       "75%        0.030000     79.000000     8.200000      0.470000  \n",
       "max       10.570000     98.000000     9.700000     82.540000  "
      ]
     },
     "execution_count": 19,
     "metadata": {},
     "output_type": "execute_result"
    }
   ],
   "source": [
    "games.describe()"
   ]
  },
  {
   "cell_type": "code",
   "execution_count": 20,
   "metadata": {},
   "outputs": [
    {
     "name": "stdout",
     "output_type": "stream",
     "text": [
      "<class 'pandas.core.frame.DataFrame'>\n",
      "Int64Index: 16444 entries, 0 to 16714\n",
      "Data columns (total 12 columns):\n",
      "name               16444 non-null object\n",
      "platform           16444 non-null object\n",
      "year_of_release    16444 non-null uint16\n",
      "genre              16444 non-null object\n",
      "na_sales           16444 non-null float64\n",
      "eu_sales           16444 non-null float64\n",
      "jp_sales           16444 non-null float64\n",
      "other_sales        16444 non-null float64\n",
      "critic_score       7983 non-null float64\n",
      "user_score         7463 non-null float64\n",
      "rating             9768 non-null object\n",
      "total_sales        16444 non-null float64\n",
      "dtypes: float64(7), object(4), uint16(1)\n",
      "memory usage: 1.5+ MB\n"
     ]
    }
   ],
   "source": [
    "games.info()"
   ]
  },
  {
   "cell_type": "markdown",
   "metadata": {},
   "source": [
    "We will not delete or replace the gaps in the remaining columns with any values, because there are many of them and any actions can distort the data for analysis. It is not possible to fill in the truthful data"
   ]
  },
  {
   "cell_type": "markdown",
   "metadata": {},
   "source": [
    "# Exploratory data analysis\n",
    "<a id='analis'></a>"
   ]
  },
  {
   "cell_type": "markdown",
   "metadata": {},
   "source": [
    "Let's see how many games were released in different years"
   ]
  },
  {
   "cell_type": "code",
   "execution_count": 21,
   "metadata": {},
   "outputs": [
    {
     "data": {
      "text/plain": [
       "Text(0.5, 1.0, 'Распределение по годам релиза')"
      ]
     },
     "execution_count": 21,
     "metadata": {},
     "output_type": "execute_result"
    },
    {
     "data": {
      "image/png": "[encoded data removed]",
      "text/plain": [
       "<Figure size 432x288 with 1 Axes>"
      ]
     },
     "metadata": {
      "needs_background": "light"
     },
     "output_type": "display_data"
    }
   ],
   "source": [
    "ax = games['year_of_release'].plot(kind='hist', bins=40).legend()\n",
    "plt.title('Distribution by year of release')"
   ]
  },
  {
   "cell_type": "markdown",
   "metadata": {},
   "source": [
    "From the 80s to the early 90s there was a plateau with a small volume of sales, then the growth associated with the development of technology and the increase in the number of platforms and consoles began. Since 2010, a decline caused by market saturation and the transition to mobile platforms."
   ]
  },
  {
   "cell_type": "markdown",
   "metadata": {},
   "source": [
    "Let's determine the most popular (by the number of sales) platforms"
   ]
  },
  {
   "cell_type": "code",
   "execution_count": 22,
   "metadata": {},
   "outputs": [],
   "source": [
    "most_popular_platform = games.groupby('platform').agg({'total_sales':'sum'}).reset_index()\n",
    "most_popular_platform = most_popular_platform.sort_values(['total_sales'], ascending=[False])"
   ]
  },
  {
   "cell_type": "code",
   "execution_count": 23,
   "metadata": {},
   "outputs": [],
   "source": [
    "most_popular_platform = most_popular_platform.head()"
   ]
  },
  {
   "cell_type": "code",
   "execution_count": 24,
   "metadata": {},
   "outputs": [
    {
     "data": {
      "text/html": [
       "<div>\n",
       "<style scoped>\n",
       "    .dataframe tbody tr th:only-of-type {\n",
       "        vertical-align: middle;\n",
       "    }\n",
       "\n",
       "    .dataframe tbody tr th {\n",
       "        vertical-align: top;\n",
       "    }\n",
       "\n",
       "    .dataframe thead th {\n",
       "        text-align: right;\n",
       "    }\n",
       "</style>\n",
       "<table border=\"1\" class=\"dataframe\">\n",
       "  <thead>\n",
       "    <tr style=\"text-align: right;\">\n",
       "      <th></th>\n",
       "      <th>platform</th>\n",
       "      <th>total_sales</th>\n",
       "    </tr>\n",
       "  </thead>\n",
       "  <tbody>\n",
       "    <tr>\n",
       "      <td>16</td>\n",
       "      <td>PS2</td>\n",
       "      <td>1233.56</td>\n",
       "    </tr>\n",
       "    <tr>\n",
       "      <td>28</td>\n",
       "      <td>X360</td>\n",
       "      <td>961.24</td>\n",
       "    </tr>\n",
       "    <tr>\n",
       "      <td>17</td>\n",
       "      <td>PS3</td>\n",
       "      <td>931.34</td>\n",
       "    </tr>\n",
       "    <tr>\n",
       "      <td>26</td>\n",
       "      <td>Wii</td>\n",
       "      <td>891.18</td>\n",
       "    </tr>\n",
       "    <tr>\n",
       "      <td>4</td>\n",
       "      <td>DS</td>\n",
       "      <td>802.78</td>\n",
       "    </tr>\n",
       "  </tbody>\n",
       "</table>\n",
       "</div>"
      ],
      "text/plain": [
       "   platform  total_sales\n",
       "16      PS2      1233.56\n",
       "28     X360       961.24\n",
       "17      PS3       931.34\n",
       "26      Wii       891.18\n",
       "4        DS       802.78"
      ]
     },
     "execution_count": 24,
     "metadata": {},
     "output_type": "execute_result"
    }
   ],
   "source": [
    "most_popular_platform"
   ]
  },
  {
   "cell_type": "code",
   "execution_count": 25,
   "metadata": {},
   "outputs": [],
   "source": [
    "games_t = games.copy()"
   ]
  },
  {
   "cell_type": "code",
   "execution_count": 26,
   "metadata": {},
   "outputs": [],
   "source": [
    "games_top = games_t.groupby(['platform', 'year_of_release']).agg({'total_sales':'sum'}).reset_index()\n",
    "games_top = games_top.query('platform == \"PS2\" or platform == \"X360\" or platform == \"PS3\" or platform == \"Wii\" or platform == \"DS\"')\n",
    "games_top = games_top.query('year_of_release > 2013')\n",
    "games_top['name'] = games_t['name']\n",
    "games_top['genre'] = games_t['genre']\n",
    "games_top['na_sales'] = games_t['na_sales']\n",
    "games_top['eu_sales'] = games_t['eu_sales']\n",
    "games_top['jp_sales'] = games_t['jp_sales']\n",
    "games_top['other_sales'] = games_t['other_sales']\n",
    "games_top['critic_score'] = games_t['critic_score']\n",
    "games_top['user_score'] = games_t['user_score']\n",
    "games_top['rating'] = games_t['rating']"
   ]
  },
  {
   "cell_type": "code",
   "execution_count": 27,
   "metadata": {},
   "outputs": [
    {
     "data": {
      "text/html": [
       "<div>\n",
       "<style scoped>\n",
       "    .dataframe tbody tr th:only-of-type {\n",
       "        vertical-align: middle;\n",
       "    }\n",
       "\n",
       "    .dataframe tbody tr th {\n",
       "        vertical-align: top;\n",
       "    }\n",
       "\n",
       "    .dataframe thead th {\n",
       "        text-align: right;\n",
       "    }\n",
       "</style>\n",
       "<table border=\"1\" class=\"dataframe\">\n",
       "  <thead>\n",
       "    <tr style=\"text-align: right;\">\n",
       "      <th></th>\n",
       "      <th>platform</th>\n",
       "      <th>year_of_release</th>\n",
       "      <th>total_sales</th>\n",
       "      <th>name</th>\n",
       "      <th>genre</th>\n",
       "      <th>na_sales</th>\n",
       "      <th>eu_sales</th>\n",
       "      <th>jp_sales</th>\n",
       "      <th>other_sales</th>\n",
       "      <th>critic_score</th>\n",
       "      <th>user_score</th>\n",
       "      <th>rating</th>\n",
       "    </tr>\n",
       "  </thead>\n",
       "  <tbody>\n",
       "    <tr>\n",
       "      <td>150</td>\n",
       "      <td>PS3</td>\n",
       "      <td>2014</td>\n",
       "      <td>47.76</td>\n",
       "      <td>LittleBigPlanet</td>\n",
       "      <td>Platform</td>\n",
       "      <td>2.80</td>\n",
       "      <td>1.98</td>\n",
       "      <td>0.17</td>\n",
       "      <td>0.87</td>\n",
       "      <td>95.0</td>\n",
       "      <td>6.8</td>\n",
       "      <td>E</td>\n",
       "    </tr>\n",
       "    <tr>\n",
       "      <td>151</td>\n",
       "      <td>PS3</td>\n",
       "      <td>2015</td>\n",
       "      <td>16.82</td>\n",
       "      <td>Resident Evil 2</td>\n",
       "      <td>Action</td>\n",
       "      <td>1.88</td>\n",
       "      <td>1.47</td>\n",
       "      <td>2.02</td>\n",
       "      <td>0.45</td>\n",
       "      <td>89.0</td>\n",
       "      <td>9.2</td>\n",
       "      <td>M</td>\n",
       "    </tr>\n",
       "    <tr>\n",
       "      <td>152</td>\n",
       "      <td>PS3</td>\n",
       "      <td>2016</td>\n",
       "      <td>3.60</td>\n",
       "      <td>Dragon Quest IX: Sentinels of the Starry Skies</td>\n",
       "      <td>Role-Playing</td>\n",
       "      <td>0.63</td>\n",
       "      <td>0.67</td>\n",
       "      <td>4.35</td>\n",
       "      <td>0.15</td>\n",
       "      <td>87.0</td>\n",
       "      <td>8.8</td>\n",
       "      <td>E10+</td>\n",
       "    </tr>\n",
       "    <tr>\n",
       "      <td>205</td>\n",
       "      <td>Wii</td>\n",
       "      <td>2014</td>\n",
       "      <td>3.75</td>\n",
       "      <td>Tony Hawk's Pro Skater</td>\n",
       "      <td>Sports</td>\n",
       "      <td>3.42</td>\n",
       "      <td>1.38</td>\n",
       "      <td>0.02</td>\n",
       "      <td>0.20</td>\n",
       "      <td>92.0</td>\n",
       "      <td>9.2</td>\n",
       "      <td>T</td>\n",
       "    </tr>\n",
       "    <tr>\n",
       "      <td>206</td>\n",
       "      <td>Wii</td>\n",
       "      <td>2015</td>\n",
       "      <td>1.14</td>\n",
       "      <td>Warzone 2100</td>\n",
       "      <td>Strategy</td>\n",
       "      <td>2.79</td>\n",
       "      <td>1.89</td>\n",
       "      <td>0.00</td>\n",
       "      <td>0.33</td>\n",
       "      <td>NaN</td>\n",
       "      <td>NaN</td>\n",
       "      <td>NaN</td>\n",
       "    </tr>\n",
       "  </tbody>\n",
       "</table>\n",
       "</div>"
      ],
      "text/plain": [
       "    platform  year_of_release  total_sales  \\\n",
       "150      PS3             2014        47.76   \n",
       "151      PS3             2015        16.82   \n",
       "152      PS3             2016         3.60   \n",
       "205      Wii             2014         3.75   \n",
       "206      Wii             2015         1.14   \n",
       "\n",
       "                                               name         genre  na_sales  \\\n",
       "150                                 LittleBigPlanet      Platform      2.80   \n",
       "151                                 Resident Evil 2        Action      1.88   \n",
       "152  Dragon Quest IX: Sentinels of the Starry Skies  Role-Playing      0.63   \n",
       "205                          Tony Hawk's Pro Skater        Sports      3.42   \n",
       "206                                    Warzone 2100      Strategy      2.79   \n",
       "\n",
       "     eu_sales  jp_sales  other_sales  critic_score  user_score rating  \n",
       "150      1.98      0.17         0.87          95.0         6.8      E  \n",
       "151      1.47      2.02         0.45          89.0         9.2      M  \n",
       "152      0.67      4.35         0.15          87.0         8.8   E10+  \n",
       "205      1.38      0.02         0.20          92.0         9.2      T  \n",
       "206      1.89      0.00         0.33           NaN         NaN    NaN  "
      ]
     },
     "execution_count": 27,
     "metadata": {},
     "output_type": "execute_result"
    }
   ],
   "source": [
    "games_top.head()"
   ]
  },
  {
   "cell_type": "code",
   "execution_count": 28,
   "metadata": {},
   "outputs": [
    {
     "data": {
      "text/html": [
       "<div>\n",
       "<style scoped>\n",
       "    .dataframe tbody tr th:only-of-type {\n",
       "        vertical-align: middle;\n",
       "    }\n",
       "\n",
       "    .dataframe tbody tr th {\n",
       "        vertical-align: top;\n",
       "    }\n",
       "\n",
       "    .dataframe thead th {\n",
       "        text-align: right;\n",
       "    }\n",
       "</style>\n",
       "<table border=\"1\" class=\"dataframe\">\n",
       "  <thead>\n",
       "    <tr style=\"text-align: right;\">\n",
       "      <th></th>\n",
       "      <th>platform</th>\n",
       "      <th>year_of_release</th>\n",
       "      <th>total_sales</th>\n",
       "      <th>name</th>\n",
       "      <th>genre</th>\n",
       "      <th>na_sales</th>\n",
       "      <th>eu_sales</th>\n",
       "      <th>jp_sales</th>\n",
       "      <th>other_sales</th>\n",
       "      <th>critic_score</th>\n",
       "      <th>user_score</th>\n",
       "      <th>rating</th>\n",
       "    </tr>\n",
       "  </thead>\n",
       "  <tbody>\n",
       "    <tr>\n",
       "      <td>150</td>\n",
       "      <td>PS3</td>\n",
       "      <td>2014</td>\n",
       "      <td>47.76</td>\n",
       "      <td>LittleBigPlanet</td>\n",
       "      <td>Platform</td>\n",
       "      <td>2.80</td>\n",
       "      <td>1.98</td>\n",
       "      <td>0.17</td>\n",
       "      <td>0.87</td>\n",
       "      <td>95.0</td>\n",
       "      <td>6.8</td>\n",
       "      <td>E</td>\n",
       "    </tr>\n",
       "    <tr>\n",
       "      <td>151</td>\n",
       "      <td>PS3</td>\n",
       "      <td>2015</td>\n",
       "      <td>16.82</td>\n",
       "      <td>Resident Evil 2</td>\n",
       "      <td>Action</td>\n",
       "      <td>1.88</td>\n",
       "      <td>1.47</td>\n",
       "      <td>2.02</td>\n",
       "      <td>0.45</td>\n",
       "      <td>89.0</td>\n",
       "      <td>9.2</td>\n",
       "      <td>M</td>\n",
       "    </tr>\n",
       "    <tr>\n",
       "      <td>152</td>\n",
       "      <td>PS3</td>\n",
       "      <td>2016</td>\n",
       "      <td>3.60</td>\n",
       "      <td>Dragon Quest IX: Sentinels of the Starry Skies</td>\n",
       "      <td>Role-Playing</td>\n",
       "      <td>0.63</td>\n",
       "      <td>0.67</td>\n",
       "      <td>4.35</td>\n",
       "      <td>0.15</td>\n",
       "      <td>87.0</td>\n",
       "      <td>8.8</td>\n",
       "      <td>E10+</td>\n",
       "    </tr>\n",
       "    <tr>\n",
       "      <td>205</td>\n",
       "      <td>Wii</td>\n",
       "      <td>2014</td>\n",
       "      <td>3.75</td>\n",
       "      <td>Tony Hawk's Pro Skater</td>\n",
       "      <td>Sports</td>\n",
       "      <td>3.42</td>\n",
       "      <td>1.38</td>\n",
       "      <td>0.02</td>\n",
       "      <td>0.20</td>\n",
       "      <td>92.0</td>\n",
       "      <td>9.2</td>\n",
       "      <td>T</td>\n",
       "    </tr>\n",
       "    <tr>\n",
       "      <td>206</td>\n",
       "      <td>Wii</td>\n",
       "      <td>2015</td>\n",
       "      <td>1.14</td>\n",
       "      <td>Warzone 2100</td>\n",
       "      <td>Strategy</td>\n",
       "      <td>2.79</td>\n",
       "      <td>1.89</td>\n",
       "      <td>0.00</td>\n",
       "      <td>0.33</td>\n",
       "      <td>NaN</td>\n",
       "      <td>NaN</td>\n",
       "      <td>NaN</td>\n",
       "    </tr>\n",
       "  </tbody>\n",
       "</table>\n",
       "</div>"
      ],
      "text/plain": [
       "    platform  year_of_release  total_sales  \\\n",
       "150      PS3             2014        47.76   \n",
       "151      PS3             2015        16.82   \n",
       "152      PS3             2016         3.60   \n",
       "205      Wii             2014         3.75   \n",
       "206      Wii             2015         1.14   \n",
       "\n",
       "                                               name         genre  na_sales  \\\n",
       "150                                 LittleBigPlanet      Platform      2.80   \n",
       "151                                 Resident Evil 2        Action      1.88   \n",
       "152  Dragon Quest IX: Sentinels of the Starry Skies  Role-Playing      0.63   \n",
       "205                          Tony Hawk's Pro Skater        Sports      3.42   \n",
       "206                                    Warzone 2100      Strategy      2.79   \n",
       "\n",
       "     eu_sales  jp_sales  other_sales  critic_score  user_score rating  \n",
       "150      1.98      0.17         0.87          95.0         6.8      E  \n",
       "151      1.47      2.02         0.45          89.0         9.2      M  \n",
       "152      0.67      4.35         0.15          87.0         8.8   E10+  \n",
       "205      1.38      0.02         0.20          92.0         9.2      T  \n",
       "206      1.89      0.00         0.33           NaN         NaN    NaN  "
      ]
     },
     "execution_count": 28,
     "metadata": {},
     "output_type": "execute_result"
    }
   ],
   "source": [
    "games_top.head()"
   ]
  },
  {
   "cell_type": "markdown",
   "metadata": {},
   "source": [
    "Let's look at the distribution of sales for top platforms by years"
   ]
  },
  {
   "cell_type": "code",
   "execution_count": 29,
   "metadata": {},
   "outputs": [
    {
     "data": {
      "image/png": "[encoded data removed]",
      "text/plain": [
       "<Figure size 1080x360 with 1 Axes>"
      ]
     },
     "metadata": {},
     "output_type": "display_data"
    }
   ],
   "source": [
    "sns.set(rc={'figure.figsize':(15, 5)})\n",
    "sns.barplot(x='year_of_release', y='total_sales', hue='platform', data=games_top)\n",
    "plt.xticks(rotation=65)\n",
    "plt.title('Distribution of sales for top platforms by years')\n",
    "plt.show()"
   ]
  },
  {
   "cell_type": "code",
   "execution_count": 30,
   "metadata": {},
   "outputs": [],
   "source": [
    "platform_life = games_t.groupby('platform').agg({'year_of_release':['max', 'min']}).reset_index()\n",
    "platform_life.columns = ['platform', 'year_of_release_max', 'year_of_release_min']"
   ]
  },
  {
   "cell_type": "code",
   "execution_count": 31,
   "metadata": {},
   "outputs": [
    {
     "name": "stdout",
     "output_type": "stream",
     "text": [
      "<class 'pandas.core.frame.DataFrame'>\n",
      "RangeIndex: 31 entries, 0 to 30\n",
      "Data columns (total 3 columns):\n",
      "platform               31 non-null object\n",
      "year_of_release_max    31 non-null uint16\n",
      "year_of_release_min    31 non-null uint16\n",
      "dtypes: object(1), uint16(2)\n",
      "memory usage: 500.0+ bytes\n"
     ]
    }
   ],
   "source": [
    "platform_life.info()"
   ]
  },
  {
   "cell_type": "code",
   "execution_count": 32,
   "metadata": {},
   "outputs": [],
   "source": [
    "platform_life['life'] = platform_life['year_of_release_max'] - platform_life['year_of_release_min']"
   ]
  },
  {
   "cell_type": "code",
   "execution_count": 33,
   "metadata": {},
   "outputs": [
    {
     "data": {
      "text/html": [
       "<div>\n",
       "<style scoped>\n",
       "    .dataframe tbody tr th:only-of-type {\n",
       "        vertical-align: middle;\n",
       "    }\n",
       "\n",
       "    .dataframe tbody tr th {\n",
       "        vertical-align: top;\n",
       "    }\n",
       "\n",
       "    .dataframe thead th {\n",
       "        text-align: right;\n",
       "    }\n",
       "</style>\n",
       "<table border=\"1\" class=\"dataframe\">\n",
       "  <thead>\n",
       "    <tr style=\"text-align: right;\">\n",
       "      <th></th>\n",
       "      <th>platform</th>\n",
       "      <th>year_of_release_max</th>\n",
       "      <th>year_of_release_min</th>\n",
       "      <th>life</th>\n",
       "    </tr>\n",
       "  </thead>\n",
       "  <tbody>\n",
       "    <tr>\n",
       "      <td>0</td>\n",
       "      <td>2600</td>\n",
       "      <td>1989</td>\n",
       "      <td>1980</td>\n",
       "      <td>9</td>\n",
       "    </tr>\n",
       "    <tr>\n",
       "      <td>1</td>\n",
       "      <td>3DO</td>\n",
       "      <td>1995</td>\n",
       "      <td>1994</td>\n",
       "      <td>1</td>\n",
       "    </tr>\n",
       "    <tr>\n",
       "      <td>2</td>\n",
       "      <td>3DS</td>\n",
       "      <td>2016</td>\n",
       "      <td>2011</td>\n",
       "      <td>5</td>\n",
       "    </tr>\n",
       "    <tr>\n",
       "      <td>3</td>\n",
       "      <td>DC</td>\n",
       "      <td>2008</td>\n",
       "      <td>1998</td>\n",
       "      <td>10</td>\n",
       "    </tr>\n",
       "    <tr>\n",
       "      <td>4</td>\n",
       "      <td>DS</td>\n",
       "      <td>2013</td>\n",
       "      <td>1985</td>\n",
       "      <td>28</td>\n",
       "    </tr>\n",
       "    <tr>\n",
       "      <td>5</td>\n",
       "      <td>GB</td>\n",
       "      <td>2001</td>\n",
       "      <td>1988</td>\n",
       "      <td>13</td>\n",
       "    </tr>\n",
       "    <tr>\n",
       "      <td>6</td>\n",
       "      <td>GBA</td>\n",
       "      <td>2007</td>\n",
       "      <td>2000</td>\n",
       "      <td>7</td>\n",
       "    </tr>\n",
       "    <tr>\n",
       "      <td>7</td>\n",
       "      <td>GC</td>\n",
       "      <td>2007</td>\n",
       "      <td>2001</td>\n",
       "      <td>6</td>\n",
       "    </tr>\n",
       "    <tr>\n",
       "      <td>8</td>\n",
       "      <td>GEN</td>\n",
       "      <td>1994</td>\n",
       "      <td>1990</td>\n",
       "      <td>4</td>\n",
       "    </tr>\n",
       "    <tr>\n",
       "      <td>9</td>\n",
       "      <td>GG</td>\n",
       "      <td>1992</td>\n",
       "      <td>1992</td>\n",
       "      <td>0</td>\n",
       "    </tr>\n",
       "    <tr>\n",
       "      <td>10</td>\n",
       "      <td>N64</td>\n",
       "      <td>2002</td>\n",
       "      <td>1996</td>\n",
       "      <td>6</td>\n",
       "    </tr>\n",
       "    <tr>\n",
       "      <td>11</td>\n",
       "      <td>NES</td>\n",
       "      <td>1994</td>\n",
       "      <td>1983</td>\n",
       "      <td>11</td>\n",
       "    </tr>\n",
       "    <tr>\n",
       "      <td>12</td>\n",
       "      <td>NG</td>\n",
       "      <td>1996</td>\n",
       "      <td>1993</td>\n",
       "      <td>3</td>\n",
       "    </tr>\n",
       "    <tr>\n",
       "      <td>13</td>\n",
       "      <td>PC</td>\n",
       "      <td>2016</td>\n",
       "      <td>1985</td>\n",
       "      <td>31</td>\n",
       "    </tr>\n",
       "    <tr>\n",
       "      <td>14</td>\n",
       "      <td>PCFX</td>\n",
       "      <td>1996</td>\n",
       "      <td>1996</td>\n",
       "      <td>0</td>\n",
       "    </tr>\n",
       "    <tr>\n",
       "      <td>15</td>\n",
       "      <td>PS</td>\n",
       "      <td>2003</td>\n",
       "      <td>1994</td>\n",
       "      <td>9</td>\n",
       "    </tr>\n",
       "    <tr>\n",
       "      <td>16</td>\n",
       "      <td>PS2</td>\n",
       "      <td>2011</td>\n",
       "      <td>2000</td>\n",
       "      <td>11</td>\n",
       "    </tr>\n",
       "    <tr>\n",
       "      <td>17</td>\n",
       "      <td>PS3</td>\n",
       "      <td>2016</td>\n",
       "      <td>2006</td>\n",
       "      <td>10</td>\n",
       "    </tr>\n",
       "    <tr>\n",
       "      <td>18</td>\n",
       "      <td>PS4</td>\n",
       "      <td>2016</td>\n",
       "      <td>2013</td>\n",
       "      <td>3</td>\n",
       "    </tr>\n",
       "    <tr>\n",
       "      <td>19</td>\n",
       "      <td>PSP</td>\n",
       "      <td>2015</td>\n",
       "      <td>2004</td>\n",
       "      <td>11</td>\n",
       "    </tr>\n",
       "    <tr>\n",
       "      <td>20</td>\n",
       "      <td>PSV</td>\n",
       "      <td>2016</td>\n",
       "      <td>2011</td>\n",
       "      <td>5</td>\n",
       "    </tr>\n",
       "    <tr>\n",
       "      <td>21</td>\n",
       "      <td>SAT</td>\n",
       "      <td>1999</td>\n",
       "      <td>1994</td>\n",
       "      <td>5</td>\n",
       "    </tr>\n",
       "    <tr>\n",
       "      <td>22</td>\n",
       "      <td>SCD</td>\n",
       "      <td>1994</td>\n",
       "      <td>1993</td>\n",
       "      <td>1</td>\n",
       "    </tr>\n",
       "    <tr>\n",
       "      <td>23</td>\n",
       "      <td>SNES</td>\n",
       "      <td>1999</td>\n",
       "      <td>1990</td>\n",
       "      <td>9</td>\n",
       "    </tr>\n",
       "    <tr>\n",
       "      <td>24</td>\n",
       "      <td>TG16</td>\n",
       "      <td>1995</td>\n",
       "      <td>1995</td>\n",
       "      <td>0</td>\n",
       "    </tr>\n",
       "    <tr>\n",
       "      <td>25</td>\n",
       "      <td>WS</td>\n",
       "      <td>2001</td>\n",
       "      <td>1999</td>\n",
       "      <td>2</td>\n",
       "    </tr>\n",
       "    <tr>\n",
       "      <td>26</td>\n",
       "      <td>Wii</td>\n",
       "      <td>2016</td>\n",
       "      <td>2006</td>\n",
       "      <td>10</td>\n",
       "    </tr>\n",
       "    <tr>\n",
       "      <td>27</td>\n",
       "      <td>WiiU</td>\n",
       "      <td>2016</td>\n",
       "      <td>2012</td>\n",
       "      <td>4</td>\n",
       "    </tr>\n",
       "    <tr>\n",
       "      <td>28</td>\n",
       "      <td>X360</td>\n",
       "      <td>2016</td>\n",
       "      <td>2005</td>\n",
       "      <td>11</td>\n",
       "    </tr>\n",
       "    <tr>\n",
       "      <td>29</td>\n",
       "      <td>XB</td>\n",
       "      <td>2008</td>\n",
       "      <td>2000</td>\n",
       "      <td>8</td>\n",
       "    </tr>\n",
       "    <tr>\n",
       "      <td>30</td>\n",
       "      <td>XOne</td>\n",
       "      <td>2016</td>\n",
       "      <td>2013</td>\n",
       "      <td>3</td>\n",
       "    </tr>\n",
       "  </tbody>\n",
       "</table>\n",
       "</div>"
      ],
      "text/plain": [
       "   platform  year_of_release_max  year_of_release_min  life\n",
       "0      2600                 1989                 1980     9\n",
       "1       3DO                 1995                 1994     1\n",
       "2       3DS                 2016                 2011     5\n",
       "3        DC                 2008                 1998    10\n",
       "4        DS                 2013                 1985    28\n",
       "5        GB                 2001                 1988    13\n",
       "6       GBA                 2007                 2000     7\n",
       "7        GC                 2007                 2001     6\n",
       "8       GEN                 1994                 1990     4\n",
       "9        GG                 1992                 1992     0\n",
       "10      N64                 2002                 1996     6\n",
       "11      NES                 1994                 1983    11\n",
       "12       NG                 1996                 1993     3\n",
       "13       PC                 2016                 1985    31\n",
       "14     PCFX                 1996                 1996     0\n",
       "15       PS                 2003                 1994     9\n",
       "16      PS2                 2011                 2000    11\n",
       "17      PS3                 2016                 2006    10\n",
       "18      PS4                 2016                 2013     3\n",
       "19      PSP                 2015                 2004    11\n",
       "20      PSV                 2016                 2011     5\n",
       "21      SAT                 1999                 1994     5\n",
       "22      SCD                 1994                 1993     1\n",
       "23     SNES                 1999                 1990     9\n",
       "24     TG16                 1995                 1995     0\n",
       "25       WS                 2001                 1999     2\n",
       "26      Wii                 2016                 2006    10\n",
       "27     WiiU                 2016                 2012     4\n",
       "28     X360                 2016                 2005    11\n",
       "29       XB                 2008                 2000     8\n",
       "30     XOne                 2016                 2013     3"
      ]
     },
     "execution_count": 33,
     "metadata": {},
     "output_type": "execute_result"
    }
   ],
   "source": [
    "platform_life"
   ]
  },
  {
   "cell_type": "code",
   "execution_count": 34,
   "metadata": {},
   "outputs": [
    {
     "data": {
      "text/html": [
       "<div>\n",
       "<style scoped>\n",
       "    .dataframe tbody tr th:only-of-type {\n",
       "        vertical-align: middle;\n",
       "    }\n",
       "\n",
       "    .dataframe tbody tr th {\n",
       "        vertical-align: top;\n",
       "    }\n",
       "\n",
       "    .dataframe thead th {\n",
       "        text-align: right;\n",
       "    }\n",
       "</style>\n",
       "<table border=\"1\" class=\"dataframe\">\n",
       "  <thead>\n",
       "    <tr style=\"text-align: right;\">\n",
       "      <th></th>\n",
       "      <th>year_of_release_max</th>\n",
       "      <th>year_of_release_min</th>\n",
       "      <th>life</th>\n",
       "    </tr>\n",
       "  </thead>\n",
       "  <tbody>\n",
       "    <tr>\n",
       "      <td>count</td>\n",
       "      <td>31.000000</td>\n",
       "      <td>31.000000</td>\n",
       "      <td>31.000000</td>\n",
       "    </tr>\n",
       "    <tr>\n",
       "      <td>mean</td>\n",
       "      <td>2005.258065</td>\n",
       "      <td>1997.645161</td>\n",
       "      <td>7.612903</td>\n",
       "    </tr>\n",
       "    <tr>\n",
       "      <td>std</td>\n",
       "      <td>9.273503</td>\n",
       "      <td>9.094131</td>\n",
       "      <td>6.998464</td>\n",
       "    </tr>\n",
       "    <tr>\n",
       "      <td>min</td>\n",
       "      <td>1989.000000</td>\n",
       "      <td>1980.000000</td>\n",
       "      <td>0.000000</td>\n",
       "    </tr>\n",
       "    <tr>\n",
       "      <td>25%</td>\n",
       "      <td>1996.000000</td>\n",
       "      <td>1992.500000</td>\n",
       "      <td>3.000000</td>\n",
       "    </tr>\n",
       "    <tr>\n",
       "      <td>50%</td>\n",
       "      <td>2007.000000</td>\n",
       "      <td>1996.000000</td>\n",
       "      <td>6.000000</td>\n",
       "    </tr>\n",
       "    <tr>\n",
       "      <td>75%</td>\n",
       "      <td>2016.000000</td>\n",
       "      <td>2004.500000</td>\n",
       "      <td>10.000000</td>\n",
       "    </tr>\n",
       "    <tr>\n",
       "      <td>max</td>\n",
       "      <td>2016.000000</td>\n",
       "      <td>2013.000000</td>\n",
       "      <td>31.000000</td>\n",
       "    </tr>\n",
       "  </tbody>\n",
       "</table>\n",
       "</div>"
      ],
      "text/plain": [
       "       year_of_release_max  year_of_release_min       life\n",
       "count            31.000000            31.000000  31.000000\n",
       "mean           2005.258065          1997.645161   7.612903\n",
       "std               9.273503             9.094131   6.998464\n",
       "min            1989.000000          1980.000000   0.000000\n",
       "25%            1996.000000          1992.500000   3.000000\n",
       "50%            2007.000000          1996.000000   6.000000\n",
       "75%            2016.000000          2004.500000  10.000000\n",
       "max            2016.000000          2013.000000  31.000000"
      ]
     },
     "execution_count": 34,
     "metadata": {},
     "output_type": "execute_result"
    }
   ],
   "source": [
    "platform_life.describe()"
   ]
  },
  {
   "cell_type": "code",
   "execution_count": 35,
   "metadata": {},
   "outputs": [],
   "source": [
    "games_t_pl = games_t.query('year_of_release > 2013')"
   ]
  },
  {
   "cell_type": "code",
   "execution_count": 36,
   "metadata": {},
   "outputs": [
    {
     "data": {
      "image/png": "[encoded data removed]",
      "text/plain": [
       "<Figure size 1080x360 with 1 Axes>"
      ]
     },
     "metadata": {},
     "output_type": "display_data"
    }
   ],
   "source": [
    "sns.set(rc={'figure.figsize':(15, 5)})\n",
    "sns.barplot(x='year_of_release', y='total_sales', hue='platform', data=games_t_pl)\n",
    "plt.xticks(rotation=65)\n",
    "plt.title('Distribution of sales for current platforms over the past 3 years')\n",
    "plt.show()"
   ]
  },
  {
   "cell_type": "code",
   "execution_count": 37,
   "metadata": {},
   "outputs": [],
   "source": [
    "games_t_pl = games_t_pl.groupby(['platform', 'year_of_release']).agg({'total_sales':'sum'}).reset_index()"
   ]
  },
  {
   "cell_type": "code",
   "execution_count": 38,
   "metadata": {},
   "outputs": [
    {
     "data": {
      "text/html": [
       "<div>\n",
       "<style scoped>\n",
       "    .dataframe tbody tr th:only-of-type {\n",
       "        vertical-align: middle;\n",
       "    }\n",
       "\n",
       "    .dataframe tbody tr th {\n",
       "        vertical-align: top;\n",
       "    }\n",
       "\n",
       "    .dataframe thead th {\n",
       "        text-align: right;\n",
       "    }\n",
       "</style>\n",
       "<table border=\"1\" class=\"dataframe\">\n",
       "  <thead>\n",
       "    <tr style=\"text-align: right;\">\n",
       "      <th></th>\n",
       "      <th>platform</th>\n",
       "      <th>year_of_release</th>\n",
       "      <th>total_sales</th>\n",
       "    </tr>\n",
       "  </thead>\n",
       "  <tbody>\n",
       "    <tr>\n",
       "      <td>0</td>\n",
       "      <td>3DS</td>\n",
       "      <td>2014</td>\n",
       "      <td>43.76</td>\n",
       "    </tr>\n",
       "    <tr>\n",
       "      <td>1</td>\n",
       "      <td>3DS</td>\n",
       "      <td>2015</td>\n",
       "      <td>27.78</td>\n",
       "    </tr>\n",
       "    <tr>\n",
       "      <td>2</td>\n",
       "      <td>3DS</td>\n",
       "      <td>2016</td>\n",
       "      <td>15.14</td>\n",
       "    </tr>\n",
       "    <tr>\n",
       "      <td>3</td>\n",
       "      <td>PC</td>\n",
       "      <td>2014</td>\n",
       "      <td>13.28</td>\n",
       "    </tr>\n",
       "    <tr>\n",
       "      <td>4</td>\n",
       "      <td>PC</td>\n",
       "      <td>2015</td>\n",
       "      <td>8.52</td>\n",
       "    </tr>\n",
       "    <tr>\n",
       "      <td>5</td>\n",
       "      <td>PC</td>\n",
       "      <td>2016</td>\n",
       "      <td>5.25</td>\n",
       "    </tr>\n",
       "    <tr>\n",
       "      <td>6</td>\n",
       "      <td>PS3</td>\n",
       "      <td>2014</td>\n",
       "      <td>47.76</td>\n",
       "    </tr>\n",
       "    <tr>\n",
       "      <td>7</td>\n",
       "      <td>PS3</td>\n",
       "      <td>2015</td>\n",
       "      <td>16.82</td>\n",
       "    </tr>\n",
       "    <tr>\n",
       "      <td>8</td>\n",
       "      <td>PS3</td>\n",
       "      <td>2016</td>\n",
       "      <td>3.60</td>\n",
       "    </tr>\n",
       "    <tr>\n",
       "      <td>9</td>\n",
       "      <td>PS4</td>\n",
       "      <td>2014</td>\n",
       "      <td>100.00</td>\n",
       "    </tr>\n",
       "    <tr>\n",
       "      <td>10</td>\n",
       "      <td>PS4</td>\n",
       "      <td>2015</td>\n",
       "      <td>118.90</td>\n",
       "    </tr>\n",
       "    <tr>\n",
       "      <td>11</td>\n",
       "      <td>PS4</td>\n",
       "      <td>2016</td>\n",
       "      <td>69.25</td>\n",
       "    </tr>\n",
       "    <tr>\n",
       "      <td>12</td>\n",
       "      <td>PSP</td>\n",
       "      <td>2014</td>\n",
       "      <td>0.24</td>\n",
       "    </tr>\n",
       "    <tr>\n",
       "      <td>13</td>\n",
       "      <td>PSP</td>\n",
       "      <td>2015</td>\n",
       "      <td>0.12</td>\n",
       "    </tr>\n",
       "    <tr>\n",
       "      <td>14</td>\n",
       "      <td>PSV</td>\n",
       "      <td>2014</td>\n",
       "      <td>11.90</td>\n",
       "    </tr>\n",
       "    <tr>\n",
       "      <td>15</td>\n",
       "      <td>PSV</td>\n",
       "      <td>2015</td>\n",
       "      <td>6.25</td>\n",
       "    </tr>\n",
       "    <tr>\n",
       "      <td>16</td>\n",
       "      <td>PSV</td>\n",
       "      <td>2016</td>\n",
       "      <td>4.25</td>\n",
       "    </tr>\n",
       "    <tr>\n",
       "      <td>17</td>\n",
       "      <td>Wii</td>\n",
       "      <td>2014</td>\n",
       "      <td>3.75</td>\n",
       "    </tr>\n",
       "    <tr>\n",
       "      <td>18</td>\n",
       "      <td>Wii</td>\n",
       "      <td>2015</td>\n",
       "      <td>1.14</td>\n",
       "    </tr>\n",
       "    <tr>\n",
       "      <td>19</td>\n",
       "      <td>Wii</td>\n",
       "      <td>2016</td>\n",
       "      <td>0.18</td>\n",
       "    </tr>\n",
       "    <tr>\n",
       "      <td>20</td>\n",
       "      <td>WiiU</td>\n",
       "      <td>2014</td>\n",
       "      <td>22.03</td>\n",
       "    </tr>\n",
       "    <tr>\n",
       "      <td>21</td>\n",
       "      <td>WiiU</td>\n",
       "      <td>2015</td>\n",
       "      <td>16.35</td>\n",
       "    </tr>\n",
       "    <tr>\n",
       "      <td>22</td>\n",
       "      <td>WiiU</td>\n",
       "      <td>2016</td>\n",
       "      <td>4.60</td>\n",
       "    </tr>\n",
       "    <tr>\n",
       "      <td>23</td>\n",
       "      <td>X360</td>\n",
       "      <td>2014</td>\n",
       "      <td>34.74</td>\n",
       "    </tr>\n",
       "    <tr>\n",
       "      <td>24</td>\n",
       "      <td>X360</td>\n",
       "      <td>2015</td>\n",
       "      <td>11.96</td>\n",
       "    </tr>\n",
       "    <tr>\n",
       "      <td>25</td>\n",
       "      <td>X360</td>\n",
       "      <td>2016</td>\n",
       "      <td>1.52</td>\n",
       "    </tr>\n",
       "    <tr>\n",
       "      <td>26</td>\n",
       "      <td>XOne</td>\n",
       "      <td>2014</td>\n",
       "      <td>54.07</td>\n",
       "    </tr>\n",
       "    <tr>\n",
       "      <td>27</td>\n",
       "      <td>XOne</td>\n",
       "      <td>2015</td>\n",
       "      <td>60.14</td>\n",
       "    </tr>\n",
       "    <tr>\n",
       "      <td>28</td>\n",
       "      <td>XOne</td>\n",
       "      <td>2016</td>\n",
       "      <td>26.15</td>\n",
       "    </tr>\n",
       "  </tbody>\n",
       "</table>\n",
       "</div>"
      ],
      "text/plain": [
       "   platform  year_of_release  total_sales\n",
       "0       3DS             2014        43.76\n",
       "1       3DS             2015        27.78\n",
       "2       3DS             2016        15.14\n",
       "3        PC             2014        13.28\n",
       "4        PC             2015         8.52\n",
       "5        PC             2016         5.25\n",
       "6       PS3             2014        47.76\n",
       "7       PS3             2015        16.82\n",
       "8       PS3             2016         3.60\n",
       "9       PS4             2014       100.00\n",
       "10      PS4             2015       118.90\n",
       "11      PS4             2016        69.25\n",
       "12      PSP             2014         0.24\n",
       "13      PSP             2015         0.12\n",
       "14      PSV             2014        11.90\n",
       "15      PSV             2015         6.25\n",
       "16      PSV             2016         4.25\n",
       "17      Wii             2014         3.75\n",
       "18      Wii             2015         1.14\n",
       "19      Wii             2016         0.18\n",
       "20     WiiU             2014        22.03\n",
       "21     WiiU             2015        16.35\n",
       "22     WiiU             2016         4.60\n",
       "23     X360             2014        34.74\n",
       "24     X360             2015        11.96\n",
       "25     X360             2016         1.52\n",
       "26     XOne             2014        54.07\n",
       "27     XOne             2015        60.14\n",
       "28     XOne             2016        26.15"
      ]
     },
     "execution_count": 38,
     "metadata": {},
     "output_type": "execute_result"
    }
   ],
   "source": [
    "games_t_pl"
   ]
  },
  {
   "cell_type": "markdown",
   "metadata": {},
   "source": [
    "<div class=\"alert alert-info\">\n",
    "    How can any of the platforms have such growth over the past year. You can relate this to the general economic situation, and pay attention to platforms that show more or less stable sales, still have a high level of sales or had growth in the past such platforms include PS4, XOne, 3DS, PC and PSV."
   ]
  },
  {
   "cell_type": "code",
   "execution_count": 39,
   "metadata": {},
   "outputs": [
    {
     "data": {
      "text/plain": [
       "<matplotlib.axes._subplots.AxesSubplot at 0x7f12d43bf490>"
      ]
     },
     "execution_count": 39,
     "metadata": {},
     "output_type": "execute_result"
    },
    {
     "data": {
      "image/png": "[encoded data removed]",
      "text/plain": [
       "<Figure size 1080x360 with 1 Axes>"
      ]
     },
     "metadata": {},
     "output_type": "display_data"
    }
   ],
   "source": [
    "games_plat = games_t.groupby(['platform', 'year_of_release']).agg({'total_sales':'sum'}).reset_index()\n",
    "games_plat = games_plat.query('platform == \"PS2\" or platform == \"X360\" or platform == \"PS3\" or platform == \"PC\" or platform == \"XOne\"')\n",
    "sns.boxplot(x=games_plat['total_sales'], y=games_plat['platform'])"
   ]
  },
  {
   "cell_type": "markdown",
   "metadata": {},
   "source": [
    "<div class=\"alert alert-info\">\n",
    "    For example, let's take the PS3 platform, because. She is the top seller for 2016."
   ]
  },
  {
   "cell_type": "code",
   "execution_count": 40,
   "metadata": {},
   "outputs": [
    {
     "data": {
      "text/plain": [
       "<matplotlib.axes._subplots.AxesSubplot at 0x7f12d4316050>"
      ]
     },
     "execution_count": 40,
     "metadata": {},
     "output_type": "execute_result"
    },
    {
     "data": {
      "image/png": "[encoded data removed]",
      "text/plain": [
       "<Figure size 1080x360 with 1 Axes>"
      ]
     },
     "metadata": {},
     "output_type": "display_data"
    }
   ],
   "source": [
    "platform_critic_score = games_t.query('platform == \"PS3\"').pivot_table(\n",
    "    index='critic_score', values='total_sales')\n",
    "platform_critic_score.plot()"
   ]
  },
  {
   "cell_type": "code",
   "execution_count": 41,
   "metadata": {},
   "outputs": [
    {
     "data": {
      "text/plain": [
       "<matplotlib.axes._subplots.AxesSubplot at 0x7f12d436ce50>"
      ]
     },
     "execution_count": 41,
     "metadata": {},
     "output_type": "execute_result"
    },
    {
     "data": {
      "image/png": "[encoded data removed]",
      "text/plain": [
       "<Figure size 1080x360 with 1 Axes>"
      ]
     },
     "metadata": {},
     "output_type": "display_data"
    }
   ],
   "source": [
    "platform_user_score = games_t.query('platform == \"PS3\"').pivot_table(\n",
    "    index='user_score', values='total_sales')\n",
    "platform_user_score.plot()"
   ]
  },
  {
   "cell_type": "code",
   "execution_count": 42,
   "metadata": {},
   "outputs": [
    {
     "data": {
      "text/plain": [
       "<matplotlib.axes._subplots.AxesSubplot at 0x7f12d451ec90>"
      ]
     },
     "execution_count": 42,
     "metadata": {},
     "output_type": "execute_result"
    },
    {
     "data": {
      "image/png": "[encoded data removed]",
      "text/plain": [
       "<Figure size 1080x360 with 1 Axes>"
      ]
     },
     "metadata": {},
     "output_type": "display_data"
    }
   ],
   "source": [
    "games_t.pivot_table(index='critic_score', values='total_sales').plot()"
   ]
  },
  {
   "cell_type": "code",
   "execution_count": 43,
   "metadata": {},
   "outputs": [
    {
     "data": {
      "text/plain": [
       "<matplotlib.axes._subplots.AxesSubplot at 0x7f12d4499210>"
      ]
     },
     "execution_count": 43,
     "metadata": {},
     "output_type": "execute_result"
    },
    {
     "data": {
      "image/png": "[encoded data removed]",
      "text/plain": [
       "<Figure size 1080x360 with 1 Axes>"
      ]
     },
     "metadata": {},
     "output_type": "display_data"
    }
   ],
   "source": [
    "games_t.pivot_table(index='user_score', values='total_sales').plot()"
   ]
  },
  {
   "cell_type": "code",
   "execution_count": 44,
   "metadata": {},
   "outputs": [],
   "source": [
    "platform_score = games_t.query('platform == \"PS3\"')\n",
    "critic_corr = platform_score['critic_score'].corr(platform_score['total_sales'])\n",
    "user_corr = platform_score['user_score'].corr(platform_score['total_sales'])"
   ]
  },
  {
   "cell_type": "code",
   "execution_count": 45,
   "metadata": {},
   "outputs": [
    {
     "data": {
      "text/plain": [
       "0.4327589578997135"
      ]
     },
     "execution_count": 45,
     "metadata": {},
     "output_type": "execute_result"
    }
   ],
   "source": [
    "critic_corr"
   ]
  },
  {
   "cell_type": "code",
   "execution_count": 46,
   "metadata": {},
   "outputs": [
    {
     "data": {
      "text/plain": [
       "0.12841562938563006"
      ]
     },
     "execution_count": 46,
     "metadata": {},
     "output_type": "execute_result"
    }
   ],
   "source": [
    "user_corr"
   ]
  },
  {
   "cell_type": "markdown",
   "metadata": {},
   "source": [
    "<div class=\"alert alert-info\">\n",
    "    It can be said that the opinion of critics still somehow affects sales, but the opinions of users and their ratings do not affect sales. Moreover, this applies to the platform specifically chosen for analysis, and to all others."
   ]
  },
  {
   "cell_type": "code",
   "execution_count": 47,
   "metadata": {},
   "outputs": [
    {
     "data": {
      "text/html": [
       "<div>\n",
       "<style scoped>\n",
       "    .dataframe tbody tr th:only-of-type {\n",
       "        vertical-align: middle;\n",
       "    }\n",
       "\n",
       "    .dataframe tbody tr th {\n",
       "        vertical-align: top;\n",
       "    }\n",
       "\n",
       "    .dataframe thead th {\n",
       "        text-align: right;\n",
       "    }\n",
       "</style>\n",
       "<table border=\"1\" class=\"dataframe\">\n",
       "  <thead>\n",
       "    <tr style=\"text-align: right;\">\n",
       "      <th></th>\n",
       "      <th>genre</th>\n",
       "      <th>total_sales</th>\n",
       "    </tr>\n",
       "  </thead>\n",
       "  <tbody>\n",
       "    <tr>\n",
       "      <td>0</td>\n",
       "      <td>Action</td>\n",
       "      <td>3307</td>\n",
       "    </tr>\n",
       "    <tr>\n",
       "      <td>10</td>\n",
       "      <td>Sports</td>\n",
       "      <td>2306</td>\n",
       "    </tr>\n",
       "    <tr>\n",
       "      <td>3</td>\n",
       "      <td>Misc</td>\n",
       "      <td>1721</td>\n",
       "    </tr>\n",
       "    <tr>\n",
       "      <td>7</td>\n",
       "      <td>Role-Playing</td>\n",
       "      <td>1481</td>\n",
       "    </tr>\n",
       "    <tr>\n",
       "      <td>8</td>\n",
       "      <td>Shooter</td>\n",
       "      <td>1296</td>\n",
       "    </tr>\n",
       "    <tr>\n",
       "      <td>1</td>\n",
       "      <td>Adventure</td>\n",
       "      <td>1293</td>\n",
       "    </tr>\n",
       "    <tr>\n",
       "      <td>6</td>\n",
       "      <td>Racing</td>\n",
       "      <td>1226</td>\n",
       "    </tr>\n",
       "    <tr>\n",
       "      <td>4</td>\n",
       "      <td>Platform</td>\n",
       "      <td>878</td>\n",
       "    </tr>\n",
       "    <tr>\n",
       "      <td>9</td>\n",
       "      <td>Simulation</td>\n",
       "      <td>857</td>\n",
       "    </tr>\n",
       "    <tr>\n",
       "      <td>2</td>\n",
       "      <td>Fighting</td>\n",
       "      <td>837</td>\n",
       "    </tr>\n",
       "    <tr>\n",
       "      <td>11</td>\n",
       "      <td>Strategy</td>\n",
       "      <td>673</td>\n",
       "    </tr>\n",
       "    <tr>\n",
       "      <td>5</td>\n",
       "      <td>Puzzle</td>\n",
       "      <td>569</td>\n",
       "    </tr>\n",
       "  </tbody>\n",
       "</table>\n",
       "</div>"
      ],
      "text/plain": [
       "           genre  total_sales\n",
       "0         Action         3307\n",
       "10        Sports         2306\n",
       "3           Misc         1721\n",
       "7   Role-Playing         1481\n",
       "8        Shooter         1296\n",
       "1      Adventure         1293\n",
       "6         Racing         1226\n",
       "4       Platform          878\n",
       "9     Simulation          857\n",
       "2       Fighting          837\n",
       "11      Strategy          673\n",
       "5         Puzzle          569"
      ]
     },
     "execution_count": 47,
     "metadata": {},
     "output_type": "execute_result"
    }
   ],
   "source": [
    "most_popular_genre = games.groupby('genre').agg({'total_sales':'count'}).reset_index()\n",
    "most_popular_genre.sort_values(by='total_sales', ascending=False)"
   ]
  },
  {
   "cell_type": "markdown",
   "metadata": {},
   "source": [
    "<div class=\"alert alert-info\">\n",
    "Action games are leaders in sales, and with a fairly high margin (about 70%).\n",
    "Top three (almost 45% of all sales): Action, Sports, Misc."
   ]
  },
  {
   "cell_type": "markdown",
   "metadata": {},
   "source": [
    "# Drawing up a portrait of the user of each region\n",
    "<a id='portret'></a>"
   ]
  },
  {
   "cell_type": "markdown",
   "metadata": {},
   "source": [
    "The most popular platforms"
   ]
  },
  {
   "cell_type": "code",
   "execution_count": 48,
   "metadata": {},
   "outputs": [
    {
     "data": {
      "text/plain": [
       "<matplotlib.axes._subplots.AxesSubplot at 0x7f12d42334d0>"
      ]
     },
     "execution_count": 48,
     "metadata": {},
     "output_type": "execute_result"
    },
    {
     "data": {
      "image/png": "[encoded data removed]",
      "text/plain": [
       "<Figure size 1080x360 with 1 Axes>"
      ]
     },
     "metadata": {},
     "output_type": "display_data"
    },
    {
     "data": {
      "image/png": "[encoded data removed]",
      "text/plain": [
       "<Figure size 1080x360 with 1 Axes>"
      ]
     },
     "metadata": {},
     "output_type": "display_data"
    },
    {
     "data": {
      "image/png": "[encoded data removed]",
      "text/plain": [
       "<Figure size 1080x360 with 1 Axes>"
      ]
     },
     "metadata": {},
     "output_type": "display_data"
    }
   ],
   "source": [
    "games.groupby(by='platform').agg({'jp_sales':'sum'}).sort_values(by='jp_sales', ascending=False).head(5).plot(kind='bar')\n",
    "games.groupby(by='platform').agg({'eu_sales':'sum'}).sort_values(by='eu_sales', ascending=False).head(5).plot(kind='bar')\n",
    "games.groupby(by='platform').agg({'na_sales':'sum'}).sort_values(by='na_sales', ascending=False).head(5).plot(kind='bar')"
   ]
  },
  {
   "cell_type": "markdown",
   "metadata": {},
   "source": [
    "Most Popular Genres"
   ]
  },
  {
   "cell_type": "code",
   "execution_count": 49,
   "metadata": {},
   "outputs": [
    {
     "data": {
      "text/plain": [
       "<matplotlib.axes._subplots.AxesSubplot at 0x7f12d411c390>"
      ]
     },
     "execution_count": 49,
     "metadata": {},
     "output_type": "execute_result"
    },
    {
     "data": {
      "image/png": "[encoded data removed]",
      "text/plain": [
       "<Figure size 1080x360 with 1 Axes>"
      ]
     },
     "metadata": {},
     "output_type": "display_data"
    },
    {
     "data": {
      "image/png": "[encoded data removed]",
      "text/plain": [
       "<Figure size 1080x360 with 1 Axes>"
      ]
     },
     "metadata": {},
     "output_type": "display_data"
    },
    {
     "data": {
      "image/png": "[encoded data removed]",
      "text/plain": [
       "<Figure size 1080x360 with 1 Axes>"
      ]
     },
     "metadata": {},
     "output_type": "display_data"
    }
   ],
   "source": [
    "games.groupby(by='genre').agg({'jp_sales':'sum'}).sort_values(by='jp_sales', ascending=False).head(5).plot(kind='bar')\n",
    "games.groupby(by='genre').agg({'eu_sales':'sum'}).sort_values(by='eu_sales', ascending=False).head(5).plot(kind='bar')\n",
    "games.groupby(by='genre').agg({'na_sales':'sum'}).sort_values(by='na_sales', ascending=False).head(5).plot(kind='bar')"
   ]
  },
  {
   "cell_type": "markdown",
   "metadata": {},
   "source": [
    "<div class=\"alert alert-info\">\n",
    "    The Japanese are big fans of all sorts of \"anime\" and various experiments, they always spread innovations very quickly. Therefore, I think role-playing games are popular with them."
   ]
  },
  {
   "cell_type": "markdown",
   "metadata": {},
   "source": [
    "The impact of the ESRB rating on sales in a particular region"
   ]
  },
  {
   "cell_type": "code",
   "execution_count": 50,
   "metadata": {},
   "outputs": [],
   "source": [
    "games['rating'] = games['rating'].fillna('NC')"
   ]
  },
  {
   "cell_type": "code",
   "execution_count": 51,
   "metadata": {},
   "outputs": [
    {
     "data": {
      "text/plain": [
       "<matplotlib.axes._subplots.AxesSubplot at 0x7f12d3f76a10>"
      ]
     },
     "execution_count": 51,
     "metadata": {},
     "output_type": "execute_result"
    },
    {
     "data": {
      "image/png": "[encoded data removed]",
      "text/plain": [
       "<Figure size 1080x360 with 1 Axes>"
      ]
     },
     "metadata": {},
     "output_type": "display_data"
    },
    {
     "data": {
      "image/png": "[encoded data removed]",
      "text/plain": [
       "<Figure size 1080x360 with 1 Axes>"
      ]
     },
     "metadata": {},
     "output_type": "display_data"
    },
    {
     "data": {
      "image/png": "[encoded data removed]",
      "text/plain": [
       "<Figure size 1080x360 with 1 Axes>"
      ]
     },
     "metadata": {},
     "output_type": "display_data"
    }
   ],
   "source": [
    "games.groupby(by='rating').agg({'jp_sales':'sum'}).sort_values(by='jp_sales', ascending=False).head(5).plot(kind='bar')\n",
    "games.groupby(by='rating').agg({'eu_sales':'sum'}).sort_values(by='eu_sales', ascending=False).head(5).plot(kind='bar')\n",
    "games.groupby(by='rating').agg({'na_sales':'sum'}).sort_values(by='na_sales', ascending=False).head(5).plot(kind='bar')"
   ]
  },
  {
   "cell_type": "markdown",
   "metadata": {},
   "source": [
    "<div class=\"alert alert-info\">\n",
    "    The missing rating has been replaced with an NC (no category) value because there is no way to fill in the gaps with valid data. An empty rating is present among games of various genres, platforms and release times, so they cannot be classified as pending releases.\n",
    "     In principle, global trends are similar - the most common are action games with the \"For everyone\" category. Out of the picture - Japan. It is possible that the rating is not paid much attention there."
   ]
  },
  {
   "cell_type": "markdown",
   "metadata": {},
   "source": [
    "# Hypothesis testing\n",
    "<a id='gipoteza'></a>"
   ]
  },
  {
   "cell_type": "markdown",
   "metadata": {},
   "source": [
    "We will use the Student's t-test, since the compared samples are independent of each other.\n",
    "\n",
    "Hypotheses:\n",
    "- H0: the average user rating of the Xbox One and PC platforms is the same\n",
    "- H1: average user ratings for Xbox One and PC platforms vary"
   ]
  },
  {
   "cell_type": "code",
   "execution_count": 52,
   "metadata": {},
   "outputs": [],
   "source": [
    "alpha = 0.05"
   ]
  },
  {
   "cell_type": "code",
   "execution_count": 53,
   "metadata": {},
   "outputs": [],
   "source": [
    "XOne = games[(games['platform'] == 'XOne') & (games['user_score'] > 0)]['user_score']\n",
    "PC = games[(games['platform'] == 'PC') & (games['user_score'] > 0)]['user_score']"
   ]
  },
  {
   "cell_type": "code",
   "execution_count": 54,
   "metadata": {},
   "outputs": [],
   "source": [
    "results = st.ttest_ind(XOne, PC)"
   ]
  },
  {
   "cell_type": "code",
   "execution_count": 55,
   "metadata": {},
   "outputs": [
    {
     "name": "stdout",
     "output_type": "stream",
     "text": [
      "p-значение: 1.3037979620149106e-05\n",
      "Отвергаем нулевую гипотезу\n"
     ]
    }
   ],
   "source": [
    "print('p-value:', results.pvalue)\n",
    "\n",
    "if (results.pvalue < alpha):\n",
    "    print(\"Rejecting the null hypothesis\")\n",
    "else:\n",
    "    print(\"Failed to reject the null hypothesis\")"
   ]
  },
  {
   "cell_type": "markdown",
   "metadata": {},
   "source": [
    "Hypotheses:\n",
    "- H0: the average user rating of the Action and Sports genres is the same\n",
    "- H1: the average user rating of the Action and Sports genres is different"
   ]
  },
  {
   "cell_type": "code",
   "execution_count": 56,
   "metadata": {},
   "outputs": [],
   "source": [
    "action = games[(games['genre'] == 'Action') & (games['user_score'] > 0)]['user_score']\n",
    "sports = games[(games['genre'] == 'Sports') & (games['user_score'] > 0)]['user_score']"
   ]
  },
  {
   "cell_type": "code",
   "execution_count": 57,
   "metadata": {},
   "outputs": [],
   "source": [
    "results = st.ttest_ind(action, sports)"
   ]
  },
  {
   "cell_type": "code",
   "execution_count": 58,
   "metadata": {},
   "outputs": [
    {
     "name": "stdout",
     "output_type": "stream",
     "text": [
      "p-значение: 0.06480928064420527\n",
      "Не получилось отвергнуть нулевую гипотезу\n"
     ]
    }
   ],
   "source": [
    "\n",
    "print('p-value:', results.pvalue)\n",
    "\n",
    "if (results.pvalue < alpha):\n",
    "    print(\"Rejecting the null hypothesis\")\n",
    "else:\n",
    "    print(\"Failed to reject the null hypothesis\")"
   ]
  },
  {
   "cell_type": "markdown",
   "metadata": {},
   "source": [
    "# General conclusion\n",
    "<a id='end'></a>"
   ]
  },
  {
   "cell_type": "markdown",
   "metadata": {},
   "source": [
    "Over the past years (since 2008) there has been a significant drop in sales in all regions. This can be influenced by an increase in the share of mobile devices used everywhere and for everything. The general economic situation in which fewer and fewer companies are investing in this also affects."
   ]
  },
  {
   "cell_type": "markdown",
   "metadata": {},
   "source": [
    "<div class=\"alert alert-info\">\n",
    "    During the implementation of the project, several issues were raised regarding the sale of games on various platforms. The main factors influencing sales were not only the prevalence of certain platforms, but also the genre of games.\n",
    "    Over the past years (since 2008) there has been a significant drop in sales in all regions. This can be influenced by an increase in the share of mobile devices used everywhere and for everything.\n",
    "    At the time of research, the leading platform is PS (models 2 and 3).\n",
    "    The longest-lived platform is the PC - more than 30 years on the market (all other modern platforms have an average duration of popularity no more than 10 years).\n",
    "    The most common games are action games with the \"For everyone\" category.\n",
    "    The Japanese market is knocked out of the global trends. Perhaps this is due to their mentality and the speed of technology development.\n",
    "    "
   ]
  }
 ],
 "metadata": {
  "ExecuteTimeLog": [
   {
    "duration": 1390,
    "start_time": "2021-06-10T21:27:32.932Z"
   },
   {
    "duration": 65,
    "start_time": "2021-06-10T21:28:15.528Z"
   },
   {
    "duration": 44,
    "start_time": "2021-06-10T21:29:36.192Z"
   },
   {
    "duration": 14,
    "start_time": "2021-06-10T21:29:37.804Z"
   },
   {
    "duration": 19,
    "start_time": "2021-06-10T21:32:00.054Z"
   },
   {
    "duration": 23,
    "start_time": "2021-06-10T21:41:13.131Z"
   },
   {
    "duration": 1439,
    "start_time": "2021-06-10T21:41:28.931Z"
   },
   {
    "duration": 47,
    "start_time": "2021-06-10T21:41:30.373Z"
   },
   {
    "duration": 26,
    "start_time": "2021-06-10T21:41:30.423Z"
   },
   {
    "duration": 60,
    "start_time": "2021-06-10T21:41:30.451Z"
   },
   {
    "duration": 14,
    "start_time": "2021-06-10T21:41:30.513Z"
   },
   {
    "duration": 18,
    "start_time": "2021-06-10T21:51:47.788Z"
   },
   {
    "duration": 4,
    "start_time": "2021-06-10T21:51:51.598Z"
   },
   {
    "duration": 18,
    "start_time": "2021-06-10T21:51:52.370Z"
   },
   {
    "duration": 530,
    "start_time": "2021-06-10T21:54:56.887Z"
   },
   {
    "duration": 9,
    "start_time": "2021-06-10T21:56:00.885Z"
   },
   {
    "duration": 373,
    "start_time": "2021-06-10T21:57:55.642Z"
   },
   {
    "duration": 341,
    "start_time": "2021-06-10T21:58:07.423Z"
   },
   {
    "duration": 12,
    "start_time": "2021-06-10T21:58:29.993Z"
   },
   {
    "duration": 12,
    "start_time": "2021-06-10T22:04:55.094Z"
   },
   {
    "duration": 12,
    "start_time": "2021-06-10T22:04:56.335Z"
   },
   {
    "duration": 409,
    "start_time": "2021-06-10T22:06:32.096Z"
   },
   {
    "duration": 369,
    "start_time": "2021-06-10T22:06:53.528Z"
   },
   {
    "duration": 5,
    "start_time": "2021-06-10T22:07:06.240Z"
   },
   {
    "duration": 15,
    "start_time": "2021-06-10T22:07:22.816Z"
   },
   {
    "duration": 7,
    "start_time": "2021-06-10T22:08:56.178Z"
   },
   {
    "duration": 7,
    "start_time": "2021-06-10T22:09:14.552Z"
   },
   {
    "duration": 9,
    "start_time": "2021-06-10T22:16:32.828Z"
   },
   {
    "duration": 7,
    "start_time": "2021-06-10T22:16:38.572Z"
   },
   {
    "duration": 6,
    "start_time": "2021-06-10T22:17:20.782Z"
   },
   {
    "duration": 14,
    "start_time": "2021-06-10T22:17:45.385Z"
   },
   {
    "duration": 9,
    "start_time": "2021-06-10T22:20:14.862Z"
   },
   {
    "duration": 7,
    "start_time": "2021-06-10T22:20:17.786Z"
   },
   {
    "duration": 1749,
    "start_time": "2021-06-10T22:20:33.333Z"
   },
   {
    "duration": 64,
    "start_time": "2021-06-10T22:20:35.085Z"
   },
   {
    "duration": 38,
    "start_time": "2021-06-10T22:20:35.153Z"
   },
   {
    "duration": 72,
    "start_time": "2021-06-10T22:20:35.194Z"
   },
   {
    "duration": 45,
    "start_time": "2021-06-10T22:20:35.269Z"
   },
   {
    "duration": 8,
    "start_time": "2021-06-10T22:20:35.317Z"
   },
   {
    "duration": 59,
    "start_time": "2021-06-10T22:20:35.328Z"
   },
   {
    "duration": 25,
    "start_time": "2021-06-10T22:20:35.391Z"
   },
   {
    "duration": 17,
    "start_time": "2021-06-10T22:20:35.419Z"
   },
   {
    "duration": 38,
    "start_time": "2021-06-10T22:20:35.439Z"
   },
   {
    "duration": 6,
    "start_time": "2021-06-10T22:20:35.480Z"
   },
   {
    "duration": 31,
    "start_time": "2021-06-10T22:20:35.489Z"
   },
   {
    "duration": 8,
    "start_time": "2021-06-10T22:20:35.522Z"
   },
   {
    "duration": 13,
    "start_time": "2021-06-10T22:20:35.533Z"
   },
   {
    "duration": 9,
    "start_time": "2021-06-10T22:20:35.549Z"
   },
   {
    "duration": 15,
    "start_time": "2021-06-10T22:20:35.561Z"
   },
   {
    "duration": 45,
    "start_time": "2021-06-10T22:20:35.579Z"
   },
   {
    "duration": 21,
    "start_time": "2021-06-10T22:21:41.927Z"
   },
   {
    "duration": 27,
    "start_time": "2021-06-10T22:24:09.723Z"
   },
   {
    "duration": 56,
    "start_time": "2021-06-10T22:24:44.025Z"
   },
   {
    "duration": 13,
    "start_time": "2021-06-10T22:24:59.493Z"
   },
   {
    "duration": 444,
    "start_time": "2021-06-10T22:26:52.882Z"
   },
   {
    "duration": 528,
    "start_time": "2021-06-10T22:32:46.051Z"
   },
   {
    "duration": 383,
    "start_time": "2021-06-10T22:33:06.897Z"
   },
   {
    "duration": 9,
    "start_time": "2021-06-10T22:33:53.378Z"
   },
   {
    "duration": 417,
    "start_time": "2021-06-10T22:34:19.943Z"
   },
   {
    "duration": 387,
    "start_time": "2021-06-10T22:34:35.456Z"
   },
   {
    "duration": 197,
    "start_time": "2021-06-10T22:36:57.216Z"
   },
   {
    "duration": 601,
    "start_time": "2021-06-10T22:39:40.509Z"
   },
   {
    "duration": 590,
    "start_time": "2021-06-10T22:40:16.779Z"
   },
   {
    "duration": 798,
    "start_time": "2021-06-10T22:40:33.890Z"
   },
   {
    "duration": 331,
    "start_time": "2021-06-10T22:43:08.769Z"
   },
   {
    "duration": 399,
    "start_time": "2021-06-10T22:44:34.384Z"
   },
   {
    "duration": 50984,
    "start_time": "2021-06-10T22:44:55.865Z"
   },
   {
    "duration": 1991,
    "start_time": "2021-06-10T22:47:19.763Z"
   },
   {
    "duration": 2008,
    "start_time": "2021-06-10T22:47:57.619Z"
   },
   {
    "duration": 2002,
    "start_time": "2021-06-10T22:49:37.351Z"
   },
   {
    "duration": 1971,
    "start_time": "2021-06-10T22:50:24.841Z"
   },
   {
    "duration": 18636,
    "start_time": "2021-06-10T22:53:38.413Z"
   },
   {
    "duration": 7,
    "start_time": "2021-06-10T22:56:52.334Z"
   },
   {
    "duration": 20,
    "start_time": "2021-06-10T22:57:04.107Z"
   },
   {
    "duration": 16816,
    "start_time": "2021-06-10T22:57:17.571Z"
   },
   {
    "duration": 1547,
    "start_time": "2021-06-10T22:58:07.526Z"
   },
   {
    "duration": 49,
    "start_time": "2021-06-10T22:58:09.076Z"
   },
   {
    "duration": 27,
    "start_time": "2021-06-10T22:58:09.128Z"
   },
   {
    "duration": 64,
    "start_time": "2021-06-10T22:58:09.158Z"
   },
   {
    "duration": 14,
    "start_time": "2021-06-10T22:58:09.225Z"
   },
   {
    "duration": 4,
    "start_time": "2021-06-10T22:58:09.242Z"
   },
   {
    "duration": 21,
    "start_time": "2021-06-10T22:58:09.249Z"
   },
   {
    "duration": 40,
    "start_time": "2021-06-10T22:58:09.274Z"
   },
   {
    "duration": 18,
    "start_time": "2021-06-10T22:58:09.317Z"
   },
   {
    "duration": 11,
    "start_time": "2021-06-10T22:58:09.338Z"
   },
   {
    "duration": 6,
    "start_time": "2021-06-10T22:58:09.352Z"
   },
   {
    "duration": 18,
    "start_time": "2021-06-10T22:58:09.360Z"
   },
   {
    "duration": 8,
    "start_time": "2021-06-10T22:58:09.410Z"
   },
   {
    "duration": 10,
    "start_time": "2021-06-10T22:58:09.420Z"
   },
   {
    "duration": 9,
    "start_time": "2021-06-10T22:58:09.433Z"
   },
   {
    "duration": 9,
    "start_time": "2021-06-10T22:58:09.444Z"
   },
   {
    "duration": 58,
    "start_time": "2021-06-10T22:58:09.455Z"
   },
   {
    "duration": 29,
    "start_time": "2021-06-10T22:58:09.515Z"
   },
   {
    "duration": 72,
    "start_time": "2021-06-10T22:58:09.546Z"
   },
   {
    "duration": 14,
    "start_time": "2021-06-10T22:58:09.620Z"
   },
   {
    "duration": 474,
    "start_time": "2021-06-10T22:58:09.637Z"
   },
   {
    "duration": 7,
    "start_time": "2021-06-10T22:58:10.113Z"
   },
   {
    "duration": 8,
    "start_time": "2021-06-10T22:58:10.124Z"
   },
   {
    "duration": 20,
    "start_time": "2021-06-10T22:58:10.134Z"
   },
   {
    "duration": 14530,
    "start_time": "2021-06-10T22:58:10.157Z"
   },
   {
    "duration": 8,
    "start_time": "2021-06-10T22:58:51.278Z"
   },
   {
    "duration": 11,
    "start_time": "2021-06-10T22:58:52.014Z"
   },
   {
    "duration": 13919,
    "start_time": "2021-06-10T22:59:01.556Z"
   },
   {
    "duration": 7,
    "start_time": "2021-06-10T22:59:29.097Z"
   },
   {
    "duration": 11,
    "start_time": "2021-06-10T22:59:29.814Z"
   },
   {
    "duration": 1510,
    "start_time": "2021-06-10T22:59:32.239Z"
   },
   {
    "duration": 8,
    "start_time": "2021-06-10T23:00:44.037Z"
   },
   {
    "duration": 10,
    "start_time": "2021-06-10T23:00:45.066Z"
   },
   {
    "duration": 707,
    "start_time": "2021-06-10T23:00:46.756Z"
   },
   {
    "duration": 453,
    "start_time": "2021-06-10T23:02:36.412Z"
   },
   {
    "duration": 8,
    "start_time": "2021-06-10T23:03:09.465Z"
   },
   {
    "duration": 10,
    "start_time": "2021-06-10T23:03:10.054Z"
   },
   {
    "duration": 762,
    "start_time": "2021-06-10T23:03:11.620Z"
   },
   {
    "duration": 1456,
    "start_time": "2021-06-10T23:08:44.132Z"
   },
   {
    "duration": 49,
    "start_time": "2021-06-10T23:08:45.591Z"
   },
   {
    "duration": 28,
    "start_time": "2021-06-10T23:08:45.644Z"
   },
   {
    "duration": 74,
    "start_time": "2021-06-10T23:08:45.676Z"
   },
   {
    "duration": 13,
    "start_time": "2021-06-10T23:08:45.753Z"
   },
   {
    "duration": 6,
    "start_time": "2021-06-10T23:08:45.769Z"
   },
   {
    "duration": 43,
    "start_time": "2021-06-10T23:08:45.777Z"
   },
   {
    "duration": 13,
    "start_time": "2021-06-10T23:08:45.822Z"
   },
   {
    "duration": 12,
    "start_time": "2021-06-10T23:08:45.840Z"
   },
   {
    "duration": 12,
    "start_time": "2021-06-10T23:08:45.855Z"
   },
   {
    "duration": 42,
    "start_time": "2021-06-10T23:08:45.869Z"
   },
   {
    "duration": 19,
    "start_time": "2021-06-10T23:08:45.913Z"
   },
   {
    "duration": 7,
    "start_time": "2021-06-10T23:08:45.934Z"
   },
   {
    "duration": 12,
    "start_time": "2021-06-10T23:08:45.943Z"
   },
   {
    "duration": 10,
    "start_time": "2021-06-10T23:08:45.957Z"
   },
   {
    "duration": 40,
    "start_time": "2021-06-10T23:08:45.969Z"
   },
   {
    "duration": 26,
    "start_time": "2021-06-10T23:08:46.012Z"
   },
   {
    "duration": 27,
    "start_time": "2021-06-10T23:08:46.041Z"
   },
   {
    "duration": 75,
    "start_time": "2021-06-10T23:08:46.071Z"
   },
   {
    "duration": 13,
    "start_time": "2021-06-10T23:08:46.149Z"
   },
   {
    "duration": 476,
    "start_time": "2021-06-10T23:08:46.165Z"
   },
   {
    "duration": 6,
    "start_time": "2021-06-10T23:08:46.643Z"
   },
   {
    "duration": 464,
    "start_time": "2021-06-10T23:08:46.652Z"
   },
   {
    "duration": 607,
    "start_time": "2021-06-10T23:08:46.512Z"
   },
   {
    "duration": 604,
    "start_time": "2021-06-10T23:08:46.516Z"
   },
   {
    "duration": 10,
    "start_time": "2021-06-10T23:09:02.592Z"
   },
   {
    "duration": 9,
    "start_time": "2021-06-10T23:09:04.944Z"
   },
   {
    "duration": 10,
    "start_time": "2021-06-10T23:09:18.130Z"
   },
   {
    "duration": 11,
    "start_time": "2021-06-10T23:09:28.516Z"
   },
   {
    "duration": 17,
    "start_time": "2021-06-10T23:09:45.854Z"
   },
   {
    "duration": 14,
    "start_time": "2021-06-10T23:10:27.226Z"
   },
   {
    "duration": 9,
    "start_time": "2021-06-10T23:10:28.990Z"
   },
   {
    "duration": 24,
    "start_time": "2021-06-10T23:10:30.396Z"
   },
   {
    "duration": 5321,
    "start_time": "2021-06-10T23:10:57.336Z"
   },
   {
    "duration": 13,
    "start_time": "2021-06-10T23:11:38.830Z"
   },
   {
    "duration": 375,
    "start_time": "2021-06-10T23:16:15.566Z"
   },
   {
    "duration": 13,
    "start_time": "2021-06-10T23:16:26.078Z"
   },
   {
    "duration": 439,
    "start_time": "2021-06-10T23:21:05.866Z"
   },
   {
    "duration": 14,
    "start_time": "2021-06-10T23:22:29.788Z"
   },
   {
    "duration": 11,
    "start_time": "2021-06-10T23:22:30.564Z"
   },
   {
    "duration": 24,
    "start_time": "2021-06-10T23:22:37.810Z"
   },
   {
    "duration": 4091,
    "start_time": "2021-06-10T23:22:41.544Z"
   },
   {
    "duration": 17,
    "start_time": "2021-06-10T23:26:00.414Z"
   },
   {
    "duration": 12,
    "start_time": "2021-06-10T23:26:01.468Z"
   },
   {
    "duration": 22,
    "start_time": "2021-06-10T23:26:03.554Z"
   },
   {
    "duration": 1938,
    "start_time": "2021-06-10T23:26:17.354Z"
   },
   {
    "duration": 13,
    "start_time": "2021-06-10T23:30:19.792Z"
   },
   {
    "duration": 13,
    "start_time": "2021-06-10T23:30:39.306Z"
   },
   {
    "duration": 368,
    "start_time": "2021-06-10T23:31:55.850Z"
   },
   {
    "duration": 120,
    "start_time": "2021-06-10T23:32:27.214Z"
   },
   {
    "duration": 364,
    "start_time": "2021-06-10T23:32:37.319Z"
   },
   {
    "duration": 362,
    "start_time": "2021-06-10T23:32:48.247Z"
   },
   {
    "duration": 10,
    "start_time": "2021-06-10T23:33:32.579Z"
   },
   {
    "duration": 13,
    "start_time": "2021-06-10T23:33:37.164Z"
   },
   {
    "duration": 10,
    "start_time": "2021-06-10T23:34:07.722Z"
   },
   {
    "duration": 244,
    "start_time": "2021-06-10T23:36:29.340Z"
   },
   {
    "duration": 1505,
    "start_time": "2021-06-10T23:36:43.285Z"
   },
   {
    "duration": 49,
    "start_time": "2021-06-10T23:36:44.793Z"
   },
   {
    "duration": 26,
    "start_time": "2021-06-10T23:36:44.844Z"
   },
   {
    "duration": 58,
    "start_time": "2021-06-10T23:36:44.873Z"
   },
   {
    "duration": 14,
    "start_time": "2021-06-10T23:36:44.933Z"
   },
   {
    "duration": 4,
    "start_time": "2021-06-10T23:36:44.950Z"
   },
   {
    "duration": 26,
    "start_time": "2021-06-10T23:36:44.956Z"
   },
   {
    "duration": 33,
    "start_time": "2021-06-10T23:36:44.985Z"
   },
   {
    "duration": 17,
    "start_time": "2021-06-10T23:36:45.022Z"
   },
   {
    "duration": 19,
    "start_time": "2021-06-10T23:36:45.042Z"
   },
   {
    "duration": 10,
    "start_time": "2021-06-10T23:36:45.063Z"
   },
   {
    "duration": 42,
    "start_time": "2021-06-10T23:36:45.075Z"
   },
   {
    "duration": 10,
    "start_time": "2021-06-10T23:36:45.119Z"
   },
   {
    "duration": 11,
    "start_time": "2021-06-10T23:36:45.131Z"
   },
   {
    "duration": 10,
    "start_time": "2021-06-10T23:36:45.145Z"
   },
   {
    "duration": 8,
    "start_time": "2021-06-10T23:36:45.157Z"
   },
   {
    "duration": 56,
    "start_time": "2021-06-10T23:36:45.168Z"
   },
   {
    "duration": 26,
    "start_time": "2021-06-10T23:36:45.226Z"
   },
   {
    "duration": 77,
    "start_time": "2021-06-10T23:36:45.254Z"
   },
   {
    "duration": 15,
    "start_time": "2021-06-10T23:36:45.334Z"
   },
   {
    "duration": 474,
    "start_time": "2021-06-10T23:36:45.352Z"
   },
   {
    "duration": 13,
    "start_time": "2021-06-10T23:36:45.829Z"
   },
   {
    "duration": 13,
    "start_time": "2021-06-10T23:36:45.844Z"
   },
   {
    "duration": 252,
    "start_time": "2021-06-10T23:36:45.859Z"
   },
   {
    "duration": 615,
    "start_time": "2021-06-10T23:36:45.500Z"
   },
   {
    "duration": 613,
    "start_time": "2021-06-10T23:36:45.503Z"
   },
   {
    "duration": 614,
    "start_time": "2021-06-10T23:36:45.505Z"
   },
   {
    "duration": 210,
    "start_time": "2021-06-10T23:37:18.233Z"
   },
   {
    "duration": 514,
    "start_time": "2021-06-10T23:37:58.267Z"
   },
   {
    "duration": 12,
    "start_time": "2021-06-10T23:38:24.401Z"
   },
   {
    "duration": 10,
    "start_time": "2021-06-10T23:38:26.127Z"
   },
   {
    "duration": 334,
    "start_time": "2021-06-10T23:38:35.209Z"
   },
   {
    "duration": 11,
    "start_time": "2021-06-10T23:39:33.009Z"
   },
   {
    "duration": 11,
    "start_time": "2021-06-10T23:39:34.879Z"
   },
   {
    "duration": 22,
    "start_time": "2021-06-10T23:39:37.701Z"
   },
   {
    "duration": 4,
    "start_time": "2021-06-10T23:39:58.527Z"
   },
   {
    "duration": 10,
    "start_time": "2021-06-10T23:40:02.593Z"
   },
   {
    "duration": 381,
    "start_time": "2021-06-10T23:40:20.131Z"
   },
   {
    "duration": 100,
    "start_time": "2021-06-10T23:40:35.577Z"
   },
   {
    "duration": 308,
    "start_time": "2021-06-10T23:40:55.715Z"
   },
   {
    "duration": 10513,
    "start_time": "2021-06-10T23:41:16.882Z"
   },
   {
    "duration": 359,
    "start_time": "2021-06-10T23:41:44.483Z"
   },
   {
    "duration": 22,
    "start_time": "2021-06-10T23:41:53.335Z"
   },
   {
    "duration": 22,
    "start_time": "2021-06-10T23:42:08.415Z"
   },
   {
    "duration": 10,
    "start_time": "2021-06-10T23:42:11.435Z"
   },
   {
    "duration": 21,
    "start_time": "2021-06-10T23:42:13.285Z"
   },
   {
    "duration": 10728,
    "start_time": "2021-06-10T23:42:15.125Z"
   },
   {
    "duration": 15,
    "start_time": "2021-06-10T23:43:06.483Z"
   },
   {
    "duration": 10,
    "start_time": "2021-06-10T23:43:08.711Z"
   },
   {
    "duration": 22,
    "start_time": "2021-06-10T23:43:12.823Z"
   },
   {
    "duration": 357,
    "start_time": "2021-06-10T23:43:15.479Z"
   },
   {
    "duration": 114,
    "start_time": "2021-06-10T23:44:30.807Z"
   },
   {
    "duration": 411,
    "start_time": "2021-06-10T23:44:44.343Z"
   },
   {
    "duration": 14,
    "start_time": "2021-06-10T23:45:24.341Z"
   },
   {
    "duration": 11,
    "start_time": "2021-06-10T23:45:25.720Z"
   },
   {
    "duration": 23,
    "start_time": "2021-06-10T23:45:26.452Z"
   },
   {
    "duration": 590,
    "start_time": "2021-06-10T23:45:28.127Z"
   },
   {
    "duration": 14,
    "start_time": "2021-06-10T23:46:08.523Z"
   },
   {
    "duration": 11,
    "start_time": "2021-06-10T23:46:10.143Z"
   },
   {
    "duration": 21,
    "start_time": "2021-06-10T23:46:11.804Z"
   },
   {
    "duration": 393,
    "start_time": "2021-06-10T23:46:14.801Z"
   },
   {
    "duration": 17,
    "start_time": "2021-06-10T23:46:32.823Z"
   },
   {
    "duration": 10,
    "start_time": "2021-06-10T23:46:34.395Z"
   },
   {
    "duration": 23,
    "start_time": "2021-06-10T23:46:36.212Z"
   },
   {
    "duration": 588,
    "start_time": "2021-06-10T23:46:38.120Z"
   },
   {
    "duration": 20,
    "start_time": "2021-06-10T23:46:54.018Z"
   },
   {
    "duration": 11,
    "start_time": "2021-06-10T23:46:55.126Z"
   },
   {
    "duration": 22,
    "start_time": "2021-06-10T23:46:55.974Z"
   },
   {
    "duration": 1024,
    "start_time": "2021-06-10T23:46:58.225Z"
   },
   {
    "duration": 629,
    "start_time": "2021-06-10T23:50:19.555Z"
   },
   {
    "duration": 622,
    "start_time": "2021-06-10T23:50:31.813Z"
   },
   {
    "duration": 1006,
    "start_time": "2021-06-10T23:50:42.146Z"
   },
   {
    "duration": 456,
    "start_time": "2021-06-10T23:51:55.658Z"
   },
   {
    "duration": 1024,
    "start_time": "2021-06-10T23:52:27.818Z"
   },
   {
    "duration": 336,
    "start_time": "2021-06-10T23:52:54.900Z"
   },
   {
    "duration": 293,
    "start_time": "2021-06-10T23:58:39.284Z"
   },
   {
    "duration": 1151,
    "start_time": "2021-06-10T23:58:55.690Z"
   },
   {
    "duration": 1000,
    "start_time": "2021-06-11T00:02:48.835Z"
   },
   {
    "duration": 1596,
    "start_time": "2021-06-11T00:04:30.475Z"
   },
   {
    "duration": 1354,
    "start_time": "2021-06-11T00:04:48.449Z"
   },
   {
    "duration": 1376,
    "start_time": "2021-06-11T00:05:14.382Z"
   },
   {
    "duration": 875,
    "start_time": "2021-06-11T00:05:30.693Z"
   },
   {
    "duration": 317,
    "start_time": "2021-06-11T00:05:52.347Z"
   },
   {
    "duration": 895,
    "start_time": "2021-06-11T00:06:19.131Z"
   },
   {
    "duration": 359,
    "start_time": "2021-06-11T00:06:45.654Z"
   },
   {
    "duration": 338,
    "start_time": "2021-06-11T00:06:52.533Z"
   },
   {
    "duration": 612,
    "start_time": "2021-06-11T00:08:14.359Z"
   },
   {
    "duration": 659,
    "start_time": "2021-06-11T00:08:37.921Z"
   },
   {
    "duration": 1776,
    "start_time": "2021-06-11T00:10:48.657Z"
   },
   {
    "duration": 592,
    "start_time": "2021-06-11T00:11:04.632Z"
   },
   {
    "duration": 461,
    "start_time": "2021-06-11T00:11:28.015Z"
   },
   {
    "duration": 348,
    "start_time": "2021-06-11T00:12:06.661Z"
   },
   {
    "duration": 1640,
    "start_time": "2021-06-11T00:13:28.079Z"
   },
   {
    "duration": 473,
    "start_time": "2021-06-11T00:13:38.727Z"
   },
   {
    "duration": 494,
    "start_time": "2021-06-11T00:14:45.221Z"
   },
   {
    "duration": 1695,
    "start_time": "2021-06-11T00:16:51.997Z"
   },
   {
    "duration": 1906,
    "start_time": "2021-06-11T00:16:59.164Z"
   },
   {
    "duration": 1127,
    "start_time": "2021-06-11T00:17:44.862Z"
   },
   {
    "duration": 987,
    "start_time": "2021-06-11T00:19:59.429Z"
   },
   {
    "duration": 730,
    "start_time": "2021-06-11T00:20:59.759Z"
   },
   {
    "duration": 696,
    "start_time": "2021-06-11T00:21:23.771Z"
   },
   {
    "duration": 1008,
    "start_time": "2021-06-11T00:21:56.231Z"
   },
   {
    "duration": 1749,
    "start_time": "2021-06-11T00:22:26.651Z"
   },
   {
    "duration": 1246,
    "start_time": "2021-06-11T00:22:41.335Z"
   },
   {
    "duration": 1257,
    "start_time": "2021-06-11T00:23:12.005Z"
   },
   {
    "duration": 1224,
    "start_time": "2021-06-11T00:23:51.198Z"
   },
   {
    "duration": 1249,
    "start_time": "2021-06-11T00:24:01.017Z"
   },
   {
    "duration": 1218,
    "start_time": "2021-06-11T00:24:13.293Z"
   },
   {
    "duration": 24,
    "start_time": "2021-06-11T00:24:58.249Z"
   },
   {
    "duration": 11,
    "start_time": "2021-06-11T00:24:58.989Z"
   },
   {
    "duration": 21,
    "start_time": "2021-06-11T00:24:59.925Z"
   },
   {
    "duration": 1155,
    "start_time": "2021-06-11T00:25:01.087Z"
   },
   {
    "duration": 22,
    "start_time": "2021-06-11T00:25:46.617Z"
   },
   {
    "duration": 12,
    "start_time": "2021-06-11T00:25:47.191Z"
   },
   {
    "duration": 22,
    "start_time": "2021-06-11T00:25:47.684Z"
   },
   {
    "duration": 891,
    "start_time": "2021-06-11T00:25:49.255Z"
   },
   {
    "duration": 903,
    "start_time": "2021-06-11T00:26:11.920Z"
   },
   {
    "duration": 1438,
    "start_time": "2021-06-11T00:26:48.947Z"
   },
   {
    "duration": 47,
    "start_time": "2021-06-11T00:26:50.388Z"
   },
   {
    "duration": 26,
    "start_time": "2021-06-11T00:26:50.439Z"
   },
   {
    "duration": 64,
    "start_time": "2021-06-11T00:26:50.468Z"
   },
   {
    "duration": 13,
    "start_time": "2021-06-11T00:26:50.534Z"
   },
   {
    "duration": 4,
    "start_time": "2021-06-11T00:26:50.550Z"
   },
   {
    "duration": 22,
    "start_time": "2021-06-11T00:26:50.556Z"
   },
   {
    "duration": 36,
    "start_time": "2021-06-11T00:26:50.582Z"
   },
   {
    "duration": 15,
    "start_time": "2021-06-11T00:26:50.621Z"
   },
   {
    "duration": 12,
    "start_time": "2021-06-11T00:26:50.638Z"
   },
   {
    "duration": 8,
    "start_time": "2021-06-11T00:26:50.653Z"
   },
   {
    "duration": 52,
    "start_time": "2021-06-11T00:26:50.664Z"
   },
   {
    "duration": 12,
    "start_time": "2021-06-11T00:26:50.719Z"
   },
   {
    "duration": 16,
    "start_time": "2021-06-11T00:26:50.734Z"
   },
   {
    "duration": 33,
    "start_time": "2021-06-11T00:26:50.752Z"
   },
   {
    "duration": 11,
    "start_time": "2021-06-11T00:26:50.788Z"
   },
   {
    "duration": 25,
    "start_time": "2021-06-11T00:26:50.809Z"
   },
   {
    "duration": 28,
    "start_time": "2021-06-11T00:26:50.837Z"
   },
   {
    "duration": 84,
    "start_time": "2021-06-11T00:26:50.868Z"
   },
   {
    "duration": 15,
    "start_time": "2021-06-11T00:26:50.955Z"
   },
   {
    "duration": 486,
    "start_time": "2021-06-11T00:26:50.973Z"
   },
   {
    "duration": 10,
    "start_time": "2021-06-11T00:26:51.462Z"
   },
   {
    "duration": 7,
    "start_time": "2021-06-11T00:26:51.476Z"
   },
   {
    "duration": 30,
    "start_time": "2021-06-11T00:26:51.485Z"
   },
   {
    "duration": 23,
    "start_time": "2021-06-11T00:26:51.517Z"
   },
   {
    "duration": 10,
    "start_time": "2021-06-11T00:26:51.543Z"
   },
   {
    "duration": 55,
    "start_time": "2021-06-11T00:26:51.556Z"
   },
   {
    "duration": 994,
    "start_time": "2021-06-11T00:26:51.614Z"
   },
   {
    "duration": 23,
    "start_time": "2021-06-11T00:31:34.314Z"
   },
   {
    "duration": 10,
    "start_time": "2021-06-11T00:31:34.826Z"
   },
   {
    "duration": 21,
    "start_time": "2021-06-11T00:31:35.322Z"
   },
   {
    "duration": 1140,
    "start_time": "2021-06-11T00:31:35.826Z"
   },
   {
    "duration": 1493,
    "start_time": "2021-06-11T00:36:05.226Z"
   },
   {
    "duration": 451,
    "start_time": "2021-06-11T00:36:41.083Z"
   },
   {
    "duration": 21,
    "start_time": "2021-06-11T00:37:14.508Z"
   },
   {
    "duration": 10,
    "start_time": "2021-06-11T00:38:02.709Z"
   },
   {
    "duration": 10,
    "start_time": "2021-06-11T00:38:15.232Z"
   },
   {
    "duration": 8373,
    "start_time": "2021-06-11T00:38:40.320Z"
   },
   {
    "duration": 20,
    "start_time": "2021-06-11T00:42:22.790Z"
   },
   {
    "duration": 6,
    "start_time": "2021-06-11T00:43:00.938Z"
   },
   {
    "duration": 12,
    "start_time": "2021-06-11T00:43:02.953Z"
   },
   {
    "duration": 16,
    "start_time": "2021-06-11T00:45:21.339Z"
   },
   {
    "duration": 20,
    "start_time": "2021-06-11T00:45:23.206Z"
   },
   {
    "duration": 12,
    "start_time": "2021-06-11T00:45:42.630Z"
   },
   {
    "duration": 20,
    "start_time": "2021-06-11T00:48:32.655Z"
   },
   {
    "duration": 21,
    "start_time": "2021-06-11T00:48:40.767Z"
   },
   {
    "duration": 13,
    "start_time": "2021-06-11T00:48:43.390Z"
   },
   {
    "duration": 3194,
    "start_time": "2021-06-11T00:48:48.931Z"
   },
   {
    "duration": 21,
    "start_time": "2021-06-11T00:49:49.757Z"
   },
   {
    "duration": 11,
    "start_time": "2021-06-11T00:49:50.642Z"
   },
   {
    "duration": 20,
    "start_time": "2021-06-11T00:50:25.253Z"
   },
   {
    "duration": 21,
    "start_time": "2021-06-11T00:52:58.478Z"
   },
   {
    "duration": 12,
    "start_time": "2021-06-11T00:53:06.974Z"
   },
   {
    "duration": 404,
    "start_time": "2021-06-11T00:54:05.551Z"
   },
   {
    "duration": 21,
    "start_time": "2021-06-11T00:54:17.848Z"
   },
   {
    "duration": 10,
    "start_time": "2021-06-11T00:54:19.183Z"
   },
   {
    "duration": 14,
    "start_time": "2021-06-11T00:54:23.457Z"
   },
   {
    "duration": 1187,
    "start_time": "2021-06-11T00:54:26.773Z"
   },
   {
    "duration": 20,
    "start_time": "2021-06-11T00:54:42.496Z"
   },
   {
    "duration": 357,
    "start_time": "2021-06-11T01:06:23.342Z"
   },
   {
    "duration": 700,
    "start_time": "2021-06-11T01:06:45.256Z"
   },
   {
    "duration": 413,
    "start_time": "2021-06-11T01:08:38.143Z"
   },
   {
    "duration": 402,
    "start_time": "2021-06-11T01:09:11.895Z"
   },
   {
    "duration": 557,
    "start_time": "2021-06-11T01:09:22.344Z"
   },
   {
    "duration": 13,
    "start_time": "2021-06-11T01:10:08.368Z"
   },
   {
    "duration": 8227,
    "start_time": "2021-06-11T01:11:31.702Z"
   },
   {
    "duration": 16,
    "start_time": "2021-06-11T01:12:21.331Z"
   },
   {
    "duration": 8203,
    "start_time": "2021-06-11T01:12:59.434Z"
   },
   {
    "duration": 13,
    "start_time": "2021-06-11T01:13:32.370Z"
   },
   {
    "duration": 20,
    "start_time": "2021-06-11T01:13:33.486Z"
   },
   {
    "duration": 1136,
    "start_time": "2021-06-11T01:13:34.198Z"
   },
   {
    "duration": 452,
    "start_time": "2021-06-11T01:13:36.181Z"
   },
   {
    "duration": 560,
    "start_time": "2021-06-11T01:13:39.070Z"
   },
   {
    "duration": 16,
    "start_time": "2021-06-11T01:13:43.988Z"
   },
   {
    "duration": 14,
    "start_time": "2021-06-11T01:14:11.383Z"
   },
   {
    "duration": 15,
    "start_time": "2021-06-11T01:14:32.031Z"
   },
   {
    "duration": 1200,
    "start_time": "2021-06-11T01:17:24.963Z"
   },
   {
    "duration": 1301,
    "start_time": "2021-06-11T01:19:36.469Z"
   },
   {
    "duration": 19,
    "start_time": "2021-06-11T01:22:25.283Z"
   },
   {
    "duration": 6,
    "start_time": "2021-06-11T01:23:33.047Z"
   },
   {
    "duration": 1599,
    "start_time": "2021-06-11T01:24:44.067Z"
   },
   {
    "duration": 35440,
    "start_time": "2021-06-11T01:25:03.179Z"
   },
   {
    "duration": 386,
    "start_time": "2021-06-11T01:27:15.619Z"
   },
   {
    "duration": 352,
    "start_time": "2021-06-11T01:32:20.659Z"
   },
   {
    "duration": 856,
    "start_time": "2021-06-11T01:32:55.074Z"
   },
   {
    "duration": 349,
    "start_time": "2021-06-11T01:33:09.733Z"
   },
   {
    "duration": 502,
    "start_time": "2021-06-11T01:33:25.015Z"
   },
   {
    "duration": 814,
    "start_time": "2021-06-11T01:33:50.804Z"
   },
   {
    "duration": 341,
    "start_time": "2021-06-11T01:38:09.309Z"
   },
   {
    "duration": 911,
    "start_time": "2021-06-11T01:46:42.659Z"
   },
   {
    "duration": 1364,
    "start_time": "2021-06-11T01:46:52.385Z"
   },
   {
    "duration": 392,
    "start_time": "2021-06-11T01:47:11.077Z"
   },
   {
    "duration": 945,
    "start_time": "2021-06-11T01:47:50.788Z"
   },
   {
    "duration": 1305,
    "start_time": "2021-06-11T01:48:31.591Z"
   },
   {
    "duration": 1334,
    "start_time": "2021-06-11T01:48:58.395Z"
   },
   {
    "duration": 682,
    "start_time": "2021-06-11T01:49:38.499Z"
   },
   {
    "duration": 1482,
    "start_time": "2021-06-11T01:50:18.909Z"
   },
   {
    "duration": 49,
    "start_time": "2021-06-11T01:50:20.394Z"
   },
   {
    "duration": 34,
    "start_time": "2021-06-11T01:50:20.447Z"
   },
   {
    "duration": 64,
    "start_time": "2021-06-11T01:50:20.485Z"
   },
   {
    "duration": 17,
    "start_time": "2021-06-11T01:50:20.552Z"
   },
   {
    "duration": 37,
    "start_time": "2021-06-11T01:50:20.572Z"
   },
   {
    "duration": 23,
    "start_time": "2021-06-11T01:50:20.612Z"
   },
   {
    "duration": 20,
    "start_time": "2021-06-11T01:50:20.641Z"
   },
   {
    "duration": 20,
    "start_time": "2021-06-11T01:50:20.665Z"
   },
   {
    "duration": 32,
    "start_time": "2021-06-11T01:50:20.687Z"
   },
   {
    "duration": 15,
    "start_time": "2021-06-11T01:50:20.722Z"
   },
   {
    "duration": 26,
    "start_time": "2021-06-11T01:50:20.739Z"
   },
   {
    "duration": 11,
    "start_time": "2021-06-11T01:50:20.768Z"
   },
   {
    "duration": 30,
    "start_time": "2021-06-11T01:50:20.781Z"
   },
   {
    "duration": 13,
    "start_time": "2021-06-11T01:50:20.813Z"
   },
   {
    "duration": 14,
    "start_time": "2021-06-11T01:50:20.829Z"
   },
   {
    "duration": 38,
    "start_time": "2021-06-11T01:50:20.846Z"
   },
   {
    "duration": 31,
    "start_time": "2021-06-11T01:50:20.887Z"
   },
   {
    "duration": 53,
    "start_time": "2021-06-11T01:50:20.921Z"
   },
   {
    "duration": 33,
    "start_time": "2021-06-11T01:50:20.976Z"
   },
   {
    "duration": 455,
    "start_time": "2021-06-11T01:50:21.011Z"
   },
   {
    "duration": 10,
    "start_time": "2021-06-11T01:50:21.468Z"
   },
   {
    "duration": 4,
    "start_time": "2021-06-11T01:50:21.482Z"
   },
   {
    "duration": 28,
    "start_time": "2021-06-11T01:50:21.488Z"
   },
   {
    "duration": 28,
    "start_time": "2021-06-11T01:50:21.518Z"
   },
   {
    "duration": 9,
    "start_time": "2021-06-11T01:50:21.549Z"
   },
   {
    "duration": 19,
    "start_time": "2021-06-11T01:50:21.560Z"
   },
   {
    "duration": 43,
    "start_time": "2021-06-11T01:50:21.581Z"
   },
   {
    "duration": 1159,
    "start_time": "2021-06-11T01:50:21.627Z"
   },
   {
    "duration": 486,
    "start_time": "2021-06-11T01:50:22.788Z"
   },
   {
    "duration": 658,
    "start_time": "2021-06-11T01:50:22.618Z"
   },
   {
    "duration": 656,
    "start_time": "2021-06-11T01:50:22.622Z"
   },
   {
    "duration": 653,
    "start_time": "2021-06-11T01:50:22.627Z"
   },
   {
    "duration": 652,
    "start_time": "2021-06-11T01:50:22.629Z"
   },
   {
    "duration": 651,
    "start_time": "2021-06-11T01:50:22.631Z"
   },
   {
    "duration": 652,
    "start_time": "2021-06-11T01:50:22.632Z"
   },
   {
    "duration": 651,
    "start_time": "2021-06-11T01:50:22.634Z"
   },
   {
    "duration": 1431,
    "start_time": "2021-06-11T01:51:20.853Z"
   },
   {
    "duration": 48,
    "start_time": "2021-06-11T01:51:22.286Z"
   },
   {
    "duration": 26,
    "start_time": "2021-06-11T01:51:22.338Z"
   },
   {
    "duration": 65,
    "start_time": "2021-06-11T01:51:22.367Z"
   },
   {
    "duration": 14,
    "start_time": "2021-06-11T01:51:22.434Z"
   },
   {
    "duration": 14,
    "start_time": "2021-06-11T01:51:22.450Z"
   },
   {
    "duration": 27,
    "start_time": "2021-06-11T01:51:22.466Z"
   },
   {
    "duration": 20,
    "start_time": "2021-06-11T01:51:22.509Z"
   },
   {
    "duration": 22,
    "start_time": "2021-06-11T01:51:22.533Z"
   },
   {
    "duration": 11,
    "start_time": "2021-06-11T01:51:22.559Z"
   },
   {
    "duration": 12,
    "start_time": "2021-06-11T01:51:22.572Z"
   },
   {
    "duration": 31,
    "start_time": "2021-06-11T01:51:22.586Z"
   },
   {
    "duration": 8,
    "start_time": "2021-06-11T01:51:22.619Z"
   },
   {
    "duration": 12,
    "start_time": "2021-06-11T01:51:22.629Z"
   },
   {
    "duration": 7,
    "start_time": "2021-06-11T01:51:22.643Z"
   },
   {
    "duration": 9,
    "start_time": "2021-06-11T01:51:22.652Z"
   },
   {
    "duration": 59,
    "start_time": "2021-06-11T01:51:22.664Z"
   },
   {
    "duration": 26,
    "start_time": "2021-06-11T01:51:22.725Z"
   },
   {
    "duration": 74,
    "start_time": "2021-06-11T01:51:22.754Z"
   },
   {
    "duration": 13,
    "start_time": "2021-06-11T01:51:22.830Z"
   },
   {
    "duration": 467,
    "start_time": "2021-06-11T01:51:22.845Z"
   },
   {
    "duration": 10,
    "start_time": "2021-06-11T01:51:23.315Z"
   },
   {
    "duration": 4,
    "start_time": "2021-06-11T01:51:23.327Z"
   },
   {
    "duration": 15,
    "start_time": "2021-06-11T01:51:23.333Z"
   },
   {
    "duration": 27,
    "start_time": "2021-06-11T01:51:23.350Z"
   },
   {
    "duration": 34,
    "start_time": "2021-06-11T01:51:23.380Z"
   },
   {
    "duration": 14,
    "start_time": "2021-06-11T01:51:23.419Z"
   },
   {
    "duration": 20,
    "start_time": "2021-06-11T01:51:23.436Z"
   },
   {
    "duration": 1177,
    "start_time": "2021-06-11T01:51:23.459Z"
   },
   {
    "duration": 472,
    "start_time": "2021-06-11T01:51:24.639Z"
   },
   {
    "duration": 545,
    "start_time": "2021-06-11T01:51:25.113Z"
   },
   {
    "duration": 15,
    "start_time": "2021-06-11T01:51:25.661Z"
   },
   {
    "duration": 38,
    "start_time": "2021-06-11T01:51:25.679Z"
   },
   {
    "duration": 1263,
    "start_time": "2021-06-11T01:51:25.719Z"
   },
   {
    "duration": 1212,
    "start_time": "2021-06-11T01:51:26.985Z"
   },
   {
    "duration": 26,
    "start_time": "2021-06-11T01:51:28.200Z"
   },
   {
    "duration": 7,
    "start_time": "2021-06-11T01:51:28.228Z"
   },
   {
    "duration": 1147,
    "start_time": "2021-06-11T01:51:58.671Z"
   },
   {
    "duration": 7,
    "start_time": "2021-06-11T01:57:19.663Z"
   },
   {
    "duration": 4,
    "start_time": "2021-06-11T02:04:24.114Z"
   },
   {
    "duration": 12,
    "start_time": "2021-06-11T02:04:24.845Z"
   },
   {
    "duration": 5,
    "start_time": "2021-06-11T02:04:25.699Z"
   },
   {
    "duration": 5,
    "start_time": "2021-06-11T02:04:26.429Z"
   },
   {
    "duration": 12,
    "start_time": "2021-06-11T02:05:39.813Z"
   },
   {
    "duration": 5,
    "start_time": "2021-06-11T02:05:40.607Z"
   },
   {
    "duration": 6,
    "start_time": "2021-06-11T02:05:41.249Z"
   },
   {
    "duration": 7,
    "start_time": "2021-06-11T02:06:25.141Z"
   },
   {
    "duration": 12,
    "start_time": "2021-06-11T02:07:26.342Z"
   },
   {
    "duration": 5,
    "start_time": "2021-06-11T02:07:27.055Z"
   },
   {
    "duration": 6,
    "start_time": "2021-06-11T02:07:27.637Z"
   },
   {
    "duration": 1503,
    "start_time": "2021-06-11T02:08:27.988Z"
   },
   {
    "duration": 46,
    "start_time": "2021-06-11T02:08:29.493Z"
   },
   {
    "duration": 26,
    "start_time": "2021-06-11T02:08:29.541Z"
   },
   {
    "duration": 66,
    "start_time": "2021-06-11T02:08:29.570Z"
   },
   {
    "duration": 14,
    "start_time": "2021-06-11T02:08:29.638Z"
   },
   {
    "duration": 5,
    "start_time": "2021-06-11T02:08:29.654Z"
   },
   {
    "duration": 49,
    "start_time": "2021-06-11T02:08:29.661Z"
   },
   {
    "duration": 11,
    "start_time": "2021-06-11T02:08:29.713Z"
   },
   {
    "duration": 16,
    "start_time": "2021-06-11T02:08:29.728Z"
   },
   {
    "duration": 13,
    "start_time": "2021-06-11T02:08:29.747Z"
   },
   {
    "duration": 6,
    "start_time": "2021-06-11T02:08:29.762Z"
   },
   {
    "duration": 47,
    "start_time": "2021-06-11T02:08:29.770Z"
   },
   {
    "duration": 7,
    "start_time": "2021-06-11T02:08:29.820Z"
   },
   {
    "duration": 9,
    "start_time": "2021-06-11T02:08:29.829Z"
   },
   {
    "duration": 13,
    "start_time": "2021-06-11T02:08:29.840Z"
   },
   {
    "duration": 8,
    "start_time": "2021-06-11T02:08:29.855Z"
   },
   {
    "duration": 59,
    "start_time": "2021-06-11T02:08:29.865Z"
   },
   {
    "duration": 28,
    "start_time": "2021-06-11T02:08:29.926Z"
   },
   {
    "duration": 75,
    "start_time": "2021-06-11T02:08:29.956Z"
   },
   {
    "duration": 13,
    "start_time": "2021-06-11T02:08:30.034Z"
   },
   {
    "duration": 467,
    "start_time": "2021-06-11T02:08:30.049Z"
   },
   {
    "duration": 10,
    "start_time": "2021-06-11T02:08:30.519Z"
   },
   {
    "duration": 15,
    "start_time": "2021-06-11T02:08:30.531Z"
   },
   {
    "duration": 33,
    "start_time": "2021-06-11T02:08:30.549Z"
   },
   {
    "duration": 40,
    "start_time": "2021-06-11T02:08:30.584Z"
   },
   {
    "duration": 11,
    "start_time": "2021-06-11T02:08:30.626Z"
   },
   {
    "duration": 22,
    "start_time": "2021-06-11T02:08:30.642Z"
   },
   {
    "duration": 21,
    "start_time": "2021-06-11T02:08:30.667Z"
   },
   {
    "duration": 1390,
    "start_time": "2021-06-11T02:08:30.690Z"
   },
   {
    "duration": 501,
    "start_time": "2021-06-11T02:08:32.083Z"
   },
   {
    "duration": 570,
    "start_time": "2021-06-11T02:08:32.586Z"
   },
   {
    "duration": 16,
    "start_time": "2021-06-11T02:08:33.158Z"
   },
   {
    "duration": 43,
    "start_time": "2021-06-11T02:08:33.177Z"
   },
   {
    "duration": 1246,
    "start_time": "2021-06-11T02:08:33.223Z"
   },
   {
    "duration": 1287,
    "start_time": "2021-06-11T02:08:34.471Z"
   },
   {
    "duration": 1177,
    "start_time": "2021-06-11T02:08:35.760Z"
   },
   {
    "duration": 3,
    "start_time": "2021-06-11T02:08:36.940Z"
   },
   {
    "duration": 15,
    "start_time": "2021-06-11T02:08:36.945Z"
   },
   {
    "duration": 4,
    "start_time": "2021-06-11T02:08:36.963Z"
   },
   {
    "duration": 12,
    "start_time": "2021-06-11T02:08:36.969Z"
   },
   {
    "duration": 23,
    "start_time": "2021-06-11T02:08:37.008Z"
   },
   {
    "duration": 8,
    "start_time": "2021-06-11T02:08:37.033Z"
   },
   {
    "duration": 10,
    "start_time": "2021-06-11T02:08:37.043Z"
   },
   {
    "duration": 594,
    "start_time": "2021-06-11T02:40:51.746Z"
   },
   {
    "duration": 1460,
    "start_time": "2021-06-11T02:48:47.333Z"
   },
   {
    "duration": 46,
    "start_time": "2021-06-11T02:48:48.796Z"
   },
   {
    "duration": 27,
    "start_time": "2021-06-11T02:48:48.845Z"
   },
   {
    "duration": 65,
    "start_time": "2021-06-11T02:48:48.875Z"
   },
   {
    "duration": 14,
    "start_time": "2021-06-11T02:48:48.942Z"
   },
   {
    "duration": 4,
    "start_time": "2021-06-11T02:48:48.958Z"
   },
   {
    "duration": 47,
    "start_time": "2021-06-11T02:48:48.965Z"
   },
   {
    "duration": 13,
    "start_time": "2021-06-11T02:48:49.016Z"
   },
   {
    "duration": 12,
    "start_time": "2021-06-11T02:48:49.032Z"
   },
   {
    "duration": 13,
    "start_time": "2021-06-11T02:48:49.047Z"
   },
   {
    "duration": 5,
    "start_time": "2021-06-11T02:48:49.062Z"
   },
   {
    "duration": 14,
    "start_time": "2021-06-11T02:48:49.109Z"
   },
   {
    "duration": 8,
    "start_time": "2021-06-11T02:48:49.126Z"
   },
   {
    "duration": 25,
    "start_time": "2021-06-11T02:48:49.137Z"
   },
   {
    "duration": 11,
    "start_time": "2021-06-11T02:48:49.164Z"
   },
   {
    "duration": 34,
    "start_time": "2021-06-11T02:48:49.178Z"
   },
   {
    "duration": 27,
    "start_time": "2021-06-11T02:48:49.215Z"
   },
   {
    "duration": 28,
    "start_time": "2021-06-11T02:48:49.244Z"
   },
   {
    "duration": 77,
    "start_time": "2021-06-11T02:48:49.274Z"
   },
   {
    "duration": 13,
    "start_time": "2021-06-11T02:48:49.353Z"
   },
   {
    "duration": 572,
    "start_time": "2021-06-11T02:48:49.369Z"
   },
   {
    "duration": 10,
    "start_time": "2021-06-11T02:48:49.944Z"
   },
   {
    "duration": 5,
    "start_time": "2021-06-11T02:48:49.959Z"
   },
   {
    "duration": 13,
    "start_time": "2021-06-11T02:48:49.967Z"
   },
   {
    "duration": 21,
    "start_time": "2021-06-11T02:48:50.010Z"
   },
   {
    "duration": 10,
    "start_time": "2021-06-11T02:48:50.034Z"
   },
   {
    "duration": 20,
    "start_time": "2021-06-11T02:48:50.047Z"
   },
   {
    "duration": 51,
    "start_time": "2021-06-11T02:48:50.070Z"
   },
   {
    "duration": 1151,
    "start_time": "2021-06-11T02:48:50.124Z"
   },
   {
    "duration": 455,
    "start_time": "2021-06-11T02:48:51.277Z"
   },
   {
    "duration": 597,
    "start_time": "2021-06-11T02:48:51.734Z"
   },
   {
    "duration": 15,
    "start_time": "2021-06-11T02:48:52.333Z"
   },
   {
    "duration": 25,
    "start_time": "2021-06-11T02:48:52.351Z"
   },
   {
    "duration": 1353,
    "start_time": "2021-06-11T02:48:52.379Z"
   },
   {
    "duration": 1154,
    "start_time": "2021-06-11T02:48:53.735Z"
   },
   {
    "duration": 1152,
    "start_time": "2021-06-11T02:48:54.891Z"
   },
   {
    "duration": 4,
    "start_time": "2021-06-11T02:48:56.046Z"
   },
   {
    "duration": 16,
    "start_time": "2021-06-11T02:48:56.052Z"
   },
   {
    "duration": 4,
    "start_time": "2021-06-11T02:48:56.071Z"
   },
   {
    "duration": 34,
    "start_time": "2021-06-11T02:48:56.077Z"
   },
   {
    "duration": 17,
    "start_time": "2021-06-11T02:48:56.113Z"
   },
   {
    "duration": 5,
    "start_time": "2021-06-11T02:48:56.133Z"
   },
   {
    "duration": 10,
    "start_time": "2021-06-11T02:48:56.140Z"
   },
   {
    "duration": 1112,
    "start_time": "2021-06-11T07:12:35.218Z"
   },
   {
    "duration": 37,
    "start_time": "2021-06-11T07:12:36.332Z"
   },
   {
    "duration": 17,
    "start_time": "2021-06-11T07:12:36.371Z"
   },
   {
    "duration": 26,
    "start_time": "2021-06-11T07:12:36.389Z"
   },
   {
    "duration": 9,
    "start_time": "2021-06-11T07:12:36.416Z"
   },
   {
    "duration": 7,
    "start_time": "2021-06-11T07:12:36.427Z"
   },
   {
    "duration": 16,
    "start_time": "2021-06-11T07:12:36.436Z"
   },
   {
    "duration": 13,
    "start_time": "2021-06-11T07:12:36.453Z"
   },
   {
    "duration": 8,
    "start_time": "2021-06-11T07:12:36.486Z"
   },
   {
    "duration": 8,
    "start_time": "2021-06-11T07:12:36.496Z"
   },
   {
    "duration": 5,
    "start_time": "2021-06-11T07:12:36.505Z"
   },
   {
    "duration": 10,
    "start_time": "2021-06-11T07:12:36.511Z"
   },
   {
    "duration": 5,
    "start_time": "2021-06-11T07:12:36.523Z"
   },
   {
    "duration": 7,
    "start_time": "2021-06-11T07:12:36.530Z"
   },
   {
    "duration": 7,
    "start_time": "2021-06-11T07:12:36.539Z"
   },
   {
    "duration": 5,
    "start_time": "2021-06-11T07:12:36.547Z"
   },
   {
    "duration": 44,
    "start_time": "2021-06-11T07:12:36.554Z"
   },
   {
    "duration": 15,
    "start_time": "2021-06-11T07:12:36.600Z"
   },
   {
    "duration": 35,
    "start_time": "2021-06-11T07:12:36.616Z"
   },
   {
    "duration": 33,
    "start_time": "2021-06-11T07:12:36.652Z"
   },
   {
    "duration": 281,
    "start_time": "2021-06-11T07:12:36.686Z"
   },
   {
    "duration": 7,
    "start_time": "2021-06-11T07:12:36.968Z"
   },
   {
    "duration": 3,
    "start_time": "2021-06-11T07:12:36.984Z"
   },
   {
    "duration": 9,
    "start_time": "2021-06-11T07:12:36.988Z"
   },
   {
    "duration": 16,
    "start_time": "2021-06-11T07:12:36.998Z"
   },
   {
    "duration": 7,
    "start_time": "2021-06-11T07:12:37.015Z"
   },
   {
    "duration": 9,
    "start_time": "2021-06-11T07:12:37.025Z"
   },
   {
    "duration": 13,
    "start_time": "2021-06-11T07:12:37.035Z"
   },
   {
    "duration": 700,
    "start_time": "2021-06-11T07:12:37.050Z"
   },
   {
    "duration": 271,
    "start_time": "2021-06-11T07:12:37.752Z"
   },
   {
    "duration": 397,
    "start_time": "2021-06-11T07:12:38.025Z"
   },
   {
    "duration": 11,
    "start_time": "2021-06-11T07:12:38.424Z"
   },
   {
    "duration": 12,
    "start_time": "2021-06-11T07:12:38.436Z"
   },
   {
    "duration": 761,
    "start_time": "2021-06-11T07:12:38.449Z"
   },
   {
    "duration": 714,
    "start_time": "2021-06-11T07:12:39.212Z"
   },
   {
    "duration": 687,
    "start_time": "2021-06-11T07:12:39.928Z"
   },
   {
    "duration": 3,
    "start_time": "2021-06-11T07:12:40.617Z"
   },
   {
    "duration": 11,
    "start_time": "2021-06-11T07:12:40.621Z"
   },
   {
    "duration": 2,
    "start_time": "2021-06-11T07:12:40.634Z"
   },
   {
    "duration": 6,
    "start_time": "2021-06-11T07:12:40.638Z"
   },
   {
    "duration": 9,
    "start_time": "2021-06-11T07:12:40.646Z"
   },
   {
    "duration": 5,
    "start_time": "2021-06-11T07:12:40.656Z"
   },
   {
    "duration": 29,
    "start_time": "2021-06-11T07:12:40.663Z"
   },
   {
    "duration": 1520,
    "start_time": "2021-06-11T21:12:52.215Z"
   },
   {
    "duration": 50,
    "start_time": "2021-06-11T21:12:53.738Z"
   },
   {
    "duration": 28,
    "start_time": "2021-06-11T21:12:53.794Z"
   },
   {
    "duration": 69,
    "start_time": "2021-06-11T21:12:53.824Z"
   },
   {
    "duration": 14,
    "start_time": "2021-06-11T21:12:53.896Z"
   },
   {
    "duration": 4,
    "start_time": "2021-06-11T21:12:53.913Z"
   },
   {
    "duration": 56,
    "start_time": "2021-06-11T21:12:53.920Z"
   },
   {
    "duration": 18,
    "start_time": "2021-06-11T21:12:53.981Z"
   },
   {
    "duration": 17,
    "start_time": "2021-06-11T21:12:54.003Z"
   },
   {
    "duration": 46,
    "start_time": "2021-06-11T21:12:54.023Z"
   },
   {
    "duration": 8,
    "start_time": "2021-06-11T21:12:54.073Z"
   },
   {
    "duration": 21,
    "start_time": "2021-06-11T21:12:54.085Z"
   },
   {
    "duration": 10,
    "start_time": "2021-06-11T21:12:54.109Z"
   },
   {
    "duration": 49,
    "start_time": "2021-06-11T21:12:54.122Z"
   },
   {
    "duration": 10,
    "start_time": "2021-06-11T21:12:54.175Z"
   },
   {
    "duration": 9,
    "start_time": "2021-06-11T21:12:54.189Z"
   },
   {
    "duration": 70,
    "start_time": "2021-06-11T21:12:54.201Z"
   },
   {
    "duration": 28,
    "start_time": "2021-06-11T21:12:54.273Z"
   },
   {
    "duration": 100,
    "start_time": "2021-06-11T21:12:54.304Z"
   },
   {
    "duration": 19,
    "start_time": "2021-06-11T21:12:54.407Z"
   },
   {
    "duration": 744,
    "start_time": "2021-06-11T21:12:54.430Z"
   },
   {
    "duration": 14,
    "start_time": "2021-06-11T21:12:55.183Z"
   },
   {
    "duration": 5,
    "start_time": "2021-06-11T21:12:55.201Z"
   },
   {
    "duration": 15,
    "start_time": "2021-06-11T21:12:55.209Z"
   },
   {
    "duration": 58,
    "start_time": "2021-06-11T21:12:55.227Z"
   },
   {
    "duration": 10,
    "start_time": "2021-06-11T21:12:55.287Z"
   },
   {
    "duration": 17,
    "start_time": "2021-06-11T21:12:55.300Z"
   },
   {
    "duration": 49,
    "start_time": "2021-06-11T21:12:55.319Z"
   },
   {
    "duration": 1152,
    "start_time": "2021-06-11T21:12:55.371Z"
   },
   {
    "duration": 477,
    "start_time": "2021-06-11T21:12:56.525Z"
   },
   {
    "duration": 613,
    "start_time": "2021-06-11T21:12:57.004Z"
   },
   {
    "duration": 44,
    "start_time": "2021-06-11T21:12:57.619Z"
   },
   {
    "duration": 20,
    "start_time": "2021-06-11T21:12:57.666Z"
   },
   {
    "duration": 1498,
    "start_time": "2021-06-11T21:12:57.689Z"
   },
   {
    "duration": 1161,
    "start_time": "2021-06-11T21:12:59.190Z"
   },
   {
    "duration": 1186,
    "start_time": "2021-06-11T21:13:00.354Z"
   },
   {
    "duration": 5,
    "start_time": "2021-06-11T21:13:01.543Z"
   },
   {
    "duration": 14,
    "start_time": "2021-06-11T21:13:01.563Z"
   },
   {
    "duration": 5,
    "start_time": "2021-06-11T21:13:01.579Z"
   },
   {
    "duration": 21,
    "start_time": "2021-06-11T21:13:01.587Z"
   },
   {
    "duration": 18,
    "start_time": "2021-06-11T21:13:01.610Z"
   },
   {
    "duration": 34,
    "start_time": "2021-06-11T21:13:01.631Z"
   },
   {
    "duration": 9,
    "start_time": "2021-06-11T21:13:01.668Z"
   },
   {
    "duration": 1489,
    "start_time": "2021-06-11T21:14:20.163Z"
   },
   {
    "duration": 51,
    "start_time": "2021-06-11T21:14:21.654Z"
   },
   {
    "duration": 27,
    "start_time": "2021-06-11T21:14:21.707Z"
   },
   {
    "duration": 63,
    "start_time": "2021-06-11T21:14:21.737Z"
   },
   {
    "duration": 13,
    "start_time": "2021-06-11T21:14:21.803Z"
   },
   {
    "duration": 5,
    "start_time": "2021-06-11T21:14:21.819Z"
   },
   {
    "duration": 53,
    "start_time": "2021-06-11T21:14:21.826Z"
   },
   {
    "duration": 15,
    "start_time": "2021-06-11T21:14:21.882Z"
   },
   {
    "duration": 13,
    "start_time": "2021-06-11T21:14:21.901Z"
   },
   {
    "duration": 47,
    "start_time": "2021-06-11T21:14:21.918Z"
   },
   {
    "duration": 6,
    "start_time": "2021-06-11T21:14:21.967Z"
   },
   {
    "duration": 22,
    "start_time": "2021-06-11T21:14:21.976Z"
   },
   {
    "duration": 8,
    "start_time": "2021-06-11T21:14:22.002Z"
   },
   {
    "duration": 51,
    "start_time": "2021-06-11T21:14:22.012Z"
   },
   {
    "duration": 7,
    "start_time": "2021-06-11T21:14:22.066Z"
   },
   {
    "duration": 8,
    "start_time": "2021-06-11T21:14:22.075Z"
   },
   {
    "duration": 26,
    "start_time": "2021-06-11T21:14:22.086Z"
   },
   {
    "duration": 72,
    "start_time": "2021-06-11T21:14:22.115Z"
   },
   {
    "duration": 80,
    "start_time": "2021-06-11T21:14:22.189Z"
   },
   {
    "duration": 14,
    "start_time": "2021-06-11T21:14:22.271Z"
   },
   {
    "duration": 467,
    "start_time": "2021-06-11T21:14:22.287Z"
   },
   {
    "duration": 10,
    "start_time": "2021-06-11T21:14:22.761Z"
   },
   {
    "duration": 7,
    "start_time": "2021-06-11T21:14:22.774Z"
   },
   {
    "duration": 13,
    "start_time": "2021-06-11T21:14:22.783Z"
   },
   {
    "duration": 29,
    "start_time": "2021-06-11T21:14:22.799Z"
   },
   {
    "duration": 113,
    "start_time": "2021-06-11T21:14:22.831Z"
   },
   {
    "duration": 538,
    "start_time": "2021-06-11T21:14:22.409Z"
   },
   {
    "duration": 537,
    "start_time": "2021-06-11T21:14:22.411Z"
   },
   {
    "duration": 535,
    "start_time": "2021-06-11T21:14:22.414Z"
   },
   {
    "duration": 531,
    "start_time": "2021-06-11T21:14:22.419Z"
   },
   {
    "duration": 531,
    "start_time": "2021-06-11T21:14:22.421Z"
   },
   {
    "duration": 527,
    "start_time": "2021-06-11T21:14:22.426Z"
   },
   {
    "duration": 526,
    "start_time": "2021-06-11T21:14:22.429Z"
   },
   {
    "duration": 525,
    "start_time": "2021-06-11T21:14:22.431Z"
   },
   {
    "duration": 524,
    "start_time": "2021-06-11T21:14:22.433Z"
   },
   {
    "duration": 521,
    "start_time": "2021-06-11T21:14:22.438Z"
   },
   {
    "duration": 518,
    "start_time": "2021-06-11T21:14:22.442Z"
   },
   {
    "duration": 518,
    "start_time": "2021-06-11T21:14:22.444Z"
   },
   {
    "duration": 519,
    "start_time": "2021-06-11T21:14:22.446Z"
   },
   {
    "duration": 516,
    "start_time": "2021-06-11T21:14:22.451Z"
   },
   {
    "duration": 515,
    "start_time": "2021-06-11T21:14:22.454Z"
   },
   {
    "duration": 514,
    "start_time": "2021-06-11T21:14:22.456Z"
   },
   {
    "duration": 512,
    "start_time": "2021-06-11T21:14:22.459Z"
   },
   {
    "duration": 11,
    "start_time": "2021-06-11T21:15:24.593Z"
   },
   {
    "duration": 6,
    "start_time": "2021-06-11T21:15:36.966Z"
   },
   {
    "duration": 21,
    "start_time": "2021-06-11T21:15:38.119Z"
   },
   {
    "duration": 1604,
    "start_time": "2021-06-11T21:16:38.452Z"
   },
   {
    "duration": 52,
    "start_time": "2021-06-11T21:16:40.058Z"
   },
   {
    "duration": 27,
    "start_time": "2021-06-11T21:16:40.113Z"
   },
   {
    "duration": 47,
    "start_time": "2021-06-11T21:16:40.164Z"
   },
   {
    "duration": 13,
    "start_time": "2021-06-11T21:16:40.214Z"
   },
   {
    "duration": 31,
    "start_time": "2021-06-11T21:16:40.230Z"
   },
   {
    "duration": 27,
    "start_time": "2021-06-11T21:16:40.265Z"
   },
   {
    "duration": 15,
    "start_time": "2021-06-11T21:16:40.296Z"
   },
   {
    "duration": 13,
    "start_time": "2021-06-11T21:16:40.314Z"
   },
   {
    "duration": 42,
    "start_time": "2021-06-11T21:16:40.330Z"
   },
   {
    "duration": 7,
    "start_time": "2021-06-11T21:16:40.376Z"
   },
   {
    "duration": 15,
    "start_time": "2021-06-11T21:16:40.387Z"
   },
   {
    "duration": 8,
    "start_time": "2021-06-11T21:16:40.404Z"
   },
   {
    "duration": 59,
    "start_time": "2021-06-11T21:16:40.415Z"
   },
   {
    "duration": 14,
    "start_time": "2021-06-11T21:16:40.476Z"
   },
   {
    "duration": 10,
    "start_time": "2021-06-11T21:16:40.493Z"
   },
   {
    "duration": 25,
    "start_time": "2021-06-11T21:16:40.506Z"
   },
   {
    "duration": 53,
    "start_time": "2021-06-11T21:16:40.534Z"
   },
   {
    "duration": 53,
    "start_time": "2021-06-11T21:16:40.590Z"
   },
   {
    "duration": 18,
    "start_time": "2021-06-11T21:16:40.662Z"
   },
   {
    "duration": 470,
    "start_time": "2021-06-11T21:16:40.686Z"
   },
   {
    "duration": 15,
    "start_time": "2021-06-11T21:16:41.161Z"
   },
   {
    "duration": 16,
    "start_time": "2021-06-11T21:16:41.183Z"
   },
   {
    "duration": 11,
    "start_time": "2021-06-11T21:16:41.204Z"
   },
   {
    "duration": 8,
    "start_time": "2021-06-11T21:16:41.219Z"
   },
   {
    "duration": 63,
    "start_time": "2021-06-11T21:16:41.229Z"
   },
   {
    "duration": 10,
    "start_time": "2021-06-11T21:16:41.294Z"
   },
   {
    "duration": 12,
    "start_time": "2021-06-11T21:16:41.307Z"
   },
   {
    "duration": 1174,
    "start_time": "2021-06-11T21:16:41.322Z"
   },
   {
    "duration": 493,
    "start_time": "2021-06-11T21:16:42.498Z"
   },
   {
    "duration": 561,
    "start_time": "2021-06-11T21:16:42.994Z"
   },
   {
    "duration": 509,
    "start_time": "2021-06-11T21:16:43.558Z"
   },
   {
    "duration": 547,
    "start_time": "2021-06-11T21:16:43.523Z"
   },
   {
    "duration": 539,
    "start_time": "2021-06-11T21:16:43.533Z"
   },
   {
    "duration": 537,
    "start_time": "2021-06-11T21:16:43.537Z"
   },
   {
    "duration": 536,
    "start_time": "2021-06-11T21:16:43.539Z"
   },
   {
    "duration": 478,
    "start_time": "2021-06-11T21:16:43.598Z"
   },
   {
    "duration": 477,
    "start_time": "2021-06-11T21:16:43.601Z"
   },
   {
    "duration": 475,
    "start_time": "2021-06-11T21:16:43.604Z"
   },
   {
    "duration": 474,
    "start_time": "2021-06-11T21:16:43.606Z"
   },
   {
    "duration": 469,
    "start_time": "2021-06-11T21:16:43.612Z"
   },
   {
    "duration": 467,
    "start_time": "2021-06-11T21:16:43.615Z"
   },
   {
    "duration": 468,
    "start_time": "2021-06-11T21:16:43.616Z"
   },
   {
    "duration": 24,
    "start_time": "2021-06-11T21:21:06.457Z"
   },
   {
    "duration": 2008,
    "start_time": "2021-06-11T21:23:57.349Z"
   },
   {
    "duration": 65,
    "start_time": "2021-06-11T21:23:59.360Z"
   },
   {
    "duration": 52,
    "start_time": "2021-06-11T21:23:59.429Z"
   },
   {
    "duration": 61,
    "start_time": "2021-06-11T21:23:59.484Z"
   },
   {
    "duration": 36,
    "start_time": "2021-06-11T21:23:59.548Z"
   },
   {
    "duration": 7,
    "start_time": "2021-06-11T21:23:59.587Z"
   },
   {
    "duration": 28,
    "start_time": "2021-06-11T21:23:59.597Z"
   },
   {
    "duration": 44,
    "start_time": "2021-06-11T21:23:59.629Z"
   },
   {
    "duration": 14,
    "start_time": "2021-06-11T21:23:59.676Z"
   },
   {
    "duration": 14,
    "start_time": "2021-06-11T21:23:59.692Z"
   },
   {
    "duration": 9,
    "start_time": "2021-06-11T21:23:59.708Z"
   },
   {
    "duration": 20,
    "start_time": "2021-06-11T21:23:59.719Z"
   },
   {
    "duration": 30,
    "start_time": "2021-06-11T21:23:59.741Z"
   },
   {
    "duration": 24,
    "start_time": "2021-06-11T21:23:59.774Z"
   },
   {
    "duration": 13,
    "start_time": "2021-06-11T21:23:59.801Z"
   },
   {
    "duration": 10,
    "start_time": "2021-06-11T21:23:59.818Z"
   },
   {
    "duration": 60,
    "start_time": "2021-06-11T21:23:59.832Z"
   },
   {
    "duration": 38,
    "start_time": "2021-06-11T21:23:59.895Z"
   },
   {
    "duration": 99,
    "start_time": "2021-06-11T21:23:59.936Z"
   },
   {
    "duration": 29,
    "start_time": "2021-06-11T21:24:00.038Z"
   },
   {
    "duration": 745,
    "start_time": "2021-06-11T21:24:00.069Z"
   },
   {
    "duration": 14,
    "start_time": "2021-06-11T21:24:00.818Z"
   },
   {
    "duration": 32,
    "start_time": "2021-06-11T21:24:00.840Z"
   },
   {
    "duration": 30,
    "start_time": "2021-06-11T21:24:00.880Z"
   },
   {
    "duration": 57,
    "start_time": "2021-06-11T21:24:00.912Z"
   },
   {
    "duration": 73,
    "start_time": "2021-06-11T21:24:00.972Z"
   },
   {
    "duration": 49,
    "start_time": "2021-06-11T21:24:01.048Z"
   },
   {
    "duration": 57,
    "start_time": "2021-06-11T21:24:01.100Z"
   },
   {
    "duration": 1225,
    "start_time": "2021-06-11T21:24:01.159Z"
   },
   {
    "duration": 484,
    "start_time": "2021-06-11T21:24:02.386Z"
   },
   {
    "duration": 582,
    "start_time": "2021-06-11T21:24:02.874Z"
   },
   {
    "duration": 20,
    "start_time": "2021-06-11T21:24:03.462Z"
   },
   {
    "duration": 27,
    "start_time": "2021-06-11T21:24:03.484Z"
   },
   {
    "duration": 1314,
    "start_time": "2021-06-11T21:24:03.513Z"
   },
   {
    "duration": 1246,
    "start_time": "2021-06-11T21:24:04.831Z"
   },
   {
    "duration": 1239,
    "start_time": "2021-06-11T21:24:06.080Z"
   },
   {
    "duration": 3,
    "start_time": "2021-06-11T21:24:07.322Z"
   },
   {
    "duration": 22,
    "start_time": "2021-06-11T21:24:07.328Z"
   },
   {
    "duration": 5,
    "start_time": "2021-06-11T21:24:07.366Z"
   },
   {
    "duration": 11,
    "start_time": "2021-06-11T21:24:07.373Z"
   },
   {
    "duration": 15,
    "start_time": "2021-06-11T21:24:07.386Z"
   },
   {
    "duration": 5,
    "start_time": "2021-06-11T21:24:07.404Z"
   },
   {
    "duration": 10,
    "start_time": "2021-06-11T21:24:07.412Z"
   },
   {
    "duration": 470,
    "start_time": "2021-06-11T21:35:39.363Z"
   },
   {
    "duration": 5,
    "start_time": "2021-06-11T21:35:52.837Z"
   },
   {
    "duration": 49,
    "start_time": "2021-06-11T21:36:03.029Z"
   },
   {
    "duration": 540,
    "start_time": "2021-06-11T21:41:44.032Z"
   },
   {
    "duration": 657,
    "start_time": "2021-06-11T21:41:55.983Z"
   },
   {
    "duration": 674,
    "start_time": "2021-06-11T21:42:21.659Z"
   },
   {
    "duration": 1529,
    "start_time": "2021-06-11T21:43:10.377Z"
   },
   {
    "duration": 65,
    "start_time": "2021-06-11T21:43:11.908Z"
   },
   {
    "duration": 40,
    "start_time": "2021-06-11T21:43:11.978Z"
   },
   {
    "duration": 89,
    "start_time": "2021-06-11T21:43:12.022Z"
   },
   {
    "duration": 16,
    "start_time": "2021-06-11T21:43:12.114Z"
   },
   {
    "duration": 4,
    "start_time": "2021-06-11T21:43:12.132Z"
   },
   {
    "duration": 43,
    "start_time": "2021-06-11T21:43:12.139Z"
   },
   {
    "duration": 15,
    "start_time": "2021-06-11T21:43:12.185Z"
   },
   {
    "duration": 12,
    "start_time": "2021-06-11T21:43:12.204Z"
   },
   {
    "duration": 53,
    "start_time": "2021-06-11T21:43:12.220Z"
   },
   {
    "duration": 6,
    "start_time": "2021-06-11T21:43:12.275Z"
   },
   {
    "duration": 17,
    "start_time": "2021-06-11T21:43:12.283Z"
   },
   {
    "duration": 13,
    "start_time": "2021-06-11T21:43:12.303Z"
   },
   {
    "duration": 49,
    "start_time": "2021-06-11T21:43:12.318Z"
   },
   {
    "duration": 9,
    "start_time": "2021-06-11T21:43:12.370Z"
   },
   {
    "duration": 12,
    "start_time": "2021-06-11T21:43:12.382Z"
   },
   {
    "duration": 33,
    "start_time": "2021-06-11T21:43:12.397Z"
   },
   {
    "duration": 48,
    "start_time": "2021-06-11T21:43:12.433Z"
   },
   {
    "duration": 55,
    "start_time": "2021-06-11T21:43:12.484Z"
   },
   {
    "duration": 31,
    "start_time": "2021-06-11T21:43:12.542Z"
   },
   {
    "duration": 478,
    "start_time": "2021-06-11T21:43:12.575Z"
   },
   {
    "duration": 14,
    "start_time": "2021-06-11T21:43:13.064Z"
   },
   {
    "duration": 5,
    "start_time": "2021-06-11T21:43:13.082Z"
   },
   {
    "duration": 27,
    "start_time": "2021-06-11T21:43:13.090Z"
   },
   {
    "duration": 21,
    "start_time": "2021-06-11T21:43:13.120Z"
   },
   {
    "duration": 61,
    "start_time": "2021-06-11T21:43:13.148Z"
   },
   {
    "duration": 49,
    "start_time": "2021-06-11T21:43:13.217Z"
   },
   {
    "duration": 22,
    "start_time": "2021-06-11T21:43:13.270Z"
   },
   {
    "duration": 1187,
    "start_time": "2021-06-11T21:43:13.295Z"
   },
   {
    "duration": 557,
    "start_time": "2021-06-11T21:44:28.733Z"
   },
   {
    "duration": 496,
    "start_time": "2021-06-11T21:44:28.796Z"
   },
   {
    "duration": 492,
    "start_time": "2021-06-11T21:44:28.801Z"
   },
   {
    "duration": 491,
    "start_time": "2021-06-11T21:44:28.804Z"
   },
   {
    "duration": 490,
    "start_time": "2021-06-11T21:44:28.806Z"
   },
   {
    "duration": 489,
    "start_time": "2021-06-11T21:44:28.809Z"
   },
   {
    "duration": 487,
    "start_time": "2021-06-11T21:44:28.812Z"
   },
   {
    "duration": 487,
    "start_time": "2021-06-11T21:44:28.814Z"
   },
   {
    "duration": 486,
    "start_time": "2021-06-11T21:44:28.816Z"
   },
   {
    "duration": 486,
    "start_time": "2021-06-11T21:44:28.818Z"
   },
   {
    "duration": 484,
    "start_time": "2021-06-11T21:44:28.821Z"
   },
   {
    "duration": 482,
    "start_time": "2021-06-11T21:44:28.825Z"
   },
   {
    "duration": 482,
    "start_time": "2021-06-11T21:44:28.827Z"
   },
   {
    "duration": 481,
    "start_time": "2021-06-11T21:44:28.829Z"
   },
   {
    "duration": 480,
    "start_time": "2021-06-11T21:44:28.831Z"
   },
   {
    "duration": 480,
    "start_time": "2021-06-11T21:44:28.833Z"
   },
   {
    "duration": 4,
    "start_time": "2021-06-11T21:44:32.818Z"
   },
   {
    "duration": 8,
    "start_time": "2021-06-11T21:44:34.989Z"
   },
   {
    "duration": 51,
    "start_time": "2021-06-11T21:44:47.659Z"
   },
   {
    "duration": 346,
    "start_time": "2021-06-11T21:46:45.261Z"
   },
   {
    "duration": 1845,
    "start_time": "2021-06-11T21:47:05.655Z"
   },
   {
    "duration": 66,
    "start_time": "2021-06-11T21:47:07.503Z"
   },
   {
    "duration": 34,
    "start_time": "2021-06-11T21:47:07.573Z"
   },
   {
    "duration": 70,
    "start_time": "2021-06-11T21:47:07.610Z"
   },
   {
    "duration": 14,
    "start_time": "2021-06-11T21:47:07.683Z"
   },
   {
    "duration": 9,
    "start_time": "2021-06-11T21:47:07.699Z"
   },
   {
    "duration": 25,
    "start_time": "2021-06-11T21:47:07.710Z"
   },
   {
    "duration": 12,
    "start_time": "2021-06-11T21:47:07.762Z"
   },
   {
    "duration": 20,
    "start_time": "2021-06-11T21:47:07.779Z"
   },
   {
    "duration": 13,
    "start_time": "2021-06-11T21:47:07.802Z"
   },
   {
    "duration": 7,
    "start_time": "2021-06-11T21:47:07.818Z"
   },
   {
    "duration": 50,
    "start_time": "2021-06-11T21:47:07.827Z"
   },
   {
    "duration": 10,
    "start_time": "2021-06-11T21:47:07.881Z"
   },
   {
    "duration": 12,
    "start_time": "2021-06-11T21:47:07.894Z"
   },
   {
    "duration": 12,
    "start_time": "2021-06-11T21:47:07.909Z"
   },
   {
    "duration": 43,
    "start_time": "2021-06-11T21:47:07.925Z"
   },
   {
    "duration": 28,
    "start_time": "2021-06-11T21:47:07.971Z"
   },
   {
    "duration": 27,
    "start_time": "2021-06-11T21:47:08.002Z"
   },
   {
    "duration": 56,
    "start_time": "2021-06-11T21:47:08.061Z"
   },
   {
    "duration": 43,
    "start_time": "2021-06-11T21:47:08.120Z"
   },
   {
    "duration": 484,
    "start_time": "2021-06-11T21:47:08.166Z"
   },
   {
    "duration": 16,
    "start_time": "2021-06-11T21:47:08.652Z"
   },
   {
    "duration": 5,
    "start_time": "2021-06-11T21:47:08.671Z"
   },
   {
    "duration": 11,
    "start_time": "2021-06-11T21:47:08.678Z"
   },
   {
    "duration": 15,
    "start_time": "2021-06-11T21:47:08.691Z"
   },
   {
    "duration": 67,
    "start_time": "2021-06-11T21:47:08.709Z"
   },
   {
    "duration": 23,
    "start_time": "2021-06-11T21:47:08.781Z"
   },
   {
    "duration": 27,
    "start_time": "2021-06-11T21:47:08.807Z"
   },
   {
    "duration": 1206,
    "start_time": "2021-06-11T21:47:08.836Z"
   },
   {
    "duration": 461,
    "start_time": "2021-06-11T21:47:10.044Z"
   },
   {
    "duration": 553,
    "start_time": "2021-06-11T21:47:09.954Z"
   },
   {
    "duration": 549,
    "start_time": "2021-06-11T21:47:09.960Z"
   },
   {
    "duration": 544,
    "start_time": "2021-06-11T21:47:09.966Z"
   },
   {
    "duration": 543,
    "start_time": "2021-06-11T21:47:09.969Z"
   },
   {
    "duration": 542,
    "start_time": "2021-06-11T21:47:09.972Z"
   },
   {
    "duration": 539,
    "start_time": "2021-06-11T21:47:09.976Z"
   },
   {
    "duration": 538,
    "start_time": "2021-06-11T21:47:09.979Z"
   },
   {
    "duration": 484,
    "start_time": "2021-06-11T21:47:10.034Z"
   },
   {
    "duration": 483,
    "start_time": "2021-06-11T21:47:10.037Z"
   },
   {
    "duration": 483,
    "start_time": "2021-06-11T21:47:10.039Z"
   },
   {
    "duration": 482,
    "start_time": "2021-06-11T21:47:10.041Z"
   },
   {
    "duration": 482,
    "start_time": "2021-06-11T21:47:10.043Z"
   },
   {
    "duration": 480,
    "start_time": "2021-06-11T21:47:10.046Z"
   },
   {
    "duration": 481,
    "start_time": "2021-06-11T21:47:10.048Z"
   },
   {
    "duration": 478,
    "start_time": "2021-06-11T21:47:10.052Z"
   },
   {
    "duration": 17,
    "start_time": "2021-06-11T21:50:30.797Z"
   },
   {
    "duration": 16,
    "start_time": "2021-06-11T21:50:32.156Z"
   },
   {
    "duration": 329,
    "start_time": "2021-06-11T21:52:09.779Z"
   },
   {
    "duration": 11,
    "start_time": "2021-06-11T21:55:49.287Z"
   },
   {
    "duration": 9,
    "start_time": "2021-06-11T21:55:51.049Z"
   },
   {
    "duration": 8072,
    "start_time": "2021-06-11T21:56:08.831Z"
   },
   {
    "duration": 9,
    "start_time": "2021-06-11T21:56:40.371Z"
   },
   {
    "duration": 10,
    "start_time": "2021-06-11T21:56:44.384Z"
   },
   {
    "duration": 11,
    "start_time": "2021-06-11T21:57:19.824Z"
   },
   {
    "duration": 10,
    "start_time": "2021-06-11T21:57:20.904Z"
   },
   {
    "duration": 14,
    "start_time": "2021-06-11T21:57:34.576Z"
   },
   {
    "duration": 13,
    "start_time": "2021-06-11T21:57:37.373Z"
   },
   {
    "duration": 17,
    "start_time": "2021-06-11T21:57:55.153Z"
   },
   {
    "duration": 10,
    "start_time": "2021-06-11T21:58:29.477Z"
   },
   {
    "duration": 11,
    "start_time": "2021-06-11T21:58:35.869Z"
   },
   {
    "duration": 314,
    "start_time": "2021-06-11T21:58:52.057Z"
   },
   {
    "duration": 10,
    "start_time": "2021-06-11T21:58:54.599Z"
   },
   {
    "duration": 13,
    "start_time": "2021-06-11T21:58:55.366Z"
   },
   {
    "duration": 4,
    "start_time": "2021-06-11T21:59:59.101Z"
   },
   {
    "duration": 6,
    "start_time": "2021-06-11T22:00:00.391Z"
   },
   {
    "duration": 1485,
    "start_time": "2021-06-11T22:02:28.406Z"
   },
   {
    "duration": 50,
    "start_time": "2021-06-11T22:02:29.893Z"
   },
   {
    "duration": 40,
    "start_time": "2021-06-11T22:02:29.946Z"
   },
   {
    "duration": 47,
    "start_time": "2021-06-11T22:02:29.990Z"
   },
   {
    "duration": 18,
    "start_time": "2021-06-11T22:02:30.062Z"
   },
   {
    "duration": 17,
    "start_time": "2021-06-11T22:02:30.083Z"
   },
   {
    "duration": 46,
    "start_time": "2021-06-11T22:02:30.103Z"
   },
   {
    "duration": 27,
    "start_time": "2021-06-11T22:02:30.155Z"
   },
   {
    "duration": 19,
    "start_time": "2021-06-11T22:02:30.187Z"
   },
   {
    "duration": 21,
    "start_time": "2021-06-11T22:02:30.209Z"
   },
   {
    "duration": 33,
    "start_time": "2021-06-11T22:02:30.233Z"
   },
   {
    "duration": 30,
    "start_time": "2021-06-11T22:02:30.269Z"
   },
   {
    "duration": 24,
    "start_time": "2021-06-11T22:02:30.302Z"
   },
   {
    "duration": 24,
    "start_time": "2021-06-11T22:02:30.329Z"
   },
   {
    "duration": 22,
    "start_time": "2021-06-11T22:02:30.356Z"
   },
   {
    "duration": 33,
    "start_time": "2021-06-11T22:02:30.381Z"
   },
   {
    "duration": 36,
    "start_time": "2021-06-11T22:02:30.417Z"
   },
   {
    "duration": 29,
    "start_time": "2021-06-11T22:02:30.456Z"
   },
   {
    "duration": 57,
    "start_time": "2021-06-11T22:02:30.487Z"
   },
   {
    "duration": 20,
    "start_time": "2021-06-11T22:02:30.546Z"
   },
   {
    "duration": 511,
    "start_time": "2021-06-11T22:02:30.569Z"
   },
   {
    "duration": 11,
    "start_time": "2021-06-11T22:02:31.082Z"
   },
   {
    "duration": 4,
    "start_time": "2021-06-11T22:02:31.099Z"
   },
   {
    "duration": 26,
    "start_time": "2021-06-11T22:02:31.106Z"
   },
   {
    "duration": 46,
    "start_time": "2021-06-11T22:02:31.135Z"
   },
   {
    "duration": 49,
    "start_time": "2021-06-11T22:02:31.192Z"
   },
   {
    "duration": 23,
    "start_time": "2021-06-11T22:02:31.243Z"
   },
   {
    "duration": 39,
    "start_time": "2021-06-11T22:02:31.269Z"
   },
   {
    "duration": 1220,
    "start_time": "2021-06-11T22:02:31.311Z"
   },
   {
    "duration": 29,
    "start_time": "2021-06-11T22:02:32.534Z"
   },
   {
    "duration": 17,
    "start_time": "2021-06-11T22:02:32.566Z"
   },
   {
    "duration": 33,
    "start_time": "2021-06-11T22:02:32.586Z"
   },
   {
    "duration": 532,
    "start_time": "2021-06-11T22:02:32.623Z"
   },
   {
    "duration": 555,
    "start_time": "2021-06-11T22:02:32.603Z"
   },
   {
    "duration": 551,
    "start_time": "2021-06-11T22:02:32.609Z"
   },
   {
    "duration": 546,
    "start_time": "2021-06-11T22:02:32.616Z"
   },
   {
    "duration": 545,
    "start_time": "2021-06-11T22:02:32.620Z"
   },
   {
    "duration": 545,
    "start_time": "2021-06-11T22:02:32.623Z"
   },
   {
    "duration": 539,
    "start_time": "2021-06-11T22:02:32.631Z"
   },
   {
    "duration": 536,
    "start_time": "2021-06-11T22:02:32.635Z"
   },
   {
    "duration": 535,
    "start_time": "2021-06-11T22:02:32.638Z"
   },
   {
    "duration": 533,
    "start_time": "2021-06-11T22:02:32.641Z"
   },
   {
    "duration": 492,
    "start_time": "2021-06-11T22:02:32.684Z"
   },
   {
    "duration": 492,
    "start_time": "2021-06-11T22:02:32.686Z"
   },
   {
    "duration": 492,
    "start_time": "2021-06-11T22:02:32.688Z"
   },
   {
    "duration": 491,
    "start_time": "2021-06-11T22:02:32.691Z"
   },
   {
    "duration": 485,
    "start_time": "2021-06-11T22:02:32.699Z"
   },
   {
    "duration": 483,
    "start_time": "2021-06-11T22:02:32.703Z"
   },
   {
    "duration": 482,
    "start_time": "2021-06-11T22:02:32.706Z"
   },
   {
    "duration": 15,
    "start_time": "2021-06-11T22:03:51.865Z"
   },
   {
    "duration": 7,
    "start_time": "2021-06-11T22:03:53.598Z"
   },
   {
    "duration": 19,
    "start_time": "2021-06-11T22:04:02.789Z"
   },
   {
    "duration": 316,
    "start_time": "2021-06-11T22:05:03.486Z"
   },
   {
    "duration": 101,
    "start_time": "2021-06-11T22:05:14.100Z"
   },
   {
    "duration": 14,
    "start_time": "2021-06-11T22:06:10.327Z"
   },
   {
    "duration": 15,
    "start_time": "2021-06-11T22:06:13.552Z"
   },
   {
    "duration": 8471,
    "start_time": "2021-06-11T22:06:57.752Z"
   },
   {
    "duration": 7937,
    "start_time": "2021-06-11T22:07:17.424Z"
   },
   {
    "duration": 361,
    "start_time": "2021-06-11T22:07:50.006Z"
   },
   {
    "duration": 370,
    "start_time": "2021-06-11T22:08:01.339Z"
   },
   {
    "duration": 14,
    "start_time": "2021-06-11T22:08:23.808Z"
   },
   {
    "duration": 14,
    "start_time": "2021-06-11T22:10:23.172Z"
   },
   {
    "duration": 8059,
    "start_time": "2021-06-11T22:11:32.048Z"
   },
   {
    "duration": 8237,
    "start_time": "2021-06-11T22:11:50.462Z"
   },
   {
    "duration": 16,
    "start_time": "2021-06-11T22:19:02.066Z"
   },
   {
    "duration": 9,
    "start_time": "2021-06-11T22:19:03.388Z"
   },
   {
    "duration": 8253,
    "start_time": "2021-06-11T22:19:08.437Z"
   },
   {
    "duration": 5,
    "start_time": "2021-06-11T22:19:26.406Z"
   },
   {
    "duration": 14,
    "start_time": "2021-06-11T22:19:35.849Z"
   },
   {
    "duration": 25,
    "start_time": "2021-06-11T22:22:22.003Z"
   },
   {
    "duration": 36,
    "start_time": "2021-06-11T22:27:53.454Z"
   },
   {
    "duration": 22,
    "start_time": "2021-06-11T22:27:54.318Z"
   },
   {
    "duration": 28,
    "start_time": "2021-06-11T22:27:57.174Z"
   },
   {
    "duration": 656,
    "start_time": "2021-06-11T22:27:59.296Z"
   },
   {
    "duration": 34,
    "start_time": "2021-06-11T22:28:23.748Z"
   },
   {
    "duration": 22,
    "start_time": "2021-06-11T22:28:24.362Z"
   },
   {
    "duration": 22,
    "start_time": "2021-06-11T22:28:25.578Z"
   },
   {
    "duration": 541,
    "start_time": "2021-06-11T22:28:27.195Z"
   },
   {
    "duration": 405,
    "start_time": "2021-06-11T22:34:07.822Z"
   },
   {
    "duration": 292,
    "start_time": "2021-06-11T22:38:20.778Z"
   },
   {
    "duration": 335,
    "start_time": "2021-06-11T22:38:30.668Z"
   },
   {
    "duration": 650,
    "start_time": "2021-06-11T22:39:05.264Z"
   },
   {
    "duration": 805,
    "start_time": "2021-06-11T22:40:32.276Z"
   },
   {
    "duration": 592,
    "start_time": "2021-06-11T22:43:12.334Z"
   },
   {
    "duration": 601,
    "start_time": "2021-06-11T22:43:43.566Z"
   },
   {
    "duration": 25,
    "start_time": "2021-06-11T22:45:06.771Z"
   },
   {
    "duration": 595,
    "start_time": "2021-06-11T22:56:35.460Z"
   },
   {
    "duration": 610,
    "start_time": "2021-06-11T23:10:57.448Z"
   },
   {
    "duration": 550,
    "start_time": "2021-06-11T23:11:50.908Z"
   },
   {
    "duration": 706,
    "start_time": "2021-06-11T23:12:47.101Z"
   },
   {
    "duration": 589,
    "start_time": "2021-06-11T23:13:06.611Z"
   },
   {
    "duration": 576,
    "start_time": "2021-06-11T23:14:59.824Z"
   },
   {
    "duration": 880,
    "start_time": "2021-06-11T23:15:33.467Z"
   },
   {
    "duration": 9750,
    "start_time": "2021-06-11T23:16:38.699Z"
   },
   {
    "duration": 366,
    "start_time": "2021-06-11T23:22:08.968Z"
   },
   {
    "duration": 332,
    "start_time": "2021-06-11T23:28:35.010Z"
   },
   {
    "duration": 326,
    "start_time": "2021-06-11T23:28:42.527Z"
   },
   {
    "duration": 315,
    "start_time": "2021-06-11T23:29:08.074Z"
   },
   {
    "duration": 4,
    "start_time": "2021-06-11T23:29:47.089Z"
   },
   {
    "duration": 5,
    "start_time": "2021-06-11T23:29:48.302Z"
   },
   {
    "duration": 39,
    "start_time": "2021-06-11T23:29:55.708Z"
   },
   {
    "duration": 353,
    "start_time": "2021-06-11T23:30:46.724Z"
   },
   {
    "duration": 1676,
    "start_time": "2021-06-11T23:30:59.674Z"
   },
   {
    "duration": 54,
    "start_time": "2021-06-11T23:31:01.353Z"
   },
   {
    "duration": 27,
    "start_time": "2021-06-11T23:31:01.411Z"
   },
   {
    "duration": 71,
    "start_time": "2021-06-11T23:31:01.441Z"
   },
   {
    "duration": 15,
    "start_time": "2021-06-11T23:31:01.515Z"
   },
   {
    "duration": 22,
    "start_time": "2021-06-11T23:31:01.533Z"
   },
   {
    "duration": 34,
    "start_time": "2021-06-11T23:31:01.558Z"
   },
   {
    "duration": 40,
    "start_time": "2021-06-11T23:31:01.596Z"
   },
   {
    "duration": 29,
    "start_time": "2021-06-11T23:31:01.640Z"
   },
   {
    "duration": 14,
    "start_time": "2021-06-11T23:31:01.672Z"
   },
   {
    "duration": 17,
    "start_time": "2021-06-11T23:31:01.689Z"
   },
   {
    "duration": 25,
    "start_time": "2021-06-11T23:31:01.708Z"
   },
   {
    "duration": 11,
    "start_time": "2021-06-11T23:31:01.736Z"
   },
   {
    "duration": 28,
    "start_time": "2021-06-11T23:31:01.749Z"
   },
   {
    "duration": 19,
    "start_time": "2021-06-11T23:31:01.779Z"
   },
   {
    "duration": 19,
    "start_time": "2021-06-11T23:31:01.801Z"
   },
   {
    "duration": 35,
    "start_time": "2021-06-11T23:31:01.823Z"
   },
   {
    "duration": 31,
    "start_time": "2021-06-11T23:31:01.861Z"
   },
   {
    "duration": 77,
    "start_time": "2021-06-11T23:31:01.894Z"
   },
   {
    "duration": 17,
    "start_time": "2021-06-11T23:31:01.974Z"
   },
   {
    "duration": 486,
    "start_time": "2021-06-11T23:31:01.994Z"
   },
   {
    "duration": 10,
    "start_time": "2021-06-11T23:31:02.483Z"
   },
   {
    "duration": 15,
    "start_time": "2021-06-11T23:31:02.498Z"
   },
   {
    "duration": 30,
    "start_time": "2021-06-11T23:31:02.516Z"
   },
   {
    "duration": 21,
    "start_time": "2021-06-11T23:31:02.548Z"
   },
   {
    "duration": 33,
    "start_time": "2021-06-11T23:31:02.572Z"
   },
   {
    "duration": 20,
    "start_time": "2021-06-11T23:31:02.608Z"
   },
   {
    "duration": 40,
    "start_time": "2021-06-11T23:31:02.630Z"
   },
   {
    "duration": 442,
    "start_time": "2021-06-11T23:31:02.673Z"
   },
   {
    "duration": 14,
    "start_time": "2021-06-11T23:31:03.117Z"
   },
   {
    "duration": 38,
    "start_time": "2021-06-11T23:31:03.133Z"
   },
   {
    "duration": 19,
    "start_time": "2021-06-11T23:31:03.174Z"
   },
   {
    "duration": 23,
    "start_time": "2021-06-11T23:31:03.196Z"
   },
   {
    "duration": 38,
    "start_time": "2021-06-11T23:31:03.222Z"
   },
   {
    "duration": 551,
    "start_time": "2021-06-11T23:31:03.270Z"
   },
   {
    "duration": 574,
    "start_time": "2021-06-11T23:31:03.823Z"
   },
   {
    "duration": 550,
    "start_time": "2021-06-11T23:31:04.399Z"
   },
   {
    "duration": 456,
    "start_time": "2021-06-11T23:31:04.952Z"
   },
   {
    "duration": 569,
    "start_time": "2021-06-11T23:31:04.842Z"
   },
   {
    "duration": 562,
    "start_time": "2021-06-11T23:31:04.850Z"
   },
   {
    "duration": 561,
    "start_time": "2021-06-11T23:31:04.853Z"
   },
   {
    "duration": 560,
    "start_time": "2021-06-11T23:31:04.855Z"
   },
   {
    "duration": 558,
    "start_time": "2021-06-11T23:31:04.859Z"
   },
   {
    "duration": 552,
    "start_time": "2021-06-11T23:31:04.867Z"
   },
   {
    "duration": 549,
    "start_time": "2021-06-11T23:31:04.871Z"
   },
   {
    "duration": 548,
    "start_time": "2021-06-11T23:31:04.874Z"
   },
   {
    "duration": 540,
    "start_time": "2021-06-11T23:31:04.883Z"
   },
   {
    "duration": 539,
    "start_time": "2021-06-11T23:31:04.886Z"
   },
   {
    "duration": 537,
    "start_time": "2021-06-11T23:31:04.889Z"
   },
   {
    "duration": 536,
    "start_time": "2021-06-11T23:31:04.892Z"
   },
   {
    "duration": 528,
    "start_time": "2021-06-11T23:31:04.901Z"
   },
   {
    "duration": 1599,
    "start_time": "2021-06-11T23:31:24.998Z"
   },
   {
    "duration": 49,
    "start_time": "2021-06-11T23:31:26.600Z"
   },
   {
    "duration": 35,
    "start_time": "2021-06-11T23:31:26.652Z"
   },
   {
    "duration": 44,
    "start_time": "2021-06-11T23:31:26.690Z"
   },
   {
    "duration": 38,
    "start_time": "2021-06-11T23:31:26.736Z"
   },
   {
    "duration": 4,
    "start_time": "2021-06-11T23:31:26.779Z"
   },
   {
    "duration": 27,
    "start_time": "2021-06-11T23:31:26.785Z"
   },
   {
    "duration": 14,
    "start_time": "2021-06-11T23:31:26.815Z"
   },
   {
    "duration": 17,
    "start_time": "2021-06-11T23:31:26.866Z"
   },
   {
    "duration": 26,
    "start_time": "2021-06-11T23:31:26.886Z"
   },
   {
    "duration": 5,
    "start_time": "2021-06-11T23:31:26.915Z"
   },
   {
    "duration": 22,
    "start_time": "2021-06-11T23:31:26.922Z"
   },
   {
    "duration": 10,
    "start_time": "2021-06-11T23:31:26.969Z"
   },
   {
    "duration": 13,
    "start_time": "2021-06-11T23:31:26.982Z"
   },
   {
    "duration": 11,
    "start_time": "2021-06-11T23:31:26.998Z"
   },
   {
    "duration": 9,
    "start_time": "2021-06-11T23:31:27.012Z"
   },
   {
    "duration": 57,
    "start_time": "2021-06-11T23:31:27.024Z"
   },
   {
    "duration": 27,
    "start_time": "2021-06-11T23:31:27.084Z"
   },
   {
    "duration": 99,
    "start_time": "2021-06-11T23:31:27.114Z"
   },
   {
    "duration": 15,
    "start_time": "2021-06-11T23:31:27.217Z"
   },
   {
    "duration": 503,
    "start_time": "2021-06-11T23:31:27.234Z"
   },
   {
    "duration": 24,
    "start_time": "2021-06-11T23:31:27.739Z"
   },
   {
    "duration": 5,
    "start_time": "2021-06-11T23:31:27.766Z"
   },
   {
    "duration": 23,
    "start_time": "2021-06-11T23:31:27.774Z"
   },
   {
    "duration": 13,
    "start_time": "2021-06-11T23:31:27.800Z"
   },
   {
    "duration": 47,
    "start_time": "2021-06-11T23:31:27.815Z"
   },
   {
    "duration": 25,
    "start_time": "2021-06-11T23:31:27.872Z"
   },
   {
    "duration": 23,
    "start_time": "2021-06-11T23:31:27.900Z"
   },
   {
    "duration": 500,
    "start_time": "2021-06-11T23:31:27.925Z"
   },
   {
    "duration": 14,
    "start_time": "2021-06-11T23:31:28.428Z"
   },
   {
    "duration": 25,
    "start_time": "2021-06-11T23:31:28.445Z"
   },
   {
    "duration": 8,
    "start_time": "2021-06-11T23:31:28.473Z"
   },
   {
    "duration": 15,
    "start_time": "2021-06-11T23:31:28.484Z"
   },
   {
    "duration": 72,
    "start_time": "2021-06-11T23:31:28.501Z"
   },
   {
    "duration": 598,
    "start_time": "2021-06-11T23:31:28.576Z"
   },
   {
    "duration": 611,
    "start_time": "2021-06-11T23:31:29.177Z"
   },
   {
    "duration": 545,
    "start_time": "2021-06-11T23:31:29.791Z"
   },
   {
    "duration": 456,
    "start_time": "2021-06-11T23:31:30.338Z"
   },
   {
    "duration": 473,
    "start_time": "2021-06-11T23:31:30.323Z"
   },
   {
    "duration": 469,
    "start_time": "2021-06-11T23:31:30.329Z"
   },
   {
    "duration": 468,
    "start_time": "2021-06-11T23:31:30.331Z"
   },
   {
    "duration": 466,
    "start_time": "2021-06-11T23:31:30.334Z"
   },
   {
    "duration": 466,
    "start_time": "2021-06-11T23:31:30.336Z"
   },
   {
    "duration": 465,
    "start_time": "2021-06-11T23:31:30.338Z"
   },
   {
    "duration": 464,
    "start_time": "2021-06-11T23:31:30.340Z"
   },
   {
    "duration": 462,
    "start_time": "2021-06-11T23:31:30.343Z"
   },
   {
    "duration": 461,
    "start_time": "2021-06-11T23:31:30.345Z"
   },
   {
    "duration": 461,
    "start_time": "2021-06-11T23:31:30.347Z"
   },
   {
    "duration": 460,
    "start_time": "2021-06-11T23:31:30.349Z"
   },
   {
    "duration": 458,
    "start_time": "2021-06-11T23:31:30.352Z"
   },
   {
    "duration": 458,
    "start_time": "2021-06-11T23:31:30.354Z"
   },
   {
    "duration": 8,
    "start_time": "2021-06-11T23:32:02.130Z"
   },
   {
    "duration": 25,
    "start_time": "2021-06-11T23:32:03.340Z"
   },
   {
    "duration": 9,
    "start_time": "2021-06-11T23:32:14.462Z"
   },
   {
    "duration": 1455,
    "start_time": "2021-06-11T23:37:10.219Z"
   },
   {
    "duration": 49,
    "start_time": "2021-06-11T23:37:11.677Z"
   },
   {
    "duration": 34,
    "start_time": "2021-06-11T23:37:11.729Z"
   },
   {
    "duration": 47,
    "start_time": "2021-06-11T23:37:11.766Z"
   },
   {
    "duration": 48,
    "start_time": "2021-06-11T23:37:11.815Z"
   },
   {
    "duration": 5,
    "start_time": "2021-06-11T23:37:11.866Z"
   },
   {
    "duration": 30,
    "start_time": "2021-06-11T23:37:11.874Z"
   },
   {
    "duration": 18,
    "start_time": "2021-06-11T23:37:11.907Z"
   },
   {
    "duration": 45,
    "start_time": "2021-06-11T23:37:11.931Z"
   },
   {
    "duration": 16,
    "start_time": "2021-06-11T23:37:11.980Z"
   },
   {
    "duration": 6,
    "start_time": "2021-06-11T23:37:11.999Z"
   },
   {
    "duration": 54,
    "start_time": "2021-06-11T23:37:12.008Z"
   },
   {
    "duration": 11,
    "start_time": "2021-06-11T23:37:12.065Z"
   },
   {
    "duration": 10,
    "start_time": "2021-06-11T23:37:12.078Z"
   },
   {
    "duration": 9,
    "start_time": "2021-06-11T23:37:12.090Z"
   },
   {
    "duration": 8,
    "start_time": "2021-06-11T23:37:12.102Z"
   },
   {
    "duration": 65,
    "start_time": "2021-06-11T23:37:12.112Z"
   },
   {
    "duration": 28,
    "start_time": "2021-06-11T23:37:12.180Z"
   },
   {
    "duration": 78,
    "start_time": "2021-06-11T23:37:12.211Z"
   },
   {
    "duration": 13,
    "start_time": "2021-06-11T23:37:12.292Z"
   },
   {
    "duration": 469,
    "start_time": "2021-06-11T23:37:12.308Z"
   },
   {
    "duration": 11,
    "start_time": "2021-06-11T23:37:12.779Z"
   },
   {
    "duration": 4,
    "start_time": "2021-06-11T23:37:12.793Z"
   },
   {
    "duration": 13,
    "start_time": "2021-06-11T23:37:12.800Z"
   },
   {
    "duration": 7,
    "start_time": "2021-06-11T23:37:12.815Z"
   },
   {
    "duration": 67,
    "start_time": "2021-06-11T23:37:12.825Z"
   },
   {
    "duration": 22,
    "start_time": "2021-06-11T23:37:12.898Z"
   },
   {
    "duration": 50,
    "start_time": "2021-06-11T23:37:12.923Z"
   },
   {
    "duration": 509,
    "start_time": "2021-06-11T23:37:12.976Z"
   },
   {
    "duration": 14,
    "start_time": "2021-06-11T23:37:13.488Z"
   },
   {
    "duration": 8,
    "start_time": "2021-06-11T23:37:13.504Z"
   },
   {
    "duration": 9,
    "start_time": "2021-06-11T23:37:13.515Z"
   },
   {
    "duration": 43,
    "start_time": "2021-06-11T23:37:13.527Z"
   },
   {
    "duration": 38,
    "start_time": "2021-06-11T23:37:13.573Z"
   },
   {
    "duration": 866,
    "start_time": "2021-06-11T23:37:13.614Z"
   },
   {
    "duration": 889,
    "start_time": "2021-06-11T23:37:14.483Z"
   },
   {
    "duration": 841,
    "start_time": "2021-06-11T23:37:15.376Z"
   },
   {
    "duration": 11,
    "start_time": "2021-06-11T23:37:16.221Z"
   },
   {
    "duration": 454,
    "start_time": "2021-06-11T23:40:06.911Z"
   },
   {
    "duration": 453,
    "start_time": "2021-06-11T23:40:06.914Z"
   },
   {
    "duration": 451,
    "start_time": "2021-06-11T23:40:06.918Z"
   },
   {
    "duration": 448,
    "start_time": "2021-06-11T23:40:06.922Z"
   },
   {
    "duration": 447,
    "start_time": "2021-06-11T23:40:06.925Z"
   },
   {
    "duration": 446,
    "start_time": "2021-06-11T23:40:06.928Z"
   },
   {
    "duration": 445,
    "start_time": "2021-06-11T23:40:06.930Z"
   },
   {
    "duration": 442,
    "start_time": "2021-06-11T23:40:06.935Z"
   },
   {
    "duration": 392,
    "start_time": "2021-06-11T23:40:06.987Z"
   },
   {
    "duration": 390,
    "start_time": "2021-06-11T23:40:06.990Z"
   },
   {
    "duration": 390,
    "start_time": "2021-06-11T23:40:06.992Z"
   },
   {
    "duration": 390,
    "start_time": "2021-06-11T23:40:06.994Z"
   },
   {
    "duration": 381,
    "start_time": "2021-06-11T23:40:07.004Z"
   },
   {
    "duration": 395,
    "start_time": "2021-06-11T23:40:24.942Z"
   },
   {
    "duration": 418,
    "start_time": "2021-06-11T23:40:58.212Z"
   },
   {
    "duration": 20,
    "start_time": "2021-06-11T23:44:46.439Z"
   },
   {
    "duration": 13,
    "start_time": "2021-06-11T23:44:47.314Z"
   },
   {
    "duration": 23,
    "start_time": "2021-06-11T23:45:17.363Z"
   },
   {
    "duration": 14,
    "start_time": "2021-06-11T23:45:19.901Z"
   },
   {
    "duration": 126,
    "start_time": "2021-06-11T23:45:29.837Z"
   },
   {
    "duration": 18,
    "start_time": "2021-06-11T23:45:37.235Z"
   },
   {
    "duration": 12,
    "start_time": "2021-06-11T23:45:38.283Z"
   },
   {
    "duration": 395,
    "start_time": "2021-06-11T23:45:55.466Z"
   },
   {
    "duration": 379,
    "start_time": "2021-06-11T23:47:17.964Z"
   },
   {
    "duration": 18,
    "start_time": "2021-06-11T23:47:20.261Z"
   },
   {
    "duration": 557,
    "start_time": "2021-06-11T23:47:21.012Z"
   },
   {
    "duration": 18,
    "start_time": "2021-06-11T23:48:14.023Z"
   },
   {
    "duration": 2737,
    "start_time": "2021-06-11T23:48:14.655Z"
   },
   {
    "duration": 572,
    "start_time": "2021-06-11T23:48:19.473Z"
   },
   {
    "duration": 575,
    "start_time": "2021-06-11T23:48:44.832Z"
   },
   {
    "duration": 12,
    "start_time": "2021-06-11T23:49:32.823Z"
   },
   {
    "duration": 8180,
    "start_time": "2021-06-11T23:50:47.423Z"
   },
   {
    "duration": 10,
    "start_time": "2021-06-11T23:51:36.160Z"
   },
   {
    "duration": 24,
    "start_time": "2021-06-11T23:53:25.893Z"
   },
   {
    "duration": 11,
    "start_time": "2021-06-11T23:53:45.943Z"
   },
   {
    "duration": 10,
    "start_time": "2021-06-11T23:56:00.075Z"
   },
   {
    "duration": 6,
    "start_time": "2021-06-11T23:56:00.891Z"
   },
   {
    "duration": 12,
    "start_time": "2021-06-11T23:56:52.833Z"
   },
   {
    "duration": 5,
    "start_time": "2021-06-11T23:56:53.641Z"
   },
   {
    "duration": 15,
    "start_time": "2021-06-11T23:57:03.963Z"
   },
   {
    "duration": 7,
    "start_time": "2021-06-11T23:57:04.571Z"
   },
   {
    "duration": 601,
    "start_time": "2021-06-11T23:58:20.708Z"
   },
   {
    "duration": 592,
    "start_time": "2021-06-11T23:58:54.863Z"
   },
   {
    "duration": 795,
    "start_time": "2021-06-11T23:59:07.402Z"
   },
   {
    "duration": 1554,
    "start_time": "2021-06-12T00:00:08.308Z"
   },
   {
    "duration": 51,
    "start_time": "2021-06-12T00:00:09.865Z"
   },
   {
    "duration": 28,
    "start_time": "2021-06-12T00:00:09.919Z"
   },
   {
    "duration": 52,
    "start_time": "2021-06-12T00:00:09.964Z"
   },
   {
    "duration": 15,
    "start_time": "2021-06-12T00:00:10.018Z"
   },
   {
    "duration": 29,
    "start_time": "2021-06-12T00:00:10.036Z"
   },
   {
    "duration": 31,
    "start_time": "2021-06-12T00:00:10.068Z"
   },
   {
    "duration": 14,
    "start_time": "2021-06-12T00:00:10.103Z"
   },
   {
    "duration": 44,
    "start_time": "2021-06-12T00:00:10.121Z"
   },
   {
    "duration": 19,
    "start_time": "2021-06-12T00:00:10.169Z"
   },
   {
    "duration": 7,
    "start_time": "2021-06-12T00:00:10.191Z"
   },
   {
    "duration": 26,
    "start_time": "2021-06-12T00:00:10.201Z"
   },
   {
    "duration": 34,
    "start_time": "2021-06-12T00:00:10.230Z"
   },
   {
    "duration": 28,
    "start_time": "2021-06-12T00:00:10.268Z"
   },
   {
    "duration": 28,
    "start_time": "2021-06-12T00:00:10.300Z"
   },
   {
    "duration": 22,
    "start_time": "2021-06-12T00:00:10.331Z"
   },
   {
    "duration": 47,
    "start_time": "2021-06-12T00:00:10.356Z"
   },
   {
    "duration": 31,
    "start_time": "2021-06-12T00:00:10.406Z"
   },
   {
    "duration": 57,
    "start_time": "2021-06-12T00:00:10.439Z"
   },
   {
    "duration": 13,
    "start_time": "2021-06-12T00:00:10.498Z"
   },
   {
    "duration": 573,
    "start_time": "2021-06-12T00:00:10.514Z"
   },
   {
    "duration": 11,
    "start_time": "2021-06-12T00:00:11.090Z"
   },
   {
    "duration": 4,
    "start_time": "2021-06-12T00:00:11.106Z"
   },
   {
    "duration": 25,
    "start_time": "2021-06-12T00:00:11.114Z"
   },
   {
    "duration": 24,
    "start_time": "2021-06-12T00:00:11.142Z"
   },
   {
    "duration": 45,
    "start_time": "2021-06-12T00:00:11.171Z"
   },
   {
    "duration": 44,
    "start_time": "2021-06-12T00:00:11.218Z"
   },
   {
    "duration": 29,
    "start_time": "2021-06-12T00:00:11.265Z"
   },
   {
    "duration": 528,
    "start_time": "2021-06-12T00:00:11.298Z"
   },
   {
    "duration": 15,
    "start_time": "2021-06-12T00:00:11.828Z"
   },
   {
    "duration": 25,
    "start_time": "2021-06-12T00:00:11.845Z"
   },
   {
    "duration": 11,
    "start_time": "2021-06-12T00:00:11.873Z"
   },
   {
    "duration": 20,
    "start_time": "2021-06-12T00:00:11.891Z"
   },
   {
    "duration": 50,
    "start_time": "2021-06-12T00:00:11.914Z"
   },
   {
    "duration": 609,
    "start_time": "2021-06-12T00:00:11.967Z"
   },
   {
    "duration": 585,
    "start_time": "2021-06-12T00:00:12.579Z"
   },
   {
    "duration": 704,
    "start_time": "2021-06-12T00:00:13.167Z"
   },
   {
    "duration": 11,
    "start_time": "2021-06-12T00:00:13.873Z"
   },
   {
    "duration": 23,
    "start_time": "2021-06-12T00:00:13.887Z"
   },
   {
    "duration": 9,
    "start_time": "2021-06-12T00:00:13.914Z"
   },
   {
    "duration": 54,
    "start_time": "2021-06-12T00:00:13.927Z"
   },
   {
    "duration": 23,
    "start_time": "2021-06-12T00:00:13.983Z"
   },
   {
    "duration": 1819,
    "start_time": "2021-06-12T00:00:14.009Z"
   },
   {
    "duration": 1685,
    "start_time": "2021-06-12T00:00:15.831Z"
   },
   {
    "duration": 1696,
    "start_time": "2021-06-12T00:00:17.520Z"
   },
   {
    "duration": 4,
    "start_time": "2021-06-12T00:00:19.220Z"
   },
   {
    "duration": 39,
    "start_time": "2021-06-12T00:00:19.227Z"
   },
   {
    "duration": 7,
    "start_time": "2021-06-12T00:00:19.270Z"
   },
   {
    "duration": 13,
    "start_time": "2021-06-12T00:00:19.280Z"
   },
   {
    "duration": 20,
    "start_time": "2021-06-12T00:00:19.295Z"
   },
   {
    "duration": 5,
    "start_time": "2021-06-12T00:00:19.317Z"
   },
   {
    "duration": 40,
    "start_time": "2021-06-12T00:00:19.324Z"
   },
   {
    "duration": 25,
    "start_time": "2021-06-12T00:04:14.268Z"
   },
   {
    "duration": 17,
    "start_time": "2021-06-12T00:04:20.434Z"
   },
   {
    "duration": 8,
    "start_time": "2021-06-12T00:05:59.607Z"
   },
   {
    "duration": 15,
    "start_time": "2021-06-12T00:06:14.136Z"
   },
   {
    "duration": 15,
    "start_time": "2021-06-12T00:06:21.098Z"
   },
   {
    "duration": 7,
    "start_time": "2021-06-12T00:21:43.921Z"
   },
   {
    "duration": 428,
    "start_time": "2021-06-12T00:30:55.178Z"
   },
   {
    "duration": 6,
    "start_time": "2021-06-12T00:31:01.696Z"
   },
   {
    "duration": 1303,
    "start_time": "2021-06-12T00:31:04.968Z"
   },
   {
    "duration": 8,
    "start_time": "2021-06-12T00:31:48.798Z"
   },
   {
    "duration": 1673,
    "start_time": "2021-06-12T00:31:51.827Z"
   },
   {
    "duration": 1467,
    "start_time": "2021-06-12T00:32:03.562Z"
   },
   {
    "duration": 59,
    "start_time": "2021-06-12T00:32:05.032Z"
   },
   {
    "duration": 27,
    "start_time": "2021-06-12T00:32:05.094Z"
   },
   {
    "duration": 81,
    "start_time": "2021-06-12T00:32:05.123Z"
   },
   {
    "duration": 14,
    "start_time": "2021-06-12T00:32:05.206Z"
   },
   {
    "duration": 4,
    "start_time": "2021-06-12T00:32:05.223Z"
   },
   {
    "duration": 46,
    "start_time": "2021-06-12T00:32:05.230Z"
   },
   {
    "duration": 12,
    "start_time": "2021-06-12T00:32:05.281Z"
   },
   {
    "duration": 12,
    "start_time": "2021-06-12T00:32:05.296Z"
   },
   {
    "duration": 13,
    "start_time": "2021-06-12T00:32:05.311Z"
   },
   {
    "duration": 40,
    "start_time": "2021-06-12T00:32:05.326Z"
   },
   {
    "duration": 22,
    "start_time": "2021-06-12T00:32:05.369Z"
   },
   {
    "duration": 10,
    "start_time": "2021-06-12T00:32:05.394Z"
   },
   {
    "duration": 17,
    "start_time": "2021-06-12T00:32:05.407Z"
   },
   {
    "duration": 41,
    "start_time": "2021-06-12T00:32:05.428Z"
   },
   {
    "duration": 19,
    "start_time": "2021-06-12T00:32:05.472Z"
   },
   {
    "duration": 32,
    "start_time": "2021-06-12T00:32:05.493Z"
   },
   {
    "duration": 45,
    "start_time": "2021-06-12T00:32:05.528Z"
   },
   {
    "duration": 54,
    "start_time": "2021-06-12T00:32:05.576Z"
   },
   {
    "duration": 35,
    "start_time": "2021-06-12T00:32:05.632Z"
   },
   {
    "duration": 473,
    "start_time": "2021-06-12T00:32:05.670Z"
   },
   {
    "duration": 23,
    "start_time": "2021-06-12T00:32:06.146Z"
   },
   {
    "duration": 4,
    "start_time": "2021-06-12T00:32:06.177Z"
   },
   {
    "duration": 15,
    "start_time": "2021-06-12T00:32:06.185Z"
   },
   {
    "duration": 9,
    "start_time": "2021-06-12T00:32:06.202Z"
   },
   {
    "duration": 71,
    "start_time": "2021-06-12T00:32:06.213Z"
   },
   {
    "duration": 23,
    "start_time": "2021-06-12T00:32:06.287Z"
   },
   {
    "duration": 21,
    "start_time": "2021-06-12T00:32:06.313Z"
   },
   {
    "duration": 479,
    "start_time": "2021-06-12T00:32:06.338Z"
   },
   {
    "duration": 15,
    "start_time": "2021-06-12T00:32:06.820Z"
   },
   {
    "duration": 27,
    "start_time": "2021-06-12T00:32:06.838Z"
   },
   {
    "duration": 32,
    "start_time": "2021-06-12T00:32:06.868Z"
   },
   {
    "duration": 17,
    "start_time": "2021-06-12T00:32:06.903Z"
   },
   {
    "duration": 50,
    "start_time": "2021-06-12T00:32:06.923Z"
   },
   {
    "duration": 618,
    "start_time": "2021-06-12T00:32:06.977Z"
   },
   {
    "duration": 593,
    "start_time": "2021-06-12T00:32:07.598Z"
   },
   {
    "duration": 572,
    "start_time": "2021-06-12T00:32:08.193Z"
   },
   {
    "duration": 11,
    "start_time": "2021-06-12T00:32:08.767Z"
   },
   {
    "duration": 10,
    "start_time": "2021-06-12T00:32:08.781Z"
   },
   {
    "duration": 8,
    "start_time": "2021-06-12T00:32:08.793Z"
   },
   {
    "duration": 19,
    "start_time": "2021-06-12T00:32:08.803Z"
   },
   {
    "duration": 1385,
    "start_time": "2021-06-12T00:32:08.824Z"
   },
   {
    "duration": 1279,
    "start_time": "2021-06-12T00:32:10.212Z"
   },
   {
    "duration": 6,
    "start_time": "2021-06-12T00:32:11.493Z"
   },
   {
    "duration": 1493,
    "start_time": "2021-06-12T00:32:11.502Z"
   },
   {
    "duration": 5,
    "start_time": "2021-06-12T00:32:12.998Z"
   },
   {
    "duration": 18,
    "start_time": "2021-06-12T00:32:13.006Z"
   },
   {
    "duration": 10,
    "start_time": "2021-06-12T00:32:13.026Z"
   },
   {
    "duration": 7,
    "start_time": "2021-06-12T00:32:13.064Z"
   },
   {
    "duration": 21,
    "start_time": "2021-06-12T00:32:13.074Z"
   },
   {
    "duration": 10,
    "start_time": "2021-06-12T00:32:13.098Z"
   },
   {
    "duration": 13,
    "start_time": "2021-06-12T00:32:13.111Z"
   },
   {
    "duration": 49,
    "start_time": "2021-06-12T00:33:11.276Z"
   },
   {
    "duration": 49,
    "start_time": "2021-06-12T00:34:48.035Z"
   },
   {
    "duration": 1449,
    "start_time": "2021-06-12T00:35:16.989Z"
   },
   {
    "duration": 52,
    "start_time": "2021-06-12T00:35:18.441Z"
   },
   {
    "duration": 26,
    "start_time": "2021-06-12T00:35:18.496Z"
   },
   {
    "duration": 73,
    "start_time": "2021-06-12T00:35:18.525Z"
   },
   {
    "duration": 14,
    "start_time": "2021-06-12T00:35:18.601Z"
   },
   {
    "duration": 4,
    "start_time": "2021-06-12T00:35:18.617Z"
   },
   {
    "duration": 48,
    "start_time": "2021-06-12T00:35:18.623Z"
   },
   {
    "duration": 18,
    "start_time": "2021-06-12T00:35:18.675Z"
   },
   {
    "duration": 12,
    "start_time": "2021-06-12T00:35:18.699Z"
   },
   {
    "duration": 59,
    "start_time": "2021-06-12T00:35:18.714Z"
   },
   {
    "duration": 10,
    "start_time": "2021-06-12T00:35:18.778Z"
   },
   {
    "duration": 18,
    "start_time": "2021-06-12T00:35:18.793Z"
   },
   {
    "duration": 48,
    "start_time": "2021-06-12T00:35:18.815Z"
   },
   {
    "duration": 9,
    "start_time": "2021-06-12T00:35:18.866Z"
   },
   {
    "duration": 17,
    "start_time": "2021-06-12T00:35:18.877Z"
   },
   {
    "duration": 11,
    "start_time": "2021-06-12T00:35:18.896Z"
   },
   {
    "duration": 52,
    "start_time": "2021-06-12T00:35:18.910Z"
   },
   {
    "duration": 30,
    "start_time": "2021-06-12T00:35:18.965Z"
   },
   {
    "duration": 73,
    "start_time": "2021-06-12T00:35:18.998Z"
   },
   {
    "duration": 20,
    "start_time": "2021-06-12T00:35:19.074Z"
   },
   {
    "duration": 480,
    "start_time": "2021-06-12T00:35:19.096Z"
   },
   {
    "duration": 11,
    "start_time": "2021-06-12T00:35:19.578Z"
   },
   {
    "duration": 8,
    "start_time": "2021-06-12T00:35:19.592Z"
   },
   {
    "duration": 12,
    "start_time": "2021-06-12T00:35:19.603Z"
   },
   {
    "duration": 7,
    "start_time": "2021-06-12T00:35:19.618Z"
   },
   {
    "duration": 36,
    "start_time": "2021-06-12T00:35:19.662Z"
   },
   {
    "duration": 23,
    "start_time": "2021-06-12T00:35:19.703Z"
   },
   {
    "duration": 59,
    "start_time": "2021-06-12T00:35:19.730Z"
   },
   {
    "duration": 657,
    "start_time": "2021-06-12T00:35:19.792Z"
   },
   {
    "duration": 25,
    "start_time": "2021-06-12T00:35:20.453Z"
   },
   {
    "duration": 8,
    "start_time": "2021-06-12T00:35:20.481Z"
   },
   {
    "duration": 11,
    "start_time": "2021-06-12T00:35:20.492Z"
   },
   {
    "duration": 18,
    "start_time": "2021-06-12T00:35:20.505Z"
   },
   {
    "duration": 57,
    "start_time": "2021-06-12T00:35:20.526Z"
   },
   {
    "duration": 566,
    "start_time": "2021-06-12T00:35:20.586Z"
   },
   {
    "duration": 534,
    "start_time": "2021-06-12T00:35:21.161Z"
   },
   {
    "duration": 556,
    "start_time": "2021-06-12T00:35:21.698Z"
   },
   {
    "duration": 11,
    "start_time": "2021-06-12T00:35:22.261Z"
   },
   {
    "duration": 15,
    "start_time": "2021-06-12T00:35:22.276Z"
   },
   {
    "duration": 6,
    "start_time": "2021-06-12T00:35:22.294Z"
   },
   {
    "duration": 19,
    "start_time": "2021-06-12T00:35:22.302Z"
   },
   {
    "duration": 1248,
    "start_time": "2021-06-12T00:35:22.323Z"
   },
   {
    "duration": 1274,
    "start_time": "2021-06-12T00:35:23.575Z"
   },
   {
    "duration": 12,
    "start_time": "2021-06-12T00:35:24.852Z"
   },
   {
    "duration": 1232,
    "start_time": "2021-06-12T00:35:24.867Z"
   },
   {
    "duration": 4,
    "start_time": "2021-06-12T00:35:26.101Z"
   },
   {
    "duration": 14,
    "start_time": "2021-06-12T00:35:26.107Z"
   },
   {
    "duration": 4,
    "start_time": "2021-06-12T00:35:26.123Z"
   },
   {
    "duration": 34,
    "start_time": "2021-06-12T00:35:26.130Z"
   },
   {
    "duration": 17,
    "start_time": "2021-06-12T00:35:26.167Z"
   },
   {
    "duration": 5,
    "start_time": "2021-06-12T00:35:26.187Z"
   },
   {
    "duration": 10,
    "start_time": "2021-06-12T00:35:26.194Z"
   },
   {
    "duration": 1437,
    "start_time": "2021-06-12T00:51:16.100Z"
   },
   {
    "duration": 50,
    "start_time": "2021-06-12T00:51:17.539Z"
   },
   {
    "duration": 27,
    "start_time": "2021-06-12T00:51:17.592Z"
   },
   {
    "duration": 64,
    "start_time": "2021-06-12T00:51:17.622Z"
   },
   {
    "duration": 14,
    "start_time": "2021-06-12T00:51:17.689Z"
   },
   {
    "duration": 3,
    "start_time": "2021-06-12T00:51:17.706Z"
   },
   {
    "duration": 50,
    "start_time": "2021-06-12T00:51:17.712Z"
   },
   {
    "duration": 11,
    "start_time": "2021-06-12T00:51:17.766Z"
   },
   {
    "duration": 12,
    "start_time": "2021-06-12T00:51:17.780Z"
   },
   {
    "duration": 15,
    "start_time": "2021-06-12T00:51:17.795Z"
   },
   {
    "duration": 6,
    "start_time": "2021-06-12T00:51:17.813Z"
   },
   {
    "duration": 14,
    "start_time": "2021-06-12T00:51:17.863Z"
   },
   {
    "duration": 12,
    "start_time": "2021-06-12T00:51:17.879Z"
   },
   {
    "duration": 13,
    "start_time": "2021-06-12T00:51:17.893Z"
   },
   {
    "duration": 9,
    "start_time": "2021-06-12T00:51:17.909Z"
   },
   {
    "duration": 8,
    "start_time": "2021-06-12T00:51:17.920Z"
   },
   {
    "duration": 53,
    "start_time": "2021-06-12T00:51:17.930Z"
   },
   {
    "duration": 26,
    "start_time": "2021-06-12T00:51:17.985Z"
   },
   {
    "duration": 82,
    "start_time": "2021-06-12T00:51:18.013Z"
   },
   {
    "duration": 13,
    "start_time": "2021-06-12T00:51:18.098Z"
   },
   {
    "duration": 467,
    "start_time": "2021-06-12T00:51:18.113Z"
   },
   {
    "duration": 10,
    "start_time": "2021-06-12T00:51:18.582Z"
   },
   {
    "duration": 3,
    "start_time": "2021-06-12T00:51:18.598Z"
   },
   {
    "duration": 12,
    "start_time": "2021-06-12T00:51:18.604Z"
   },
   {
    "duration": 43,
    "start_time": "2021-06-12T00:51:18.619Z"
   },
   {
    "duration": 34,
    "start_time": "2021-06-12T00:51:18.665Z"
   },
   {
    "duration": 19,
    "start_time": "2021-06-12T00:51:18.702Z"
   },
   {
    "duration": 51,
    "start_time": "2021-06-12T00:51:18.723Z"
   },
   {
    "duration": 453,
    "start_time": "2021-06-12T00:51:18.776Z"
   },
   {
    "duration": 31,
    "start_time": "2021-06-12T00:51:19.232Z"
   },
   {
    "duration": 9,
    "start_time": "2021-06-12T00:51:19.265Z"
   },
   {
    "duration": 6,
    "start_time": "2021-06-12T00:51:19.276Z"
   },
   {
    "duration": 16,
    "start_time": "2021-06-12T00:51:19.284Z"
   },
   {
    "duration": 69,
    "start_time": "2021-06-12T00:51:19.302Z"
   },
   {
    "duration": 552,
    "start_time": "2021-06-12T00:51:19.373Z"
   },
   {
    "duration": 553,
    "start_time": "2021-06-12T00:51:19.927Z"
   },
   {
    "duration": 566,
    "start_time": "2021-06-12T00:51:20.483Z"
   },
   {
    "duration": 14,
    "start_time": "2021-06-12T00:51:21.051Z"
   },
   {
    "duration": 5,
    "start_time": "2021-06-12T00:51:21.068Z"
   },
   {
    "duration": 12,
    "start_time": "2021-06-12T00:51:21.075Z"
   },
   {
    "duration": 17,
    "start_time": "2021-06-12T00:51:21.089Z"
   },
   {
    "duration": 1245,
    "start_time": "2021-06-12T00:51:21.108Z"
   },
   {
    "duration": 1184,
    "start_time": "2021-06-12T00:51:22.355Z"
   },
   {
    "duration": 6,
    "start_time": "2021-06-12T00:51:23.541Z"
   },
   {
    "duration": 1158,
    "start_time": "2021-06-12T00:51:23.562Z"
   },
   {
    "duration": 3,
    "start_time": "2021-06-12T00:51:24.723Z"
   },
   {
    "duration": 16,
    "start_time": "2021-06-12T00:51:24.728Z"
   },
   {
    "duration": 5,
    "start_time": "2021-06-12T00:51:24.761Z"
   },
   {
    "duration": 7,
    "start_time": "2021-06-12T00:51:24.768Z"
   },
   {
    "duration": 15,
    "start_time": "2021-06-12T00:51:24.777Z"
   },
   {
    "duration": 7,
    "start_time": "2021-06-12T00:51:24.795Z"
   },
   {
    "duration": 8,
    "start_time": "2021-06-12T00:51:24.804Z"
   },
   {
    "duration": 484,
    "start_time": "2021-06-12T01:06:58.253Z"
   },
   {
    "duration": 516,
    "start_time": "2021-06-12T01:07:56.031Z"
   },
   {
    "duration": 1466,
    "start_time": "2021-06-12T01:09:05.271Z"
   },
   {
    "duration": 49,
    "start_time": "2021-06-12T01:09:06.740Z"
   },
   {
    "duration": 27,
    "start_time": "2021-06-12T01:09:06.791Z"
   },
   {
    "duration": 59,
    "start_time": "2021-06-12T01:09:06.821Z"
   },
   {
    "duration": 14,
    "start_time": "2021-06-12T01:09:06.883Z"
   },
   {
    "duration": 6,
    "start_time": "2021-06-12T01:09:06.899Z"
   },
   {
    "duration": 35,
    "start_time": "2021-06-12T01:09:06.908Z"
   },
   {
    "duration": 26,
    "start_time": "2021-06-12T01:09:06.947Z"
   },
   {
    "duration": 13,
    "start_time": "2021-06-12T01:09:06.976Z"
   },
   {
    "duration": 13,
    "start_time": "2021-06-12T01:09:06.991Z"
   },
   {
    "duration": 10,
    "start_time": "2021-06-12T01:09:07.006Z"
   },
   {
    "duration": 49,
    "start_time": "2021-06-12T01:09:07.019Z"
   },
   {
    "duration": 9,
    "start_time": "2021-06-12T01:09:07.070Z"
   },
   {
    "duration": 12,
    "start_time": "2021-06-12T01:09:07.081Z"
   },
   {
    "duration": 10,
    "start_time": "2021-06-12T01:09:07.095Z"
   },
   {
    "duration": 15,
    "start_time": "2021-06-12T01:09:07.108Z"
   },
   {
    "duration": 51,
    "start_time": "2021-06-12T01:09:07.125Z"
   },
   {
    "duration": 26,
    "start_time": "2021-06-12T01:09:07.178Z"
   },
   {
    "duration": 70,
    "start_time": "2021-06-12T01:09:07.207Z"
   },
   {
    "duration": 13,
    "start_time": "2021-06-12T01:09:07.280Z"
   },
   {
    "duration": 461,
    "start_time": "2021-06-12T01:09:07.295Z"
   },
   {
    "duration": 10,
    "start_time": "2021-06-12T01:09:07.762Z"
   },
   {
    "duration": 4,
    "start_time": "2021-06-12T01:09:07.778Z"
   },
   {
    "duration": 14,
    "start_time": "2021-06-12T01:09:07.785Z"
   },
   {
    "duration": 8,
    "start_time": "2021-06-12T01:09:07.802Z"
   },
   {
    "duration": 76,
    "start_time": "2021-06-12T01:09:07.813Z"
   },
   {
    "duration": 21,
    "start_time": "2021-06-12T01:09:07.891Z"
   },
   {
    "duration": 30,
    "start_time": "2021-06-12T01:09:07.914Z"
   },
   {
    "duration": 455,
    "start_time": "2021-06-12T01:09:07.947Z"
   },
   {
    "duration": 14,
    "start_time": "2021-06-12T01:09:08.404Z"
   },
   {
    "duration": 11,
    "start_time": "2021-06-12T01:09:08.420Z"
   },
   {
    "duration": 29,
    "start_time": "2021-06-12T01:09:08.433Z"
   },
   {
    "duration": 30,
    "start_time": "2021-06-12T01:09:08.464Z"
   },
   {
    "duration": 30,
    "start_time": "2021-06-12T01:09:08.497Z"
   },
   {
    "duration": 563,
    "start_time": "2021-06-12T01:09:08.529Z"
   },
   {
    "duration": 544,
    "start_time": "2021-06-12T01:09:09.094Z"
   },
   {
    "duration": 561,
    "start_time": "2021-06-12T01:09:09.640Z"
   },
   {
    "duration": 538,
    "start_time": "2021-06-12T01:09:10.203Z"
   },
   {
    "duration": 599,
    "start_time": "2021-06-12T01:09:10.743Z"
   },
   {
    "duration": 20,
    "start_time": "2021-06-12T01:09:11.344Z"
   },
   {
    "duration": 6,
    "start_time": "2021-06-12T01:09:11.367Z"
   },
   {
    "duration": 10,
    "start_time": "2021-06-12T01:09:11.375Z"
   },
   {
    "duration": 18,
    "start_time": "2021-06-12T01:09:11.388Z"
   },
   {
    "duration": 1186,
    "start_time": "2021-06-12T01:09:11.409Z"
   },
   {
    "duration": 1148,
    "start_time": "2021-06-12T01:09:12.597Z"
   },
   {
    "duration": 14,
    "start_time": "2021-06-12T01:09:13.749Z"
   },
   {
    "duration": 1144,
    "start_time": "2021-06-12T01:09:13.766Z"
   },
   {
    "duration": 4,
    "start_time": "2021-06-12T01:09:14.913Z"
   },
   {
    "duration": 15,
    "start_time": "2021-06-12T01:09:14.919Z"
   },
   {
    "duration": 5,
    "start_time": "2021-06-12T01:09:14.936Z"
   },
   {
    "duration": 5,
    "start_time": "2021-06-12T01:09:14.963Z"
   },
   {
    "duration": 18,
    "start_time": "2021-06-12T01:09:14.971Z"
   },
   {
    "duration": 7,
    "start_time": "2021-06-12T01:09:14.991Z"
   },
   {
    "duration": 17,
    "start_time": "2021-06-12T01:09:15.001Z"
   },
   {
    "duration": 205,
    "start_time": "2021-06-12T09:39:34.087Z"
   },
   {
    "duration": 1097,
    "start_time": "2021-06-12T09:39:43.073Z"
   },
   {
    "duration": 37,
    "start_time": "2021-06-12T09:39:44.171Z"
   },
   {
    "duration": 17,
    "start_time": "2021-06-12T09:39:44.210Z"
   },
   {
    "duration": 29,
    "start_time": "2021-06-12T09:39:44.229Z"
   },
   {
    "duration": 25,
    "start_time": "2021-06-12T09:39:44.260Z"
   },
   {
    "duration": 3,
    "start_time": "2021-06-12T09:39:44.286Z"
   },
   {
    "duration": 13,
    "start_time": "2021-06-12T09:39:44.291Z"
   },
   {
    "duration": 11,
    "start_time": "2021-06-12T09:39:44.306Z"
   },
   {
    "duration": 10,
    "start_time": "2021-06-12T09:39:44.319Z"
   },
   {
    "duration": 11,
    "start_time": "2021-06-12T09:39:44.331Z"
   },
   {
    "duration": 8,
    "start_time": "2021-06-12T09:39:44.344Z"
   },
   {
    "duration": 31,
    "start_time": "2021-06-12T09:39:44.354Z"
   },
   {
    "duration": 6,
    "start_time": "2021-06-12T09:39:44.386Z"
   },
   {
    "duration": 8,
    "start_time": "2021-06-12T09:39:44.393Z"
   },
   {
    "duration": 8,
    "start_time": "2021-06-12T09:39:44.402Z"
   },
   {
    "duration": 5,
    "start_time": "2021-06-12T09:39:44.412Z"
   },
   {
    "duration": 16,
    "start_time": "2021-06-12T09:39:44.419Z"
   },
   {
    "duration": 15,
    "start_time": "2021-06-12T09:39:44.437Z"
   },
   {
    "duration": 78,
    "start_time": "2021-06-12T09:39:44.453Z"
   },
   {
    "duration": 10,
    "start_time": "2021-06-12T09:39:44.533Z"
   },
   {
    "duration": 314,
    "start_time": "2021-06-12T09:39:44.545Z"
   },
   {
    "duration": 9,
    "start_time": "2021-06-12T09:39:44.861Z"
   },
   {
    "duration": 3,
    "start_time": "2021-06-12T09:39:44.885Z"
   },
   {
    "duration": 12,
    "start_time": "2021-06-12T09:39:44.891Z"
   },
   {
    "duration": 6,
    "start_time": "2021-06-12T09:39:44.904Z"
   },
   {
    "duration": 23,
    "start_time": "2021-06-12T09:39:44.911Z"
   },
   {
    "duration": 14,
    "start_time": "2021-06-12T09:39:44.935Z"
   },
   {
    "duration": 43,
    "start_time": "2021-06-12T09:39:44.951Z"
   },
   {
    "duration": 278,
    "start_time": "2021-06-12T09:39:44.996Z"
   },
   {
    "duration": 14,
    "start_time": "2021-06-12T09:39:45.276Z"
   },
   {
    "duration": 5,
    "start_time": "2021-06-12T09:39:45.292Z"
   },
   {
    "duration": 8,
    "start_time": "2021-06-12T09:39:45.299Z"
   },
   {
    "duration": 10,
    "start_time": "2021-06-12T09:39:45.308Z"
   },
   {
    "duration": 17,
    "start_time": "2021-06-12T09:39:45.320Z"
   },
   {
    "duration": 1812,
    "start_time": "2021-06-12T09:39:45.338Z"
   },
   {
    "duration": 360,
    "start_time": "2021-06-12T09:39:47.151Z"
   },
   {
    "duration": 361,
    "start_time": "2021-06-12T09:39:47.512Z"
   },
   {
    "duration": 359,
    "start_time": "2021-06-12T09:39:47.875Z"
   },
   {
    "duration": 327,
    "start_time": "2021-06-12T09:39:48.236Z"
   },
   {
    "duration": 322,
    "start_time": "2021-06-12T09:39:48.564Z"
   },
   {
    "duration": 8,
    "start_time": "2021-06-12T09:39:48.888Z"
   },
   {
    "duration": 4,
    "start_time": "2021-06-12T09:39:48.898Z"
   },
   {
    "duration": 5,
    "start_time": "2021-06-12T09:39:48.904Z"
   },
   {
    "duration": 12,
    "start_time": "2021-06-12T09:39:48.911Z"
   },
   {
    "duration": 727,
    "start_time": "2021-06-12T09:39:48.924Z"
   },
   {
    "duration": 696,
    "start_time": "2021-06-12T09:39:49.653Z"
   },
   {
    "duration": 5,
    "start_time": "2021-06-12T09:39:50.350Z"
   },
   {
    "duration": 786,
    "start_time": "2021-06-12T09:39:50.356Z"
   },
   {
    "duration": 3,
    "start_time": "2021-06-12T09:39:51.143Z"
   },
   {
    "duration": 11,
    "start_time": "2021-06-12T09:39:51.147Z"
   },
   {
    "duration": 5,
    "start_time": "2021-06-12T09:39:51.160Z"
   },
   {
    "duration": 21,
    "start_time": "2021-06-12T09:39:51.166Z"
   },
   {
    "duration": 12,
    "start_time": "2021-06-12T09:39:51.188Z"
   },
   {
    "duration": 2,
    "start_time": "2021-06-12T09:39:51.202Z"
   },
   {
    "duration": 10,
    "start_time": "2021-06-12T09:39:51.206Z"
   },
   {
    "duration": 6,
    "start_time": "2021-06-12T09:41:54.357Z"
   },
   {
    "duration": 897,
    "start_time": "2021-06-12T09:42:46.974Z"
   },
   {
    "duration": 667,
    "start_time": "2021-06-12T09:45:20.076Z"
   },
   {
    "duration": 403,
    "start_time": "2021-06-12T09:46:51.602Z"
   },
   {
    "duration": 262,
    "start_time": "2021-06-12T09:47:33.385Z"
   },
   {
    "duration": 1084,
    "start_time": "2021-06-12T09:48:00.161Z"
   },
   {
    "duration": 5,
    "start_time": "2021-06-12T09:48:59.197Z"
   },
   {
    "duration": 901,
    "start_time": "2021-06-12T09:48:59.920Z"
   },
   {
    "duration": 9,
    "start_time": "2021-06-12T09:49:38.189Z"
   },
   {
    "duration": 482,
    "start_time": "2021-06-12T09:52:15.256Z"
   },
   {
    "duration": 184,
    "start_time": "2021-06-12T09:53:40.889Z"
   },
   {
    "duration": 209,
    "start_time": "2021-06-12T09:53:50.787Z"
   },
   {
    "duration": 344,
    "start_time": "2021-06-12T09:56:04.981Z"
   },
   {
    "duration": 663,
    "start_time": "2021-06-12T09:57:11.527Z"
   },
   {
    "duration": 656,
    "start_time": "2021-06-12T09:58:45.236Z"
   },
   {
    "duration": 7,
    "start_time": "2021-06-12T10:00:49.901Z"
   },
   {
    "duration": 984,
    "start_time": "2021-06-12T10:00:50.497Z"
   },
   {
    "duration": 873,
    "start_time": "2021-06-12T10:01:16.877Z"
   },
   {
    "duration": 8,
    "start_time": "2021-06-12T10:07:05.918Z"
   },
   {
    "duration": 11,
    "start_time": "2021-06-12T10:07:08.743Z"
   },
   {
    "duration": 8,
    "start_time": "2021-06-12T10:07:09.863Z"
   },
   {
    "duration": 10,
    "start_time": "2021-06-12T10:07:19.730Z"
   },
   {
    "duration": 198,
    "start_time": "2021-06-12T10:08:37.165Z"
   },
   {
    "duration": 5423,
    "start_time": "2021-06-12T10:08:55.737Z"
   },
   {
    "duration": 12,
    "start_time": "2021-06-12T10:09:21.611Z"
   },
   {
    "duration": 5971,
    "start_time": "2021-06-12T10:10:11.899Z"
   },
   {
    "duration": 1015,
    "start_time": "2021-06-12T10:10:26.808Z"
   },
   {
    "duration": 37,
    "start_time": "2021-06-12T10:10:27.825Z"
   },
   {
    "duration": 17,
    "start_time": "2021-06-12T10:10:27.864Z"
   },
   {
    "duration": 28,
    "start_time": "2021-06-12T10:10:27.883Z"
   },
   {
    "duration": 8,
    "start_time": "2021-06-12T10:10:27.913Z"
   },
   {
    "duration": 2,
    "start_time": "2021-06-12T10:10:27.923Z"
   },
   {
    "duration": 12,
    "start_time": "2021-06-12T10:10:27.927Z"
   },
   {
    "duration": 8,
    "start_time": "2021-06-12T10:10:27.941Z"
   },
   {
    "duration": 35,
    "start_time": "2021-06-12T10:10:27.951Z"
   },
   {
    "duration": 7,
    "start_time": "2021-06-12T10:10:27.988Z"
   },
   {
    "duration": 3,
    "start_time": "2021-06-12T10:10:27.997Z"
   },
   {
    "duration": 10,
    "start_time": "2021-06-12T10:10:28.002Z"
   },
   {
    "duration": 5,
    "start_time": "2021-06-12T10:10:28.014Z"
   },
   {
    "duration": 7,
    "start_time": "2021-06-12T10:10:28.021Z"
   },
   {
    "duration": 5,
    "start_time": "2021-06-12T10:10:28.029Z"
   },
   {
    "duration": 4,
    "start_time": "2021-06-12T10:10:28.036Z"
   },
   {
    "duration": 51,
    "start_time": "2021-06-12T10:10:28.042Z"
   },
   {
    "duration": 15,
    "start_time": "2021-06-12T10:10:28.095Z"
   },
   {
    "duration": 35,
    "start_time": "2021-06-12T10:10:28.112Z"
   },
   {
    "duration": 8,
    "start_time": "2021-06-12T10:10:28.149Z"
   },
   {
    "duration": 295,
    "start_time": "2021-06-12T10:10:28.159Z"
   },
   {
    "duration": 7,
    "start_time": "2021-06-12T10:10:28.456Z"
   },
   {
    "duration": 3,
    "start_time": "2021-06-12T10:10:28.466Z"
   },
   {
    "duration": 18,
    "start_time": "2021-06-12T10:10:28.471Z"
   },
   {
    "duration": 5,
    "start_time": "2021-06-12T10:10:28.491Z"
   },
   {
    "duration": 22,
    "start_time": "2021-06-12T10:10:28.497Z"
   },
   {
    "duration": 17,
    "start_time": "2021-06-12T10:10:28.521Z"
   },
   {
    "duration": 13,
    "start_time": "2021-06-12T10:10:28.539Z"
   },
   {
    "duration": 263,
    "start_time": "2021-06-12T10:10:28.585Z"
   },
   {
    "duration": 10,
    "start_time": "2021-06-12T10:10:28.849Z"
   },
   {
    "duration": 6,
    "start_time": "2021-06-12T10:10:28.860Z"
   },
   {
    "duration": 4,
    "start_time": "2021-06-12T10:10:28.868Z"
   },
   {
    "duration": 18,
    "start_time": "2021-06-12T10:10:28.873Z"
   },
   {
    "duration": 17,
    "start_time": "2021-06-12T10:10:28.892Z"
   },
   {
    "duration": 5,
    "start_time": "2021-06-12T10:10:28.910Z"
   },
   {
    "duration": 931,
    "start_time": "2021-06-12T10:10:28.916Z"
   },
   {
    "duration": 9,
    "start_time": "2021-06-12T10:10:29.849Z"
   },
   {
    "duration": 25,
    "start_time": "2021-06-12T10:10:29.860Z"
   },
   {
    "duration": 338,
    "start_time": "2021-06-12T10:10:29.887Z"
   },
   {
    "duration": 333,
    "start_time": "2021-06-12T10:10:30.227Z"
   },
   {
    "duration": 396,
    "start_time": "2021-06-12T10:10:30.562Z"
   },
   {
    "duration": 320,
    "start_time": "2021-06-12T10:10:30.960Z"
   },
   {
    "duration": 300,
    "start_time": "2021-06-12T10:10:31.284Z"
   },
   {
    "duration": 7,
    "start_time": "2021-06-12T10:10:31.586Z"
   },
   {
    "duration": 7,
    "start_time": "2021-06-12T10:10:31.594Z"
   },
   {
    "duration": 9,
    "start_time": "2021-06-12T10:10:31.602Z"
   },
   {
    "duration": 18,
    "start_time": "2021-06-12T10:10:31.612Z"
   },
   {
    "duration": 677,
    "start_time": "2021-06-12T10:10:31.631Z"
   },
   {
    "duration": 710,
    "start_time": "2021-06-12T10:10:32.310Z"
   },
   {
    "duration": 5,
    "start_time": "2021-06-12T10:10:33.022Z"
   },
   {
    "duration": 703,
    "start_time": "2021-06-12T10:10:33.028Z"
   },
   {
    "duration": 3,
    "start_time": "2021-06-12T10:10:33.733Z"
   },
   {
    "duration": 9,
    "start_time": "2021-06-12T10:10:33.738Z"
   },
   {
    "duration": 3,
    "start_time": "2021-06-12T10:10:33.749Z"
   },
   {
    "duration": 6,
    "start_time": "2021-06-12T10:10:33.754Z"
   },
   {
    "duration": 28,
    "start_time": "2021-06-12T10:10:33.761Z"
   },
   {
    "duration": 3,
    "start_time": "2021-06-12T10:10:33.791Z"
   },
   {
    "duration": 7,
    "start_time": "2021-06-12T10:10:33.795Z"
   },
   {
    "duration": 5432,
    "start_time": "2021-06-12T10:11:58.747Z"
   },
   {
    "duration": 1000,
    "start_time": "2021-06-12T10:12:08.628Z"
   },
   {
    "duration": 38,
    "start_time": "2021-06-12T10:12:09.630Z"
   },
   {
    "duration": 16,
    "start_time": "2021-06-12T10:12:09.670Z"
   },
   {
    "duration": 33,
    "start_time": "2021-06-12T10:12:09.688Z"
   },
   {
    "duration": 10,
    "start_time": "2021-06-12T10:12:09.722Z"
   },
   {
    "duration": 3,
    "start_time": "2021-06-12T10:12:09.734Z"
   },
   {
    "duration": 19,
    "start_time": "2021-06-12T10:12:09.738Z"
   },
   {
    "duration": 26,
    "start_time": "2021-06-12T10:12:09.759Z"
   },
   {
    "duration": 9,
    "start_time": "2021-06-12T10:12:09.787Z"
   },
   {
    "duration": 10,
    "start_time": "2021-06-12T10:12:09.797Z"
   },
   {
    "duration": 6,
    "start_time": "2021-06-12T10:12:09.808Z"
   },
   {
    "duration": 11,
    "start_time": "2021-06-12T10:12:09.816Z"
   },
   {
    "duration": 5,
    "start_time": "2021-06-12T10:12:09.829Z"
   },
   {
    "duration": 6,
    "start_time": "2021-06-12T10:12:09.836Z"
   },
   {
    "duration": 13,
    "start_time": "2021-06-12T10:12:09.844Z"
   },
   {
    "duration": 28,
    "start_time": "2021-06-12T10:12:09.859Z"
   },
   {
    "duration": 18,
    "start_time": "2021-06-12T10:12:09.889Z"
   },
   {
    "duration": 16,
    "start_time": "2021-06-12T10:12:09.908Z"
   },
   {
    "duration": 35,
    "start_time": "2021-06-12T10:12:09.925Z"
   },
   {
    "duration": 29,
    "start_time": "2021-06-12T10:12:09.962Z"
   },
   {
    "duration": 297,
    "start_time": "2021-06-12T10:12:09.992Z"
   },
   {
    "duration": 7,
    "start_time": "2021-06-12T10:12:10.291Z"
   },
   {
    "duration": 6,
    "start_time": "2021-06-12T10:12:10.301Z"
   },
   {
    "duration": 12,
    "start_time": "2021-06-12T10:12:10.309Z"
   },
   {
    "duration": 10,
    "start_time": "2021-06-12T10:12:10.322Z"
   },
   {
    "duration": 22,
    "start_time": "2021-06-12T10:12:10.334Z"
   },
   {
    "duration": 33,
    "start_time": "2021-06-12T10:12:10.358Z"
   },
   {
    "duration": 12,
    "start_time": "2021-06-12T10:12:10.393Z"
   },
   {
    "duration": 282,
    "start_time": "2021-06-12T10:12:10.407Z"
   },
   {
    "duration": 10,
    "start_time": "2021-06-12T10:12:10.691Z"
   },
   {
    "duration": 6,
    "start_time": "2021-06-12T10:12:10.702Z"
   },
   {
    "duration": 7,
    "start_time": "2021-06-12T10:12:10.709Z"
   },
   {
    "duration": 17,
    "start_time": "2021-06-12T10:12:10.718Z"
   },
   {
    "duration": 21,
    "start_time": "2021-06-12T10:12:10.737Z"
   },
   {
    "duration": 25,
    "start_time": "2021-06-12T10:12:10.760Z"
   },
   {
    "duration": 894,
    "start_time": "2021-06-12T10:12:10.786Z"
   },
   {
    "duration": 6,
    "start_time": "2021-06-12T10:12:11.685Z"
   },
   {
    "duration": 19,
    "start_time": "2021-06-12T10:12:11.693Z"
   },
   {
    "duration": 335,
    "start_time": "2021-06-12T10:12:11.713Z"
   },
   {
    "duration": 326,
    "start_time": "2021-06-12T10:12:12.049Z"
   },
   {
    "duration": 393,
    "start_time": "2021-06-12T10:12:12.377Z"
   },
   {
    "duration": 328,
    "start_time": "2021-06-12T10:12:12.771Z"
   },
   {
    "duration": 294,
    "start_time": "2021-06-12T10:12:13.101Z"
   },
   {
    "duration": 7,
    "start_time": "2021-06-12T10:12:13.396Z"
   },
   {
    "duration": 5,
    "start_time": "2021-06-12T10:12:13.404Z"
   },
   {
    "duration": 6,
    "start_time": "2021-06-12T10:12:13.410Z"
   },
   {
    "duration": 10,
    "start_time": "2021-06-12T10:12:13.417Z"
   },
   {
    "duration": 688,
    "start_time": "2021-06-12T10:12:13.429Z"
   },
   {
    "duration": 733,
    "start_time": "2021-06-12T10:12:14.119Z"
   },
   {
    "duration": 4,
    "start_time": "2021-06-12T10:12:14.854Z"
   },
   {
    "duration": 709,
    "start_time": "2021-06-12T10:12:14.859Z"
   },
   {
    "duration": 2,
    "start_time": "2021-06-12T10:12:15.570Z"
   },
   {
    "duration": 19,
    "start_time": "2021-06-12T10:12:15.574Z"
   },
   {
    "duration": 4,
    "start_time": "2021-06-12T10:12:15.594Z"
   },
   {
    "duration": 5,
    "start_time": "2021-06-12T10:12:15.600Z"
   },
   {
    "duration": 11,
    "start_time": "2021-06-12T10:12:15.607Z"
   },
   {
    "duration": 2,
    "start_time": "2021-06-12T10:12:15.620Z"
   },
   {
    "duration": 5,
    "start_time": "2021-06-12T10:12:15.624Z"
   },
   {
    "duration": 328,
    "start_time": "2021-06-12T10:13:12.486Z"
   },
   {
    "duration": 10,
    "start_time": "2021-06-12T10:14:12.722Z"
   },
   {
    "duration": 11,
    "start_time": "2021-06-12T10:14:13.791Z"
   },
   {
    "duration": 5258,
    "start_time": "2021-06-12T10:14:44.886Z"
   },
   {
    "duration": 282,
    "start_time": "2021-06-12T10:14:49.865Z"
   },
   {
    "duration": 995,
    "start_time": "2021-06-12T10:14:57.437Z"
   },
   {
    "duration": 38,
    "start_time": "2021-06-12T10:14:58.434Z"
   },
   {
    "duration": 16,
    "start_time": "2021-06-12T10:14:58.474Z"
   },
   {
    "duration": 34,
    "start_time": "2021-06-12T10:14:58.492Z"
   },
   {
    "duration": 9,
    "start_time": "2021-06-12T10:14:58.527Z"
   },
   {
    "duration": 15,
    "start_time": "2021-06-12T10:14:58.538Z"
   },
   {
    "duration": 19,
    "start_time": "2021-06-12T10:14:58.555Z"
   },
   {
    "duration": 15,
    "start_time": "2021-06-12T10:14:58.576Z"
   },
   {
    "duration": 9,
    "start_time": "2021-06-12T10:14:58.593Z"
   },
   {
    "duration": 7,
    "start_time": "2021-06-12T10:14:58.604Z"
   },
   {
    "duration": 3,
    "start_time": "2021-06-12T10:14:58.613Z"
   },
   {
    "duration": 12,
    "start_time": "2021-06-12T10:14:58.617Z"
   },
   {
    "duration": 6,
    "start_time": "2021-06-12T10:14:58.630Z"
   },
   {
    "duration": 7,
    "start_time": "2021-06-12T10:14:58.638Z"
   },
   {
    "duration": 6,
    "start_time": "2021-06-12T10:14:58.646Z"
   },
   {
    "duration": 34,
    "start_time": "2021-06-12T10:14:58.654Z"
   },
   {
    "duration": 21,
    "start_time": "2021-06-12T10:14:58.689Z"
   },
   {
    "duration": 16,
    "start_time": "2021-06-12T10:14:58.712Z"
   },
   {
    "duration": 33,
    "start_time": "2021-06-12T10:14:58.729Z"
   },
   {
    "duration": 28,
    "start_time": "2021-06-12T10:14:58.763Z"
   },
   {
    "duration": 295,
    "start_time": "2021-06-12T10:14:58.792Z"
   },
   {
    "duration": 6,
    "start_time": "2021-06-12T10:14:59.089Z"
   },
   {
    "duration": 3,
    "start_time": "2021-06-12T10:14:59.099Z"
   },
   {
    "duration": 7,
    "start_time": "2021-06-12T10:14:59.104Z"
   },
   {
    "duration": 6,
    "start_time": "2021-06-12T10:14:59.113Z"
   },
   {
    "duration": 20,
    "start_time": "2021-06-12T10:14:59.121Z"
   },
   {
    "duration": 13,
    "start_time": "2021-06-12T10:14:59.142Z"
   },
   {
    "duration": 13,
    "start_time": "2021-06-12T10:14:59.185Z"
   },
   {
    "duration": 277,
    "start_time": "2021-06-12T10:14:59.199Z"
   },
   {
    "duration": 13,
    "start_time": "2021-06-12T10:14:59.485Z"
   },
   {
    "duration": 7,
    "start_time": "2021-06-12T10:14:59.500Z"
   },
   {
    "duration": 5,
    "start_time": "2021-06-12T10:14:59.509Z"
   },
   {
    "duration": 10,
    "start_time": "2021-06-12T10:14:59.516Z"
   },
   {
    "duration": 21,
    "start_time": "2021-06-12T10:14:59.533Z"
   },
   {
    "duration": 31,
    "start_time": "2021-06-12T10:14:59.556Z"
   },
   {
    "duration": 946,
    "start_time": "2021-06-12T10:14:59.589Z"
   },
   {
    "duration": 8,
    "start_time": "2021-06-12T10:15:00.536Z"
   },
   {
    "duration": 17,
    "start_time": "2021-06-12T10:15:00.545Z"
   },
   {
    "duration": 352,
    "start_time": "2021-06-12T10:15:00.564Z"
   },
   {
    "duration": 338,
    "start_time": "2021-06-12T10:15:00.918Z"
   },
   {
    "duration": 408,
    "start_time": "2021-06-12T10:15:01.257Z"
   },
   {
    "duration": 346,
    "start_time": "2021-06-12T10:15:01.667Z"
   },
   {
    "duration": 317,
    "start_time": "2021-06-12T10:15:02.014Z"
   },
   {
    "duration": 8,
    "start_time": "2021-06-12T10:15:02.332Z"
   },
   {
    "duration": 15,
    "start_time": "2021-06-12T10:15:02.341Z"
   },
   {
    "duration": 6,
    "start_time": "2021-06-12T10:15:02.358Z"
   },
   {
    "duration": 20,
    "start_time": "2021-06-12T10:15:02.366Z"
   },
   {
    "duration": 717,
    "start_time": "2021-06-12T10:15:02.388Z"
   },
   {
    "duration": 759,
    "start_time": "2021-06-12T10:15:03.107Z"
   },
   {
    "duration": 5,
    "start_time": "2021-06-12T10:15:03.867Z"
   },
   {
    "duration": 771,
    "start_time": "2021-06-12T10:15:03.873Z"
   },
   {
    "duration": 39,
    "start_time": "2021-06-12T10:15:04.646Z"
   },
   {
    "duration": 13,
    "start_time": "2021-06-12T10:15:04.686Z"
   },
   {
    "duration": 5,
    "start_time": "2021-06-12T10:15:04.701Z"
   },
   {
    "duration": 5,
    "start_time": "2021-06-12T10:15:04.707Z"
   },
   {
    "duration": 9,
    "start_time": "2021-06-12T10:15:04.714Z"
   },
   {
    "duration": 2,
    "start_time": "2021-06-12T10:15:04.725Z"
   },
   {
    "duration": 5,
    "start_time": "2021-06-12T10:15:04.729Z"
   }
  ],
  "kernelspec": {
   "display_name": "Python 3",
   "language": "python",
   "name": "python3"
  },
  "language_info": {
   "codemirror_mode": {
    "name": "ipython",
    "version": 3
   },
   "file_extension": ".py",
   "mimetype": "text/x-python",
   "name": "python",
   "nbconvert_exporter": "python",
   "pygments_lexer": "ipython3",
   "version": "3.8.8"
  },
  "toc": {
   "base_numbering": 1,
   "nav_menu": {},
   "number_sections": true,
   "sideBar": true,
   "skip_h1_title": true,
   "title_cell": "Table of Contents",
   "title_sidebar": "Contents",
   "toc_cell": false,
   "toc_position": {},
   "toc_section_display": true,
   "toc_window_display": false
  }
 },
 "nbformat": 4,
 "nbformat_minor": 2
}
